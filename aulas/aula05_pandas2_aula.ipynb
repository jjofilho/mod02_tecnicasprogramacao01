{
  "cells": [
    {
      "cell_type": "markdown",
      "metadata": {
        "id": "IYaaMTjzLwqK"
      },
      "source": [
        "# Pandas"
      ]
    },
    {
      "cell_type": "markdown",
      "metadata": {
        "id": "kBjKEkMSLwqL"
      },
      "source": [
        "### DataFrame\n",
        "\n",
        "Agora que conhecemos as séries, vamos partir pro objeto do Pandas que mais utilizaremos: o **DataFrame**\n",
        "\n",
        "Como veremos a seguir, o DataFrame é uma estrutura que se assemalha a uma **tabela**.\n",
        "\n",
        "Estruturalmente, o DataFrame nada mais é que um **conjunto de Series**, uma para cada coluna (e, claro, com mesmo índice, que irão indexar as linhas).\n",
        "  \n",
        "Veremos depois como **ler um dataframe a partir de um arquivo** (que é provavelmente a forma mais comum)\n",
        "\n",
        "Há muitas formas de construir um DataFrame do zero. Todas elas fazem uso da função **pd.DataFrame()**, como veremos a seguir.\n",
        "\n",
        "Se quisermos especificar os índices de linha, o nome das colunas, e os dados, podemos passá-los separadamente:"
      ]
    },
    {
      "cell_type": "code",
      "execution_count": null,
      "metadata": {
        "id": "jvWNjSj2LwqM"
      },
      "outputs": [],
      "source": [
        "import pandas as pd\n",
        "import numpy as np"
      ]
    },
    {
      "cell_type": "code",
      "execution_count": null,
      "metadata": {
        "id": "e7qw2X_vLwqM"
      },
      "outputs": [],
      "source": [
        "# gerando uma matriz (5, 3) de numeros inteiros aleatórios entre -100 e 100\n",
        "# use a seed 42\n",
        "\n",
        "np.random.seed(42)\n",
        "\n",
        "m = np.random.randint(-100, 100, (5, 3))\n",
        "\n",
        "m"
      ]
    },
    {
      "cell_type": "code",
      "execution_count": null,
      "metadata": {
        "id": "cmuc30yjLwqN"
      },
      "outputs": [],
      "source": [
        "pd.DataFrame(m)"
      ]
    },
    {
      "cell_type": "code",
      "execution_count": null,
      "metadata": {
        "id": "Tpq6qGRtLwqN"
      },
      "outputs": [],
      "source": [
        "df_nome_linhas = pd.DataFrame(m, index = ['obs1', 'obs2','obs3', 'obs4', 'obs5'],\n",
        "                             columns=['variável_1', 'variáve_ 2','variável_3'] )\n",
        "df_nome_linhas"
      ]
    },
    {
      "cell_type": "markdown",
      "metadata": {
        "id": "nC__mcQ_LwqN"
      },
      "source": [
        "A partir de um arquivo"
      ]
    },
    {
      "cell_type": "code",
      "execution_count": null,
      "metadata": {
        "id": "simG-IuELwqO"
      },
      "outputs": [],
      "source": [
        "df = pd.read_table(\"../dados/dados_religiao_income.txt\",header=0, sep=' ')"
      ]
    },
    {
      "cell_type": "code",
      "execution_count": null,
      "metadata": {
        "id": "IxRSCv30LwqO",
        "outputId": "0389c3e2-4a3e-4a30-9a6b-b74f239cc6a4"
      },
      "outputs": [
        {
          "data": {
            "text/html": [
              "<div>\n",
              "<style scoped>\n",
              "    .dataframe tbody tr th:only-of-type {\n",
              "        vertical-align: middle;\n",
              "    }\n",
              "\n",
              "    .dataframe tbody tr th {\n",
              "        vertical-align: top;\n",
              "    }\n",
              "\n",
              "    .dataframe thead th {\n",
              "        text-align: right;\n",
              "    }\n",
              "</style>\n",
              "<table border=\"1\" class=\"dataframe\">\n",
              "  <thead>\n",
              "    <tr style=\"text-align: right;\">\n",
              "      <th></th>\n",
              "      <th>religion</th>\n",
              "      <th>&lt;$10k</th>\n",
              "      <th>$10-20k</th>\n",
              "      <th>$20-30k</th>\n",
              "      <th>$30-40k</th>\n",
              "      <th>$40-50k</th>\n",
              "      <th>$50-75k</th>\n",
              "    </tr>\n",
              "  </thead>\n",
              "  <tbody>\n",
              "    <tr>\n",
              "      <th>0</th>\n",
              "      <td>Agnostic</td>\n",
              "      <td>27</td>\n",
              "      <td>34</td>\n",
              "      <td>60</td>\n",
              "      <td>81</td>\n",
              "      <td>76</td>\n",
              "      <td>137</td>\n",
              "    </tr>\n",
              "    <tr>\n",
              "      <th>1</th>\n",
              "      <td>Atheist</td>\n",
              "      <td>12</td>\n",
              "      <td>27</td>\n",
              "      <td>37</td>\n",
              "      <td>52</td>\n",
              "      <td>35</td>\n",
              "      <td>70</td>\n",
              "    </tr>\n",
              "    <tr>\n",
              "      <th>2</th>\n",
              "      <td>Buddhist</td>\n",
              "      <td>27</td>\n",
              "      <td>21</td>\n",
              "      <td>30</td>\n",
              "      <td>34</td>\n",
              "      <td>33</td>\n",
              "      <td>58</td>\n",
              "    </tr>\n",
              "    <tr>\n",
              "      <th>3</th>\n",
              "      <td>Catholic</td>\n",
              "      <td>418</td>\n",
              "      <td>617</td>\n",
              "      <td>732</td>\n",
              "      <td>670</td>\n",
              "      <td>638</td>\n",
              "      <td>1116</td>\n",
              "    </tr>\n",
              "    <tr>\n",
              "      <th>4</th>\n",
              "      <td>Don’t know/refused</td>\n",
              "      <td>15</td>\n",
              "      <td>14</td>\n",
              "      <td>15</td>\n",
              "      <td>11</td>\n",
              "      <td>10</td>\n",
              "      <td>35</td>\n",
              "    </tr>\n",
              "  </tbody>\n",
              "</table>\n",
              "</div>"
            ],
            "text/plain": [
              "             religion  <$10k  $10-20k  $20-30k  $30-40k  $40-50k  $50-75k\n",
              "0            Agnostic     27       34       60       81       76      137\n",
              "1             Atheist     12       27       37       52       35       70\n",
              "2            Buddhist     27       21       30       34       33       58\n",
              "3            Catholic    418      617      732      670      638     1116\n",
              "4  Don’t know/refused     15       14       15       11       10       35"
            ]
          },
          "execution_count": 30,
          "metadata": {},
          "output_type": "execute_result"
        }
      ],
      "source": [
        "df.head()"
      ]
    },
    {
      "cell_type": "markdown",
      "metadata": {
        "id": "Zi0W69fCLwqP"
      },
      "source": [
        "## Exercício:\n",
        "\n",
        " 1. Utilizando o conjunto de dados 'dados_artificiais.txt':\n",
        "    1. Leia o dataset\n",
        "    2. Adicione a coluna de IMC > IMC = peso / altura**2\n",
        "    3. Filtre e reserve uma nova variável para todos os IMC's que são considerados:\n",
        "       1. Sobrepeso >\n",
        "       2. < Baixo peso\n",
        "\n",
        "| IMC             | Categoria           |   |\n",
        "|-----------------|---------------------|---|\n",
        "| abaixo de 16,00 | Baixo peso Grau III |   |\n",
        "| 16,00 a 16,99   | Baixo peso Grau II  |   |\n",
        "| 17,00 a 18.49   | Baixo peso Grau I   |   |\n",
        "| 18,50 a 24,99   | Peso ideal          |   |\n",
        "| 25,00 a 29,99   | Sobrepeso           |   |\n",
        "| 30,00 a 34,99   | Obesidade Grau I    |   |\n",
        "| 35,00 a 39,99   | Obesidade Grau II   |   |\n",
        "| 40,0 e acima    | Obesidade Grau III  |   |\n"
      ]
    },
    {
      "cell_type": "code",
      "execution_count": null,
      "metadata": {
        "id": "jL8B4X0ZLwqP",
        "outputId": "821fbb64-1da5-492b-a0fe-2a9589298710"
      },
      "outputs": [
        {
          "data": {
            "text/html": [
              "<div>\n",
              "<style scoped>\n",
              "    .dataframe tbody tr th:only-of-type {\n",
              "        vertical-align: middle;\n",
              "    }\n",
              "\n",
              "    .dataframe tbody tr th {\n",
              "        vertical-align: top;\n",
              "    }\n",
              "\n",
              "    .dataframe thead th {\n",
              "        text-align: right;\n",
              "    }\n",
              "</style>\n",
              "<table border=\"1\" class=\"dataframe\">\n",
              "  <thead>\n",
              "    <tr style=\"text-align: right;\">\n",
              "      <th></th>\n",
              "      <th>altura</th>\n",
              "      <th>peso</th>\n",
              "      <th>sexo</th>\n",
              "    </tr>\n",
              "  </thead>\n",
              "  <tbody>\n",
              "    <tr>\n",
              "      <th>0</th>\n",
              "      <td>1.788811</td>\n",
              "      <td>65.648102</td>\n",
              "      <td>0</td>\n",
              "    </tr>\n",
              "    <tr>\n",
              "      <th>1</th>\n",
              "      <td>1.566784</td>\n",
              "      <td>76.642768</td>\n",
              "      <td>0</td>\n",
              "    </tr>\n",
              "  </tbody>\n",
              "</table>\n",
              "</div>"
            ],
            "text/plain": [
              "     altura       peso  sexo\n",
              "0  1.788811  65.648102     0\n",
              "1  1.566784  76.642768     0"
            ]
          },
          "execution_count": 25,
          "metadata": {},
          "output_type": "execute_result"
        }
      ],
      "source": [
        "exe = pd.read_table('../dados/dados_artificiais copy.txt', sep='  ' ,engine='python')\n",
        "exe.head(2)"
      ]
    },
    {
      "cell_type": "code",
      "execution_count": null,
      "metadata": {
        "id": "l5E_1lyZLwqP",
        "outputId": "595fae7e-3264-424d-c6c5-37b4fccdc505"
      },
      "outputs": [
        {
          "data": {
            "text/html": [
              "<div>\n",
              "<style scoped>\n",
              "    .dataframe tbody tr th:only-of-type {\n",
              "        vertical-align: middle;\n",
              "    }\n",
              "\n",
              "    .dataframe tbody tr th {\n",
              "        vertical-align: top;\n",
              "    }\n",
              "\n",
              "    .dataframe thead th {\n",
              "        text-align: right;\n",
              "    }\n",
              "</style>\n",
              "<table border=\"1\" class=\"dataframe\">\n",
              "  <thead>\n",
              "    <tr style=\"text-align: right;\">\n",
              "      <th></th>\n",
              "      <th>altura</th>\n",
              "      <th>peso</th>\n",
              "      <th>sexo</th>\n",
              "      <th>imc</th>\n",
              "    </tr>\n",
              "  </thead>\n",
              "  <tbody>\n",
              "    <tr>\n",
              "      <th>0</th>\n",
              "      <td>1.788811</td>\n",
              "      <td>65.648102</td>\n",
              "      <td>0</td>\n",
              "      <td>20.516027</td>\n",
              "    </tr>\n",
              "    <tr>\n",
              "      <th>1</th>\n",
              "      <td>1.566784</td>\n",
              "      <td>76.642768</td>\n",
              "      <td>0</td>\n",
              "      <td>31.221440</td>\n",
              "    </tr>\n",
              "  </tbody>\n",
              "</table>\n",
              "</div>"
            ],
            "text/plain": [
              "     altura       peso  sexo        imc\n",
              "0  1.788811  65.648102     0  20.516027\n",
              "1  1.566784  76.642768     0  31.221440"
            ]
          },
          "execution_count": 22,
          "metadata": {},
          "output_type": "execute_result"
        }
      ],
      "source": [
        "#Vitor Galves\n",
        "imc = exe['peso'] / (exe['altura']**2)\n",
        "exe['imc'] = imc\n",
        "exe.head(2)"
      ]
    },
    {
      "cell_type": "code",
      "execution_count": null,
      "metadata": {
        "id": "v48TtS1gLwqP"
      },
      "outputs": [],
      "source": [
        "# Flanderson\n",
        "exe['IMC'] = exe['peso'] / (exe['altura'] ** 2)"
      ]
    },
    {
      "cell_type": "code",
      "execution_count": null,
      "metadata": {
        "id": "6x60MSkbLwqQ",
        "outputId": "220de38a-bf36-4690-f851-486d49baf293"
      },
      "outputs": [
        {
          "data": {
            "text/html": [
              "<div>\n",
              "<style scoped>\n",
              "    .dataframe tbody tr th:only-of-type {\n",
              "        vertical-align: middle;\n",
              "    }\n",
              "\n",
              "    .dataframe tbody tr th {\n",
              "        vertical-align: top;\n",
              "    }\n",
              "\n",
              "    .dataframe thead th {\n",
              "        text-align: right;\n",
              "    }\n",
              "</style>\n",
              "<table border=\"1\" class=\"dataframe\">\n",
              "  <thead>\n",
              "    <tr style=\"text-align: right;\">\n",
              "      <th></th>\n",
              "      <th>altura</th>\n",
              "      <th>peso</th>\n",
              "      <th>sexo</th>\n",
              "      <th>imc</th>\n",
              "    </tr>\n",
              "  </thead>\n",
              "  <tbody>\n",
              "    <tr>\n",
              "      <th>0</th>\n",
              "      <td>1.788811</td>\n",
              "      <td>65.648102</td>\n",
              "      <td>0</td>\n",
              "      <td>20.516027</td>\n",
              "    </tr>\n",
              "    <tr>\n",
              "      <th>1</th>\n",
              "      <td>1.566784</td>\n",
              "      <td>76.642768</td>\n",
              "      <td>0</td>\n",
              "      <td>31.221440</td>\n",
              "    </tr>\n",
              "  </tbody>\n",
              "</table>\n",
              "</div>"
            ],
            "text/plain": [
              "     altura       peso  sexo        imc\n",
              "0  1.788811  65.648102     0  20.516027\n",
              "1  1.566784  76.642768     0  31.221440"
            ]
          },
          "execution_count": 27,
          "metadata": {},
          "output_type": "execute_result"
        }
      ],
      "source": [
        "exe['imc'] = exe.peso/(exe.altura ** 2)\n",
        "exe.head(2)"
      ]
    },
    {
      "cell_type": "code",
      "execution_count": null,
      "metadata": {
        "id": "tVlLQ3-9LwqQ",
        "outputId": "51e623d7-8223-426c-fcff-cd823e314ff9"
      },
      "outputs": [
        {
          "data": {
            "text/html": [
              "<div>\n",
              "<style scoped>\n",
              "    .dataframe tbody tr th:only-of-type {\n",
              "        vertical-align: middle;\n",
              "    }\n",
              "\n",
              "    .dataframe tbody tr th {\n",
              "        vertical-align: top;\n",
              "    }\n",
              "\n",
              "    .dataframe thead th {\n",
              "        text-align: right;\n",
              "    }\n",
              "</style>\n",
              "<table border=\"1\" class=\"dataframe\">\n",
              "  <thead>\n",
              "    <tr style=\"text-align: right;\">\n",
              "      <th></th>\n",
              "      <th>altura</th>\n",
              "      <th>peso</th>\n",
              "      <th>sexo</th>\n",
              "      <th>imc</th>\n",
              "    </tr>\n",
              "  </thead>\n",
              "  <tbody>\n",
              "    <tr>\n",
              "      <th>1</th>\n",
              "      <td>1.566784</td>\n",
              "      <td>76.642768</td>\n",
              "      <td>0</td>\n",
              "      <td>31.221440</td>\n",
              "    </tr>\n",
              "    <tr>\n",
              "      <th>7</th>\n",
              "      <td>1.187349</td>\n",
              "      <td>48.164764</td>\n",
              "      <td>0</td>\n",
              "      <td>34.164310</td>\n",
              "    </tr>\n",
              "    <tr>\n",
              "      <th>9</th>\n",
              "      <td>1.396282</td>\n",
              "      <td>67.930113</td>\n",
              "      <td>0</td>\n",
              "      <td>34.843042</td>\n",
              "    </tr>\n",
              "    <tr>\n",
              "      <th>19</th>\n",
              "      <td>1.456048</td>\n",
              "      <td>69.342337</td>\n",
              "      <td>0</td>\n",
              "      <td>32.707480</td>\n",
              "    </tr>\n",
              "  </tbody>\n",
              "</table>\n",
              "</div>"
            ],
            "text/plain": [
              "      altura       peso  sexo        imc\n",
              "1   1.566784  76.642768     0  31.221440\n",
              "7   1.187349  48.164764     0  34.164310\n",
              "9   1.396282  67.930113     0  34.843042\n",
              "19  1.456048  69.342337     0  32.707480"
            ]
          },
          "execution_count": 28,
          "metadata": {},
          "output_type": "execute_result"
        }
      ],
      "source": [
        "sobrepeso = exe[exe['imc']>=30]\n",
        "sobrepeso"
      ]
    },
    {
      "cell_type": "markdown",
      "metadata": {
        "id": "aiQQGMxmLwqQ"
      },
      "source": [
        "O potencial do pandas é melhor aproveitado quando usamos o conceito de \"tidy data\" para organizarmos nossos dados.\n",
        "\n",
        "Nos dados acima, eles estão pivoteados por segmentos de rendimento.\n",
        "\n",
        "Vamos então tentar ajustar isso."
      ]
    },
    {
      "cell_type": "markdown",
      "metadata": {
        "id": "PZT-bto1LwqQ"
      },
      "source": [
        "Para listarmos as colunas o DataFrame possui um atributo .columns que imprime esta informação em formato de lista."
      ]
    },
    {
      "cell_type": "code",
      "execution_count": null,
      "metadata": {
        "id": "hJf5B_SeLwqQ",
        "outputId": "365b9eda-12f1-4ae4-a30c-881f3debfc7c"
      },
      "outputs": [
        {
          "data": {
            "text/plain": [
              "Index(['religion', '<$10k', '$10-20k', '$20-30k', '$30-40k', '$40-50k',\n",
              "       '$50-75k'],\n",
              "      dtype='object')"
            ]
          },
          "execution_count": 31,
          "metadata": {},
          "output_type": "execute_result"
        }
      ],
      "source": [
        "df.columns"
      ]
    },
    {
      "cell_type": "code",
      "execution_count": null,
      "metadata": {
        "id": "UMqt2NJrLwqQ",
        "outputId": "a0db8638-2c4b-4c5b-f7fa-7abb70745ecc"
      },
      "outputs": [
        {
          "data": {
            "text/plain": [
              "['<$10k', '$10-20k', '$20-30k', '$30-40k', '$40-50k', '$50-75k']"
            ]
          },
          "execution_count": 32,
          "metadata": {},
          "output_type": "execute_result"
        }
      ],
      "source": [
        "# Veja que podemos trabalhar como listas normalmente\n",
        "value_cols = [col for col in df.columns if col != 'religion']\n",
        "value_cols"
      ]
    },
    {
      "cell_type": "markdown",
      "metadata": {
        "id": "L7NetdXKLwqQ"
      },
      "source": [
        "## Funções Pandas\n",
        "  \n",
        "### melt  \n",
        "https://pandas.pydata.org/pandas-docs/stable/reference/api/pandas.melt.html"
      ]
    },
    {
      "cell_type": "code",
      "execution_count": null,
      "metadata": {
        "id": "x8FtatnuLwqQ",
        "outputId": "482cb34d-4901-4417-b907-9aefeebfa839"
      },
      "outputs": [
        {
          "data": {
            "text/html": [
              "<div>\n",
              "<style scoped>\n",
              "    .dataframe tbody tr th:only-of-type {\n",
              "        vertical-align: middle;\n",
              "    }\n",
              "\n",
              "    .dataframe tbody tr th {\n",
              "        vertical-align: top;\n",
              "    }\n",
              "\n",
              "    .dataframe thead th {\n",
              "        text-align: right;\n",
              "    }\n",
              "</style>\n",
              "<table border=\"1\" class=\"dataframe\">\n",
              "  <thead>\n",
              "    <tr style=\"text-align: right;\">\n",
              "      <th></th>\n",
              "      <th>religion</th>\n",
              "      <th>income</th>\n",
              "      <th>freq</th>\n",
              "    </tr>\n",
              "  </thead>\n",
              "  <tbody>\n",
              "    <tr>\n",
              "      <th>0</th>\n",
              "      <td>Agnostic</td>\n",
              "      <td>&lt;$10k</td>\n",
              "      <td>27</td>\n",
              "    </tr>\n",
              "    <tr>\n",
              "      <th>1</th>\n",
              "      <td>Atheist</td>\n",
              "      <td>&lt;$10k</td>\n",
              "      <td>12</td>\n",
              "    </tr>\n",
              "    <tr>\n",
              "      <th>2</th>\n",
              "      <td>Buddhist</td>\n",
              "      <td>&lt;$10k</td>\n",
              "      <td>27</td>\n",
              "    </tr>\n",
              "    <tr>\n",
              "      <th>3</th>\n",
              "      <td>Catholic</td>\n",
              "      <td>&lt;$10k</td>\n",
              "      <td>418</td>\n",
              "    </tr>\n",
              "    <tr>\n",
              "      <th>4</th>\n",
              "      <td>Don’t know/refused</td>\n",
              "      <td>&lt;$10k</td>\n",
              "      <td>15</td>\n",
              "    </tr>\n",
              "    <tr>\n",
              "      <th>5</th>\n",
              "      <td>Evangelical Prot</td>\n",
              "      <td>&lt;$10k</td>\n",
              "      <td>575</td>\n",
              "    </tr>\n",
              "    <tr>\n",
              "      <th>6</th>\n",
              "      <td>Hindu</td>\n",
              "      <td>&lt;$10k</td>\n",
              "      <td>1</td>\n",
              "    </tr>\n",
              "    <tr>\n",
              "      <th>7</th>\n",
              "      <td>Historically Black Prot</td>\n",
              "      <td>&lt;$10k</td>\n",
              "      <td>228</td>\n",
              "    </tr>\n",
              "    <tr>\n",
              "      <th>8</th>\n",
              "      <td>Jehovah’s Witness</td>\n",
              "      <td>&lt;$10k</td>\n",
              "      <td>20</td>\n",
              "    </tr>\n",
              "    <tr>\n",
              "      <th>9</th>\n",
              "      <td>Jewish</td>\n",
              "      <td>&lt;$10k</td>\n",
              "      <td>19</td>\n",
              "    </tr>\n",
              "    <tr>\n",
              "      <th>10</th>\n",
              "      <td>Agnostic</td>\n",
              "      <td>$10-20k</td>\n",
              "      <td>34</td>\n",
              "    </tr>\n",
              "    <tr>\n",
              "      <th>11</th>\n",
              "      <td>Atheist</td>\n",
              "      <td>$10-20k</td>\n",
              "      <td>27</td>\n",
              "    </tr>\n",
              "    <tr>\n",
              "      <th>12</th>\n",
              "      <td>Buddhist</td>\n",
              "      <td>$10-20k</td>\n",
              "      <td>21</td>\n",
              "    </tr>\n",
              "    <tr>\n",
              "      <th>13</th>\n",
              "      <td>Catholic</td>\n",
              "      <td>$10-20k</td>\n",
              "      <td>617</td>\n",
              "    </tr>\n",
              "    <tr>\n",
              "      <th>14</th>\n",
              "      <td>Don’t know/refused</td>\n",
              "      <td>$10-20k</td>\n",
              "      <td>14</td>\n",
              "    </tr>\n",
              "    <tr>\n",
              "      <th>15</th>\n",
              "      <td>Evangelical Prot</td>\n",
              "      <td>$10-20k</td>\n",
              "      <td>869</td>\n",
              "    </tr>\n",
              "    <tr>\n",
              "      <th>16</th>\n",
              "      <td>Hindu</td>\n",
              "      <td>$10-20k</td>\n",
              "      <td>9</td>\n",
              "    </tr>\n",
              "    <tr>\n",
              "      <th>17</th>\n",
              "      <td>Historically Black Prot</td>\n",
              "      <td>$10-20k</td>\n",
              "      <td>244</td>\n",
              "    </tr>\n",
              "    <tr>\n",
              "      <th>18</th>\n",
              "      <td>Jehovah’s Witness</td>\n",
              "      <td>$10-20k</td>\n",
              "      <td>27</td>\n",
              "    </tr>\n",
              "    <tr>\n",
              "      <th>19</th>\n",
              "      <td>Jewish</td>\n",
              "      <td>$10-20k</td>\n",
              "      <td>19</td>\n",
              "    </tr>\n",
              "    <tr>\n",
              "      <th>20</th>\n",
              "      <td>Agnostic</td>\n",
              "      <td>$20-30k</td>\n",
              "      <td>60</td>\n",
              "    </tr>\n",
              "    <tr>\n",
              "      <th>21</th>\n",
              "      <td>Atheist</td>\n",
              "      <td>$20-30k</td>\n",
              "      <td>37</td>\n",
              "    </tr>\n",
              "    <tr>\n",
              "      <th>22</th>\n",
              "      <td>Buddhist</td>\n",
              "      <td>$20-30k</td>\n",
              "      <td>30</td>\n",
              "    </tr>\n",
              "    <tr>\n",
              "      <th>23</th>\n",
              "      <td>Catholic</td>\n",
              "      <td>$20-30k</td>\n",
              "      <td>732</td>\n",
              "    </tr>\n",
              "    <tr>\n",
              "      <th>24</th>\n",
              "      <td>Don’t know/refused</td>\n",
              "      <td>$20-30k</td>\n",
              "      <td>15</td>\n",
              "    </tr>\n",
              "    <tr>\n",
              "      <th>25</th>\n",
              "      <td>Evangelical Prot</td>\n",
              "      <td>$20-30k</td>\n",
              "      <td>1064</td>\n",
              "    </tr>\n",
              "    <tr>\n",
              "      <th>26</th>\n",
              "      <td>Hindu</td>\n",
              "      <td>$20-30k</td>\n",
              "      <td>7</td>\n",
              "    </tr>\n",
              "    <tr>\n",
              "      <th>27</th>\n",
              "      <td>Historically Black Prot</td>\n",
              "      <td>$20-30k</td>\n",
              "      <td>236</td>\n",
              "    </tr>\n",
              "    <tr>\n",
              "      <th>28</th>\n",
              "      <td>Jehovah’s Witness</td>\n",
              "      <td>$20-30k</td>\n",
              "      <td>24</td>\n",
              "    </tr>\n",
              "    <tr>\n",
              "      <th>29</th>\n",
              "      <td>Jewish</td>\n",
              "      <td>$20-30k</td>\n",
              "      <td>25</td>\n",
              "    </tr>\n",
              "    <tr>\n",
              "      <th>30</th>\n",
              "      <td>Agnostic</td>\n",
              "      <td>$30-40k</td>\n",
              "      <td>81</td>\n",
              "    </tr>\n",
              "    <tr>\n",
              "      <th>31</th>\n",
              "      <td>Atheist</td>\n",
              "      <td>$30-40k</td>\n",
              "      <td>52</td>\n",
              "    </tr>\n",
              "    <tr>\n",
              "      <th>32</th>\n",
              "      <td>Buddhist</td>\n",
              "      <td>$30-40k</td>\n",
              "      <td>34</td>\n",
              "    </tr>\n",
              "    <tr>\n",
              "      <th>33</th>\n",
              "      <td>Catholic</td>\n",
              "      <td>$30-40k</td>\n",
              "      <td>670</td>\n",
              "    </tr>\n",
              "    <tr>\n",
              "      <th>34</th>\n",
              "      <td>Don’t know/refused</td>\n",
              "      <td>$30-40k</td>\n",
              "      <td>11</td>\n",
              "    </tr>\n",
              "    <tr>\n",
              "      <th>35</th>\n",
              "      <td>Evangelical Prot</td>\n",
              "      <td>$30-40k</td>\n",
              "      <td>982</td>\n",
              "    </tr>\n",
              "    <tr>\n",
              "      <th>36</th>\n",
              "      <td>Hindu</td>\n",
              "      <td>$30-40k</td>\n",
              "      <td>9</td>\n",
              "    </tr>\n",
              "    <tr>\n",
              "      <th>37</th>\n",
              "      <td>Historically Black Prot</td>\n",
              "      <td>$30-40k</td>\n",
              "      <td>238</td>\n",
              "    </tr>\n",
              "    <tr>\n",
              "      <th>38</th>\n",
              "      <td>Jehovah’s Witness</td>\n",
              "      <td>$30-40k</td>\n",
              "      <td>24</td>\n",
              "    </tr>\n",
              "    <tr>\n",
              "      <th>39</th>\n",
              "      <td>Jewish</td>\n",
              "      <td>$30-40k</td>\n",
              "      <td>25</td>\n",
              "    </tr>\n",
              "    <tr>\n",
              "      <th>40</th>\n",
              "      <td>Agnostic</td>\n",
              "      <td>$40-50k</td>\n",
              "      <td>76</td>\n",
              "    </tr>\n",
              "    <tr>\n",
              "      <th>41</th>\n",
              "      <td>Atheist</td>\n",
              "      <td>$40-50k</td>\n",
              "      <td>35</td>\n",
              "    </tr>\n",
              "    <tr>\n",
              "      <th>42</th>\n",
              "      <td>Buddhist</td>\n",
              "      <td>$40-50k</td>\n",
              "      <td>33</td>\n",
              "    </tr>\n",
              "    <tr>\n",
              "      <th>43</th>\n",
              "      <td>Catholic</td>\n",
              "      <td>$40-50k</td>\n",
              "      <td>638</td>\n",
              "    </tr>\n",
              "    <tr>\n",
              "      <th>44</th>\n",
              "      <td>Don’t know/refused</td>\n",
              "      <td>$40-50k</td>\n",
              "      <td>10</td>\n",
              "    </tr>\n",
              "    <tr>\n",
              "      <th>45</th>\n",
              "      <td>Evangelical Prot</td>\n",
              "      <td>$40-50k</td>\n",
              "      <td>881</td>\n",
              "    </tr>\n",
              "    <tr>\n",
              "      <th>46</th>\n",
              "      <td>Hindu</td>\n",
              "      <td>$40-50k</td>\n",
              "      <td>11</td>\n",
              "    </tr>\n",
              "    <tr>\n",
              "      <th>47</th>\n",
              "      <td>Historically Black Prot</td>\n",
              "      <td>$40-50k</td>\n",
              "      <td>197</td>\n",
              "    </tr>\n",
              "    <tr>\n",
              "      <th>48</th>\n",
              "      <td>Jehovah’s Witness</td>\n",
              "      <td>$40-50k</td>\n",
              "      <td>21</td>\n",
              "    </tr>\n",
              "    <tr>\n",
              "      <th>49</th>\n",
              "      <td>Jewish</td>\n",
              "      <td>$40-50k</td>\n",
              "      <td>30</td>\n",
              "    </tr>\n",
              "    <tr>\n",
              "      <th>50</th>\n",
              "      <td>Agnostic</td>\n",
              "      <td>$50-75k</td>\n",
              "      <td>137</td>\n",
              "    </tr>\n",
              "    <tr>\n",
              "      <th>51</th>\n",
              "      <td>Atheist</td>\n",
              "      <td>$50-75k</td>\n",
              "      <td>70</td>\n",
              "    </tr>\n",
              "    <tr>\n",
              "      <th>52</th>\n",
              "      <td>Buddhist</td>\n",
              "      <td>$50-75k</td>\n",
              "      <td>58</td>\n",
              "    </tr>\n",
              "    <tr>\n",
              "      <th>53</th>\n",
              "      <td>Catholic</td>\n",
              "      <td>$50-75k</td>\n",
              "      <td>1116</td>\n",
              "    </tr>\n",
              "    <tr>\n",
              "      <th>54</th>\n",
              "      <td>Don’t know/refused</td>\n",
              "      <td>$50-75k</td>\n",
              "      <td>35</td>\n",
              "    </tr>\n",
              "    <tr>\n",
              "      <th>55</th>\n",
              "      <td>Evangelical Prot</td>\n",
              "      <td>$50-75k</td>\n",
              "      <td>1486</td>\n",
              "    </tr>\n",
              "    <tr>\n",
              "      <th>56</th>\n",
              "      <td>Hindu</td>\n",
              "      <td>$50-75k</td>\n",
              "      <td>34</td>\n",
              "    </tr>\n",
              "    <tr>\n",
              "      <th>57</th>\n",
              "      <td>Historically Black Prot</td>\n",
              "      <td>$50-75k</td>\n",
              "      <td>223</td>\n",
              "    </tr>\n",
              "    <tr>\n",
              "      <th>58</th>\n",
              "      <td>Jehovah’s Witness</td>\n",
              "      <td>$50-75k</td>\n",
              "      <td>30</td>\n",
              "    </tr>\n",
              "    <tr>\n",
              "      <th>59</th>\n",
              "      <td>Jewish</td>\n",
              "      <td>$50-75k</td>\n",
              "      <td>95</td>\n",
              "    </tr>\n",
              "  </tbody>\n",
              "</table>\n",
              "</div>"
            ],
            "text/plain": [
              "                   religion   income  freq\n",
              "0                  Agnostic    <$10k    27\n",
              "1                   Atheist    <$10k    12\n",
              "2                  Buddhist    <$10k    27\n",
              "3                  Catholic    <$10k   418\n",
              "4        Don’t know/refused    <$10k    15\n",
              "5          Evangelical Prot    <$10k   575\n",
              "6                     Hindu    <$10k     1\n",
              "7   Historically Black Prot    <$10k   228\n",
              "8         Jehovah’s Witness    <$10k    20\n",
              "9                    Jewish    <$10k    19\n",
              "10                 Agnostic  $10-20k    34\n",
              "11                  Atheist  $10-20k    27\n",
              "12                 Buddhist  $10-20k    21\n",
              "13                 Catholic  $10-20k   617\n",
              "14       Don’t know/refused  $10-20k    14\n",
              "15         Evangelical Prot  $10-20k   869\n",
              "16                    Hindu  $10-20k     9\n",
              "17  Historically Black Prot  $10-20k   244\n",
              "18        Jehovah’s Witness  $10-20k    27\n",
              "19                   Jewish  $10-20k    19\n",
              "20                 Agnostic  $20-30k    60\n",
              "21                  Atheist  $20-30k    37\n",
              "22                 Buddhist  $20-30k    30\n",
              "23                 Catholic  $20-30k   732\n",
              "24       Don’t know/refused  $20-30k    15\n",
              "25         Evangelical Prot  $20-30k  1064\n",
              "26                    Hindu  $20-30k     7\n",
              "27  Historically Black Prot  $20-30k   236\n",
              "28        Jehovah’s Witness  $20-30k    24\n",
              "29                   Jewish  $20-30k    25\n",
              "30                 Agnostic  $30-40k    81\n",
              "31                  Atheist  $30-40k    52\n",
              "32                 Buddhist  $30-40k    34\n",
              "33                 Catholic  $30-40k   670\n",
              "34       Don’t know/refused  $30-40k    11\n",
              "35         Evangelical Prot  $30-40k   982\n",
              "36                    Hindu  $30-40k     9\n",
              "37  Historically Black Prot  $30-40k   238\n",
              "38        Jehovah’s Witness  $30-40k    24\n",
              "39                   Jewish  $30-40k    25\n",
              "40                 Agnostic  $40-50k    76\n",
              "41                  Atheist  $40-50k    35\n",
              "42                 Buddhist  $40-50k    33\n",
              "43                 Catholic  $40-50k   638\n",
              "44       Don’t know/refused  $40-50k    10\n",
              "45         Evangelical Prot  $40-50k   881\n",
              "46                    Hindu  $40-50k    11\n",
              "47  Historically Black Prot  $40-50k   197\n",
              "48        Jehovah’s Witness  $40-50k    21\n",
              "49                   Jewish  $40-50k    30\n",
              "50                 Agnostic  $50-75k   137\n",
              "51                  Atheist  $50-75k    70\n",
              "52                 Buddhist  $50-75k    58\n",
              "53                 Catholic  $50-75k  1116\n",
              "54       Don’t know/refused  $50-75k    35\n",
              "55         Evangelical Prot  $50-75k  1486\n",
              "56                    Hindu  $50-75k    34\n",
              "57  Historically Black Prot  $50-75k   223\n",
              "58        Jehovah’s Witness  $50-75k    30\n",
              "59                   Jewish  $50-75k    95"
            ]
          },
          "execution_count": 33,
          "metadata": {},
          "output_type": "execute_result"
        }
      ],
      "source": [
        "# Podemos utilizar a função do Pandas .melt para alterar a visão do dataframe\n",
        "new_df = pd.melt(\n",
        "    df,\n",
        "    id_vars=[\"religion\"],\n",
        "    value_vars=value_cols,\n",
        "    var_name=\"income\",\n",
        "    value_name=\"freq\",\n",
        ")\n",
        "\n",
        "new_df"
      ]
    },
    {
      "cell_type": "markdown",
      "metadata": {
        "id": "8rn1T_vDLwqQ"
      },
      "source": [
        "### pivot_table"
      ]
    },
    {
      "cell_type": "code",
      "execution_count": null,
      "metadata": {
        "id": "WFZ3VmvBLwqR",
        "outputId": "df58da0c-7626-4176-c672-3b1d53ac3d5a"
      },
      "outputs": [
        {
          "data": {
            "text/html": [
              "<div>\n",
              "<style scoped>\n",
              "    .dataframe tbody tr th:only-of-type {\n",
              "        vertical-align: middle;\n",
              "    }\n",
              "\n",
              "    .dataframe tbody tr th {\n",
              "        vertical-align: top;\n",
              "    }\n",
              "\n",
              "    .dataframe thead th {\n",
              "        text-align: right;\n",
              "    }\n",
              "</style>\n",
              "<table border=\"1\" class=\"dataframe\">\n",
              "  <thead>\n",
              "    <tr style=\"text-align: right;\">\n",
              "      <th>income</th>\n",
              "      <th>$10-20k</th>\n",
              "      <th>$20-30k</th>\n",
              "      <th>$30-40k</th>\n",
              "      <th>$40-50k</th>\n",
              "      <th>$50-75k</th>\n",
              "      <th>&lt;$10k</th>\n",
              "    </tr>\n",
              "    <tr>\n",
              "      <th>religion</th>\n",
              "      <th></th>\n",
              "      <th></th>\n",
              "      <th></th>\n",
              "      <th></th>\n",
              "      <th></th>\n",
              "      <th></th>\n",
              "    </tr>\n",
              "  </thead>\n",
              "  <tbody>\n",
              "    <tr>\n",
              "      <th>Agnostic</th>\n",
              "      <td>34</td>\n",
              "      <td>60</td>\n",
              "      <td>81</td>\n",
              "      <td>76</td>\n",
              "      <td>137</td>\n",
              "      <td>27</td>\n",
              "    </tr>\n",
              "    <tr>\n",
              "      <th>Atheist</th>\n",
              "      <td>27</td>\n",
              "      <td>37</td>\n",
              "      <td>52</td>\n",
              "      <td>35</td>\n",
              "      <td>70</td>\n",
              "      <td>12</td>\n",
              "    </tr>\n",
              "    <tr>\n",
              "      <th>Buddhist</th>\n",
              "      <td>21</td>\n",
              "      <td>30</td>\n",
              "      <td>34</td>\n",
              "      <td>33</td>\n",
              "      <td>58</td>\n",
              "      <td>27</td>\n",
              "    </tr>\n",
              "    <tr>\n",
              "      <th>Catholic</th>\n",
              "      <td>617</td>\n",
              "      <td>732</td>\n",
              "      <td>670</td>\n",
              "      <td>638</td>\n",
              "      <td>1116</td>\n",
              "      <td>418</td>\n",
              "    </tr>\n",
              "    <tr>\n",
              "      <th>Don’t know/refused</th>\n",
              "      <td>14</td>\n",
              "      <td>15</td>\n",
              "      <td>11</td>\n",
              "      <td>10</td>\n",
              "      <td>35</td>\n",
              "      <td>15</td>\n",
              "    </tr>\n",
              "    <tr>\n",
              "      <th>Evangelical Prot</th>\n",
              "      <td>869</td>\n",
              "      <td>1064</td>\n",
              "      <td>982</td>\n",
              "      <td>881</td>\n",
              "      <td>1486</td>\n",
              "      <td>575</td>\n",
              "    </tr>\n",
              "    <tr>\n",
              "      <th>Hindu</th>\n",
              "      <td>9</td>\n",
              "      <td>7</td>\n",
              "      <td>9</td>\n",
              "      <td>11</td>\n",
              "      <td>34</td>\n",
              "      <td>1</td>\n",
              "    </tr>\n",
              "    <tr>\n",
              "      <th>Historically Black Prot</th>\n",
              "      <td>244</td>\n",
              "      <td>236</td>\n",
              "      <td>238</td>\n",
              "      <td>197</td>\n",
              "      <td>223</td>\n",
              "      <td>228</td>\n",
              "    </tr>\n",
              "    <tr>\n",
              "      <th>Jehovah’s Witness</th>\n",
              "      <td>27</td>\n",
              "      <td>24</td>\n",
              "      <td>24</td>\n",
              "      <td>21</td>\n",
              "      <td>30</td>\n",
              "      <td>20</td>\n",
              "    </tr>\n",
              "    <tr>\n",
              "      <th>Jewish</th>\n",
              "      <td>19</td>\n",
              "      <td>25</td>\n",
              "      <td>25</td>\n",
              "      <td>30</td>\n",
              "      <td>95</td>\n",
              "      <td>19</td>\n",
              "    </tr>\n",
              "  </tbody>\n",
              "</table>\n",
              "</div>"
            ],
            "text/plain": [
              "income                   $10-20k  $20-30k  $30-40k  $40-50k  $50-75k  <$10k\n",
              "religion                                                                   \n",
              "Agnostic                      34       60       81       76      137     27\n",
              "Atheist                       27       37       52       35       70     12\n",
              "Buddhist                      21       30       34       33       58     27\n",
              "Catholic                     617      732      670      638     1116    418\n",
              "Don’t know/refused            14       15       11       10       35     15\n",
              "Evangelical Prot             869     1064      982      881     1486    575\n",
              "Hindu                          9        7        9       11       34      1\n",
              "Historically Black Prot      244      236      238      197      223    228\n",
              "Jehovah’s Witness             27       24       24       21       30     20\n",
              "Jewish                        19       25       25       30       95     19"
            ]
          },
          "execution_count": 34,
          "metadata": {},
          "output_type": "execute_result"
        }
      ],
      "source": [
        "# Podemos voltar para o formato anterior, que facilita apresentações para o negócio.\n",
        "# Usamos o método pivot.\n",
        "new_df.pivot(index='religion', columns='income',values='freq' )"
      ]
    },
    {
      "cell_type": "code",
      "execution_count": null,
      "metadata": {
        "id": "e-wqqoHPLwqR",
        "outputId": "6ff3a0c2-0a68-4c68-a072-c752f0a48f78"
      },
      "outputs": [
        {
          "data": {
            "text/html": [
              "<div>\n",
              "<style scoped>\n",
              "    .dataframe tbody tr th:only-of-type {\n",
              "        vertical-align: middle;\n",
              "    }\n",
              "\n",
              "    .dataframe tbody tr th {\n",
              "        vertical-align: top;\n",
              "    }\n",
              "\n",
              "    .dataframe thead th {\n",
              "        text-align: right;\n",
              "    }\n",
              "</style>\n",
              "<table border=\"1\" class=\"dataframe\">\n",
              "  <thead>\n",
              "    <tr style=\"text-align: right;\">\n",
              "      <th>income</th>\n",
              "      <th>$10-20k</th>\n",
              "      <th>$20-30k</th>\n",
              "      <th>$30-40k</th>\n",
              "      <th>$40-50k</th>\n",
              "      <th>$50-75k</th>\n",
              "      <th>&lt;$10k</th>\n",
              "    </tr>\n",
              "    <tr>\n",
              "      <th>religion</th>\n",
              "      <th></th>\n",
              "      <th></th>\n",
              "      <th></th>\n",
              "      <th></th>\n",
              "      <th></th>\n",
              "      <th></th>\n",
              "    </tr>\n",
              "  </thead>\n",
              "  <tbody>\n",
              "    <tr>\n",
              "      <th>Agnostic</th>\n",
              "      <td>34.0</td>\n",
              "      <td>60.0</td>\n",
              "      <td>81.0</td>\n",
              "      <td>76.0</td>\n",
              "      <td>137.0</td>\n",
              "      <td>27.0</td>\n",
              "    </tr>\n",
              "    <tr>\n",
              "      <th>Atheist</th>\n",
              "      <td>27.0</td>\n",
              "      <td>37.0</td>\n",
              "      <td>52.0</td>\n",
              "      <td>35.0</td>\n",
              "      <td>70.0</td>\n",
              "      <td>12.0</td>\n",
              "    </tr>\n",
              "    <tr>\n",
              "      <th>Buddhist</th>\n",
              "      <td>21.0</td>\n",
              "      <td>30.0</td>\n",
              "      <td>34.0</td>\n",
              "      <td>33.0</td>\n",
              "      <td>58.0</td>\n",
              "      <td>27.0</td>\n",
              "    </tr>\n",
              "    <tr>\n",
              "      <th>Catholic</th>\n",
              "      <td>617.0</td>\n",
              "      <td>732.0</td>\n",
              "      <td>670.0</td>\n",
              "      <td>638.0</td>\n",
              "      <td>1116.0</td>\n",
              "      <td>418.0</td>\n",
              "    </tr>\n",
              "    <tr>\n",
              "      <th>Don’t know/refused</th>\n",
              "      <td>14.0</td>\n",
              "      <td>15.0</td>\n",
              "      <td>11.0</td>\n",
              "      <td>10.0</td>\n",
              "      <td>35.0</td>\n",
              "      <td>15.0</td>\n",
              "    </tr>\n",
              "    <tr>\n",
              "      <th>Evangelical Prot</th>\n",
              "      <td>869.0</td>\n",
              "      <td>1064.0</td>\n",
              "      <td>982.0</td>\n",
              "      <td>881.0</td>\n",
              "      <td>1486.0</td>\n",
              "      <td>575.0</td>\n",
              "    </tr>\n",
              "    <tr>\n",
              "      <th>Hindu</th>\n",
              "      <td>9.0</td>\n",
              "      <td>7.0</td>\n",
              "      <td>9.0</td>\n",
              "      <td>11.0</td>\n",
              "      <td>34.0</td>\n",
              "      <td>1.0</td>\n",
              "    </tr>\n",
              "    <tr>\n",
              "      <th>Historically Black Prot</th>\n",
              "      <td>244.0</td>\n",
              "      <td>236.0</td>\n",
              "      <td>238.0</td>\n",
              "      <td>197.0</td>\n",
              "      <td>223.0</td>\n",
              "      <td>228.0</td>\n",
              "    </tr>\n",
              "    <tr>\n",
              "      <th>Jehovah’s Witness</th>\n",
              "      <td>27.0</td>\n",
              "      <td>24.0</td>\n",
              "      <td>24.0</td>\n",
              "      <td>21.0</td>\n",
              "      <td>30.0</td>\n",
              "      <td>20.0</td>\n",
              "    </tr>\n",
              "    <tr>\n",
              "      <th>Jewish</th>\n",
              "      <td>19.0</td>\n",
              "      <td>25.0</td>\n",
              "      <td>25.0</td>\n",
              "      <td>30.0</td>\n",
              "      <td>95.0</td>\n",
              "      <td>19.0</td>\n",
              "    </tr>\n",
              "  </tbody>\n",
              "</table>\n",
              "</div>"
            ],
            "text/plain": [
              "income                   $10-20k  $20-30k  $30-40k  $40-50k  $50-75k  <$10k\n",
              "religion                                                                   \n",
              "Agnostic                    34.0     60.0     81.0     76.0    137.0   27.0\n",
              "Atheist                     27.0     37.0     52.0     35.0     70.0   12.0\n",
              "Buddhist                    21.0     30.0     34.0     33.0     58.0   27.0\n",
              "Catholic                   617.0    732.0    670.0    638.0   1116.0  418.0\n",
              "Don’t know/refused          14.0     15.0     11.0     10.0     35.0   15.0\n",
              "Evangelical Prot           869.0   1064.0    982.0    881.0   1486.0  575.0\n",
              "Hindu                        9.0      7.0      9.0     11.0     34.0    1.0\n",
              "Historically Black Prot    244.0    236.0    238.0    197.0    223.0  228.0\n",
              "Jehovah’s Witness           27.0     24.0     24.0     21.0     30.0   20.0\n",
              "Jewish                      19.0     25.0     25.0     30.0     95.0   19.0"
            ]
          },
          "execution_count": 35,
          "metadata": {},
          "output_type": "execute_result"
        }
      ],
      "source": [
        "new_df.pivot_table(index='religion', columns='income', values='freq', aggfunc='mean')\n"
      ]
    },
    {
      "cell_type": "markdown",
      "metadata": {
        "id": "LzxWu9iJLwqR"
      },
      "source": [
        "### Concat  \n",
        "  \n",
        "É possível realizar a concatenação de dois ou mais dataframes por meio do método \"concat\"."
      ]
    },
    {
      "cell_type": "code",
      "execution_count": null,
      "metadata": {
        "id": "6nMXfrexLwqR"
      },
      "outputs": [],
      "source": [
        "# Criação de DataFrames por meio de dicionários\n",
        "df1 = pd.DataFrame({'nome':['eu', 'tu', 'ele/ela'],\n",
        "                    'val': [1,1,1]})\n",
        "# Criação de DataFrames por meio de listas\n",
        "lista_valores = [\n",
        "    ['nós', 2],\n",
        "    ['vós',2],\n",
        "    ['eles/elas',2]\n",
        "]\n",
        "df2 = pd.DataFrame(lista_valores, columns=['nome', 'val'])\n",
        "\n"
      ]
    },
    {
      "cell_type": "code",
      "execution_count": null,
      "metadata": {
        "id": "fFTafBT8LwqR",
        "outputId": "e6be130d-fa1e-45a3-b30b-60e8855ec6a7"
      },
      "outputs": [
        {
          "data": {
            "text/html": [
              "<div>\n",
              "<style scoped>\n",
              "    .dataframe tbody tr th:only-of-type {\n",
              "        vertical-align: middle;\n",
              "    }\n",
              "\n",
              "    .dataframe tbody tr th {\n",
              "        vertical-align: top;\n",
              "    }\n",
              "\n",
              "    .dataframe thead th {\n",
              "        text-align: right;\n",
              "    }\n",
              "</style>\n",
              "<table border=\"1\" class=\"dataframe\">\n",
              "  <thead>\n",
              "    <tr style=\"text-align: right;\">\n",
              "      <th></th>\n",
              "      <th>nome</th>\n",
              "      <th>val</th>\n",
              "    </tr>\n",
              "  </thead>\n",
              "  <tbody>\n",
              "    <tr>\n",
              "      <th>0</th>\n",
              "      <td>eu</td>\n",
              "      <td>1</td>\n",
              "    </tr>\n",
              "    <tr>\n",
              "      <th>1</th>\n",
              "      <td>tu</td>\n",
              "      <td>1</td>\n",
              "    </tr>\n",
              "    <tr>\n",
              "      <th>2</th>\n",
              "      <td>ele/ela</td>\n",
              "      <td>1</td>\n",
              "    </tr>\n",
              "  </tbody>\n",
              "</table>\n",
              "</div>"
            ],
            "text/plain": [
              "      nome  val\n",
              "0       eu    1\n",
              "1       tu    1\n",
              "2  ele/ela    1"
            ]
          },
          "execution_count": 51,
          "metadata": {},
          "output_type": "execute_result"
        }
      ],
      "source": [
        "df1"
      ]
    },
    {
      "cell_type": "code",
      "execution_count": null,
      "metadata": {
        "id": "GrycLL1iLwqR",
        "outputId": "78d9f404-4671-41ff-e7df-a4b99639c7a5"
      },
      "outputs": [
        {
          "data": {
            "text/html": [
              "<div>\n",
              "<style scoped>\n",
              "    .dataframe tbody tr th:only-of-type {\n",
              "        vertical-align: middle;\n",
              "    }\n",
              "\n",
              "    .dataframe tbody tr th {\n",
              "        vertical-align: top;\n",
              "    }\n",
              "\n",
              "    .dataframe thead th {\n",
              "        text-align: right;\n",
              "    }\n",
              "</style>\n",
              "<table border=\"1\" class=\"dataframe\">\n",
              "  <thead>\n",
              "    <tr style=\"text-align: right;\">\n",
              "      <th></th>\n",
              "      <th>nome</th>\n",
              "      <th>val</th>\n",
              "    </tr>\n",
              "  </thead>\n",
              "  <tbody>\n",
              "    <tr>\n",
              "      <th>0</th>\n",
              "      <td>nós</td>\n",
              "      <td>2</td>\n",
              "    </tr>\n",
              "    <tr>\n",
              "      <th>1</th>\n",
              "      <td>vós</td>\n",
              "      <td>2</td>\n",
              "    </tr>\n",
              "    <tr>\n",
              "      <th>2</th>\n",
              "      <td>eles/elas</td>\n",
              "      <td>2</td>\n",
              "    </tr>\n",
              "  </tbody>\n",
              "</table>\n",
              "</div>"
            ],
            "text/plain": [
              "        nome  val\n",
              "0        nós    2\n",
              "1        vós    2\n",
              "2  eles/elas    2"
            ]
          },
          "execution_count": 52,
          "metadata": {},
          "output_type": "execute_result"
        }
      ],
      "source": [
        "df2"
      ]
    },
    {
      "cell_type": "code",
      "execution_count": null,
      "metadata": {
        "id": "Kko2tqg4LwqR",
        "outputId": "fe43d548-9c7e-479e-a73c-68529fb1c1d6"
      },
      "outputs": [
        {
          "data": {
            "text/plain": [
              "True"
            ]
          },
          "execution_count": 53,
          "metadata": {},
          "output_type": "execute_result"
        }
      ],
      "source": [
        "df1.columns.to_list() == df2.columns.to_list()"
      ]
    },
    {
      "cell_type": "code",
      "execution_count": null,
      "metadata": {
        "id": "NrJ1L9-jLwqR",
        "outputId": "8fd0eea0-8c06-4f89-c2b4-187b8312ae66"
      },
      "outputs": [
        {
          "data": {
            "text/html": [
              "<div>\n",
              "<style scoped>\n",
              "    .dataframe tbody tr th:only-of-type {\n",
              "        vertical-align: middle;\n",
              "    }\n",
              "\n",
              "    .dataframe tbody tr th {\n",
              "        vertical-align: top;\n",
              "    }\n",
              "\n",
              "    .dataframe thead th {\n",
              "        text-align: right;\n",
              "    }\n",
              "</style>\n",
              "<table border=\"1\" class=\"dataframe\">\n",
              "  <thead>\n",
              "    <tr style=\"text-align: right;\">\n",
              "      <th></th>\n",
              "      <th>nome</th>\n",
              "      <th>val</th>\n",
              "    </tr>\n",
              "  </thead>\n",
              "  <tbody>\n",
              "    <tr>\n",
              "      <th>0</th>\n",
              "      <td>eu</td>\n",
              "      <td>1</td>\n",
              "    </tr>\n",
              "    <tr>\n",
              "      <th>1</th>\n",
              "      <td>tu</td>\n",
              "      <td>1</td>\n",
              "    </tr>\n",
              "    <tr>\n",
              "      <th>2</th>\n",
              "      <td>ele/ela</td>\n",
              "      <td>1</td>\n",
              "    </tr>\n",
              "    <tr>\n",
              "      <th>3</th>\n",
              "      <td>nós</td>\n",
              "      <td>2</td>\n",
              "    </tr>\n",
              "    <tr>\n",
              "      <th>4</th>\n",
              "      <td>vós</td>\n",
              "      <td>2</td>\n",
              "    </tr>\n",
              "    <tr>\n",
              "      <th>5</th>\n",
              "      <td>eles/elas</td>\n",
              "      <td>2</td>\n",
              "    </tr>\n",
              "  </tbody>\n",
              "</table>\n",
              "</div>"
            ],
            "text/plain": [
              "        nome  val\n",
              "0         eu    1\n",
              "1         tu    1\n",
              "2    ele/ela    1\n",
              "3        nós    2\n",
              "4        vós    2\n",
              "5  eles/elas    2"
            ]
          },
          "execution_count": 55,
          "metadata": {},
          "output_type": "execute_result"
        }
      ],
      "source": [
        "# Repare que por padrão o pandas já realiza o empilhamento dos dois dataframes, mas os índices estão confusos\n",
        "pd.concat([df1, df2]).reset_index(drop=True)"
      ]
    },
    {
      "cell_type": "code",
      "execution_count": null,
      "metadata": {
        "id": "nK2MArMbLwqS",
        "outputId": "60374721-d04f-44cd-e83c-79b4a01dc273"
      },
      "outputs": [
        {
          "data": {
            "text/html": [
              "<div>\n",
              "<style scoped>\n",
              "    .dataframe tbody tr th:only-of-type {\n",
              "        vertical-align: middle;\n",
              "    }\n",
              "\n",
              "    .dataframe tbody tr th {\n",
              "        vertical-align: top;\n",
              "    }\n",
              "\n",
              "    .dataframe thead th {\n",
              "        text-align: right;\n",
              "    }\n",
              "</style>\n",
              "<table border=\"1\" class=\"dataframe\">\n",
              "  <thead>\n",
              "    <tr style=\"text-align: right;\">\n",
              "      <th></th>\n",
              "      <th>nome</th>\n",
              "      <th>val</th>\n",
              "    </tr>\n",
              "  </thead>\n",
              "  <tbody>\n",
              "    <tr>\n",
              "      <th>4</th>\n",
              "      <td>nós</td>\n",
              "      <td>2</td>\n",
              "    </tr>\n",
              "    <tr>\n",
              "      <th>5</th>\n",
              "      <td>vós</td>\n",
              "      <td>2</td>\n",
              "    </tr>\n",
              "    <tr>\n",
              "      <th>6</th>\n",
              "      <td>eles/elas</td>\n",
              "      <td>2</td>\n",
              "    </tr>\n",
              "  </tbody>\n",
              "</table>\n",
              "</div>"
            ],
            "text/plain": [
              "        nome  val\n",
              "4        nós    2\n",
              "5        vós    2\n",
              "6  eles/elas    2"
            ]
          },
          "execution_count": 56,
          "metadata": {},
          "output_type": "execute_result"
        }
      ],
      "source": [
        "# Utilizamos o método .copy() para fazermos uma cópia do dataframe\n",
        "new_df = df2.copy()\n",
        "# O atributo .index do dataframe chama os índices\n",
        "new_df.index=[4,5,6]\n",
        "new_df"
      ]
    },
    {
      "cell_type": "code",
      "execution_count": null,
      "metadata": {
        "id": "huWxJ2hkLwqS",
        "outputId": "f415bc79-0713-47e9-f431-f7457847a72b"
      },
      "outputs": [
        {
          "data": {
            "text/html": [
              "<div>\n",
              "<style scoped>\n",
              "    .dataframe tbody tr th:only-of-type {\n",
              "        vertical-align: middle;\n",
              "    }\n",
              "\n",
              "    .dataframe tbody tr th {\n",
              "        vertical-align: top;\n",
              "    }\n",
              "\n",
              "    .dataframe thead th {\n",
              "        text-align: right;\n",
              "    }\n",
              "</style>\n",
              "<table border=\"1\" class=\"dataframe\">\n",
              "  <thead>\n",
              "    <tr style=\"text-align: right;\">\n",
              "      <th></th>\n",
              "      <th>nome</th>\n",
              "      <th>val</th>\n",
              "    </tr>\n",
              "  </thead>\n",
              "  <tbody>\n",
              "    <tr>\n",
              "      <th>0</th>\n",
              "      <td>eu</td>\n",
              "      <td>1</td>\n",
              "    </tr>\n",
              "    <tr>\n",
              "      <th>1</th>\n",
              "      <td>tu</td>\n",
              "      <td>1</td>\n",
              "    </tr>\n",
              "    <tr>\n",
              "      <th>2</th>\n",
              "      <td>ele/ela</td>\n",
              "      <td>1</td>\n",
              "    </tr>\n",
              "    <tr>\n",
              "      <th>4</th>\n",
              "      <td>nós</td>\n",
              "      <td>2</td>\n",
              "    </tr>\n",
              "    <tr>\n",
              "      <th>5</th>\n",
              "      <td>vós</td>\n",
              "      <td>2</td>\n",
              "    </tr>\n",
              "    <tr>\n",
              "      <th>6</th>\n",
              "      <td>eles/elas</td>\n",
              "      <td>2</td>\n",
              "    </tr>\n",
              "  </tbody>\n",
              "</table>\n",
              "</div>"
            ],
            "text/plain": [
              "        nome  val\n",
              "0         eu    1\n",
              "1         tu    1\n",
              "2    ele/ela    1\n",
              "4        nós    2\n",
              "5        vós    2\n",
              "6  eles/elas    2"
            ]
          },
          "execution_count": 57,
          "metadata": {},
          "output_type": "execute_result"
        }
      ],
      "source": [
        "pd.concat([df1, new_df], axis=0)"
      ]
    },
    {
      "cell_type": "markdown",
      "metadata": {
        "id": "PvpolhetLwqS"
      },
      "source": [
        "Caso se queira colocar um do lado do outro, invés de em cima, usamos o parâmetro \"axis\"."
      ]
    },
    {
      "cell_type": "code",
      "execution_count": null,
      "metadata": {
        "id": "PCUqkx9PLwqS",
        "outputId": "4ec0f40e-ffc4-49bd-f831-c09d2e93e5f5"
      },
      "outputs": [
        {
          "data": {
            "text/html": [
              "<div>\n",
              "<style scoped>\n",
              "    .dataframe tbody tr th:only-of-type {\n",
              "        vertical-align: middle;\n",
              "    }\n",
              "\n",
              "    .dataframe tbody tr th {\n",
              "        vertical-align: top;\n",
              "    }\n",
              "\n",
              "    .dataframe thead th {\n",
              "        text-align: right;\n",
              "    }\n",
              "</style>\n",
              "<table border=\"1\" class=\"dataframe\">\n",
              "  <thead>\n",
              "    <tr style=\"text-align: right;\">\n",
              "      <th></th>\n",
              "      <th>nome</th>\n",
              "      <th>val</th>\n",
              "      <th>nome</th>\n",
              "      <th>val</th>\n",
              "    </tr>\n",
              "  </thead>\n",
              "  <tbody>\n",
              "    <tr>\n",
              "      <th>0</th>\n",
              "      <td>eu</td>\n",
              "      <td>1.0</td>\n",
              "      <td>NaN</td>\n",
              "      <td>NaN</td>\n",
              "    </tr>\n",
              "    <tr>\n",
              "      <th>1</th>\n",
              "      <td>tu</td>\n",
              "      <td>1.0</td>\n",
              "      <td>NaN</td>\n",
              "      <td>NaN</td>\n",
              "    </tr>\n",
              "    <tr>\n",
              "      <th>2</th>\n",
              "      <td>ele/ela</td>\n",
              "      <td>1.0</td>\n",
              "      <td>NaN</td>\n",
              "      <td>NaN</td>\n",
              "    </tr>\n",
              "    <tr>\n",
              "      <th>4</th>\n",
              "      <td>NaN</td>\n",
              "      <td>NaN</td>\n",
              "      <td>nós</td>\n",
              "      <td>2.0</td>\n",
              "    </tr>\n",
              "    <tr>\n",
              "      <th>5</th>\n",
              "      <td>NaN</td>\n",
              "      <td>NaN</td>\n",
              "      <td>vós</td>\n",
              "      <td>2.0</td>\n",
              "    </tr>\n",
              "    <tr>\n",
              "      <th>6</th>\n",
              "      <td>NaN</td>\n",
              "      <td>NaN</td>\n",
              "      <td>eles/elas</td>\n",
              "      <td>2.0</td>\n",
              "    </tr>\n",
              "  </tbody>\n",
              "</table>\n",
              "</div>"
            ],
            "text/plain": [
              "      nome  val       nome  val\n",
              "0       eu  1.0        NaN  NaN\n",
              "1       tu  1.0        NaN  NaN\n",
              "2  ele/ela  1.0        NaN  NaN\n",
              "4      NaN  NaN        nós  2.0\n",
              "5      NaN  NaN        vós  2.0\n",
              "6      NaN  NaN  eles/elas  2.0"
            ]
          },
          "execution_count": 58,
          "metadata": {},
          "output_type": "execute_result"
        }
      ],
      "source": [
        "# Agora ao passarmos o axis=1 ele entende que desejamos realizar uma concatenação \"lateral\" - também conhecido como merge\n",
        "pd.concat([df1, new_df], axis=1)"
      ]
    },
    {
      "cell_type": "markdown",
      "metadata": {
        "id": "AgG00XO-LwqS"
      },
      "source": [
        "### Rename\n",
        "  \n",
        "O rename é utilizado para renomear labels do dataframe"
      ]
    },
    {
      "cell_type": "code",
      "execution_count": null,
      "metadata": {
        "id": "UH_eCx7sLwqS",
        "outputId": "31fb2e8e-1fba-4294-9992-e928f0d906dc"
      },
      "outputs": [
        {
          "data": {
            "text/html": [
              "<div>\n",
              "<style scoped>\n",
              "    .dataframe tbody tr th:only-of-type {\n",
              "        vertical-align: middle;\n",
              "    }\n",
              "\n",
              "    .dataframe tbody tr th {\n",
              "        vertical-align: top;\n",
              "    }\n",
              "\n",
              "    .dataframe thead th {\n",
              "        text-align: right;\n",
              "    }\n",
              "</style>\n",
              "<table border=\"1\" class=\"dataframe\">\n",
              "  <thead>\n",
              "    <tr style=\"text-align: right;\">\n",
              "      <th></th>\n",
              "      <th>nome</th>\n",
              "      <th>val</th>\n",
              "    </tr>\n",
              "  </thead>\n",
              "  <tbody>\n",
              "    <tr>\n",
              "      <th>0</th>\n",
              "      <td>eu</td>\n",
              "      <td>1</td>\n",
              "    </tr>\n",
              "    <tr>\n",
              "      <th>1</th>\n",
              "      <td>tu</td>\n",
              "      <td>1</td>\n",
              "    </tr>\n",
              "    <tr>\n",
              "      <th>2</th>\n",
              "      <td>ele/ela</td>\n",
              "      <td>1</td>\n",
              "    </tr>\n",
              "  </tbody>\n",
              "</table>\n",
              "</div>"
            ],
            "text/plain": [
              "      nome  val\n",
              "0       eu    1\n",
              "1       tu    1\n",
              "2  ele/ela    1"
            ]
          },
          "execution_count": 59,
          "metadata": {},
          "output_type": "execute_result"
        }
      ],
      "source": [
        "df1"
      ]
    },
    {
      "cell_type": "code",
      "execution_count": null,
      "metadata": {
        "id": "e7fqN2HaLwqS",
        "outputId": "3636eaf8-63e9-4924-f7cd-69f08d1b0189"
      },
      "outputs": [
        {
          "data": {
            "text/html": [
              "<div>\n",
              "<style scoped>\n",
              "    .dataframe tbody tr th:only-of-type {\n",
              "        vertical-align: middle;\n",
              "    }\n",
              "\n",
              "    .dataframe tbody tr th {\n",
              "        vertical-align: top;\n",
              "    }\n",
              "\n",
              "    .dataframe thead th {\n",
              "        text-align: right;\n",
              "    }\n",
              "</style>\n",
              "<table border=\"1\" class=\"dataframe\">\n",
              "  <thead>\n",
              "    <tr style=\"text-align: right;\">\n",
              "      <th></th>\n",
              "      <th>nome_alterado</th>\n",
              "      <th>val</th>\n",
              "    </tr>\n",
              "  </thead>\n",
              "  <tbody>\n",
              "    <tr>\n",
              "      <th>0</th>\n",
              "      <td>eu</td>\n",
              "      <td>1</td>\n",
              "    </tr>\n",
              "    <tr>\n",
              "      <th>1</th>\n",
              "      <td>tu</td>\n",
              "      <td>1</td>\n",
              "    </tr>\n",
              "    <tr>\n",
              "      <th>2</th>\n",
              "      <td>ele/ela</td>\n",
              "      <td>1</td>\n",
              "    </tr>\n",
              "  </tbody>\n",
              "</table>\n",
              "</div>"
            ],
            "text/plain": [
              "  nome_alterado  val\n",
              "0            eu    1\n",
              "1            tu    1\n",
              "2       ele/ela    1"
            ]
          },
          "execution_count": 60,
          "metadata": {},
          "output_type": "execute_result"
        }
      ],
      "source": [
        "# Para renomearmos as colunas de um dataframe utilizamos um dicionário tendo como chave\n",
        "# o valor antigo e valor o novo\n",
        "# inplace = True sem ele a variável não muda\n",
        "df1.rename(columns={'nome': 'nome_alterado'})"
      ]
    },
    {
      "cell_type": "code",
      "execution_count": null,
      "metadata": {
        "id": "2zZVKGHRLwqS",
        "outputId": "55a6cbe7-df2e-44d1-cc84-5d343f53fc30"
      },
      "outputs": [
        {
          "data": {
            "text/plain": [
              "Index(['nome', 'val'], dtype='object')"
            ]
          },
          "execution_count": 61,
          "metadata": {},
          "output_type": "execute_result"
        }
      ],
      "source": [
        "df1.columns"
      ]
    },
    {
      "cell_type": "code",
      "execution_count": null,
      "metadata": {
        "id": "jqpNESkmLwqS",
        "outputId": "4c4626b4-dd00-4c50-8402-d72cbc88a12e"
      },
      "outputs": [
        {
          "data": {
            "text/html": [
              "<div>\n",
              "<style scoped>\n",
              "    .dataframe tbody tr th:only-of-type {\n",
              "        vertical-align: middle;\n",
              "    }\n",
              "\n",
              "    .dataframe tbody tr th {\n",
              "        vertical-align: top;\n",
              "    }\n",
              "\n",
              "    .dataframe thead th {\n",
              "        text-align: right;\n",
              "    }\n",
              "</style>\n",
              "<table border=\"1\" class=\"dataframe\">\n",
              "  <thead>\n",
              "    <tr style=\"text-align: right;\">\n",
              "      <th></th>\n",
              "      <th>nome_alterado</th>\n",
              "      <th>valor</th>\n",
              "    </tr>\n",
              "  </thead>\n",
              "  <tbody>\n",
              "    <tr>\n",
              "      <th>0</th>\n",
              "      <td>eu</td>\n",
              "      <td>1</td>\n",
              "    </tr>\n",
              "    <tr>\n",
              "      <th>1</th>\n",
              "      <td>tu</td>\n",
              "      <td>1</td>\n",
              "    </tr>\n",
              "    <tr>\n",
              "      <th>2</th>\n",
              "      <td>ele/ela</td>\n",
              "      <td>1</td>\n",
              "    </tr>\n",
              "  </tbody>\n",
              "</table>\n",
              "</div>"
            ],
            "text/plain": [
              "  nome_alterado  valor\n",
              "0            eu      1\n",
              "1            tu      1\n",
              "2       ele/ela      1"
            ]
          },
          "execution_count": 62,
          "metadata": {},
          "output_type": "execute_result"
        }
      ],
      "source": [
        "df1.columns = ['nome_alterado', 'valor']\n",
        "df1"
      ]
    },
    {
      "cell_type": "markdown",
      "metadata": {
        "id": "g0eJ7jVZLwqV"
      },
      "source": [
        "## Exploração de dados: Estatísticas"
      ]
    },
    {
      "cell_type": "code",
      "execution_count": null,
      "metadata": {
        "id": "LvXVMDHHLwqV"
      },
      "outputs": [],
      "source": [
        "df = pd.read_table('../dados/dados_parciais.txt', sep=';', decimal=',')"
      ]
    },
    {
      "cell_type": "markdown",
      "metadata": {
        "id": "ofqu-dVGLwqV"
      },
      "source": [
        "### Head"
      ]
    },
    {
      "cell_type": "code",
      "execution_count": null,
      "metadata": {
        "id": "Thzbcku1LwqV",
        "outputId": "9f295762-15d9-4ba2-fefc-014b48cdb9e2"
      },
      "outputs": [
        {
          "data": {
            "text/html": [
              "<div>\n",
              "<style scoped>\n",
              "    .dataframe tbody tr th:only-of-type {\n",
              "        vertical-align: middle;\n",
              "    }\n",
              "\n",
              "    .dataframe tbody tr th {\n",
              "        vertical-align: top;\n",
              "    }\n",
              "\n",
              "    .dataframe thead th {\n",
              "        text-align: right;\n",
              "    }\n",
              "</style>\n",
              "<table border=\"1\" class=\"dataframe\">\n",
              "  <thead>\n",
              "    <tr style=\"text-align: right;\">\n",
              "      <th></th>\n",
              "      <th>regiao</th>\n",
              "      <th>uf</th>\n",
              "      <th>superficie</th>\n",
              "      <th>pop_urbana</th>\n",
              "      <th>pop_rural</th>\n",
              "      <th>total</th>\n",
              "    </tr>\n",
              "  </thead>\n",
              "  <tbody>\n",
              "    <tr>\n",
              "      <th>0</th>\n",
              "      <td>Norte</td>\n",
              "      <td>RO</td>\n",
              "      <td>238513</td>\n",
              "      <td>762864.0</td>\n",
              "      <td>468143.0</td>\n",
              "      <td>1231007.0</td>\n",
              "    </tr>\n",
              "    <tr>\n",
              "      <th>1</th>\n",
              "      <td>Norte</td>\n",
              "      <td>AC</td>\n",
              "      <td>153150</td>\n",
              "      <td>315401.0</td>\n",
              "      <td>168322.0</td>\n",
              "      <td>483726.0</td>\n",
              "    </tr>\n",
              "    <tr>\n",
              "      <th>2</th>\n",
              "      <td>Norte</td>\n",
              "      <td>AM</td>\n",
              "      <td>1577820</td>\n",
              "      <td>1766166.0</td>\n",
              "      <td>623113.0</td>\n",
              "      <td>2389279.0</td>\n",
              "    </tr>\n",
              "  </tbody>\n",
              "</table>\n",
              "</div>"
            ],
            "text/plain": [
              "  regiao  uf  superficie  pop_urbana  pop_rural      total\n",
              "0  Norte  RO      238513    762864.0   468143.0  1231007.0\n",
              "1  Norte  AC      153150    315401.0   168322.0   483726.0\n",
              "2  Norte  AM     1577820   1766166.0   623113.0  2389279.0"
            ]
          },
          "execution_count": 64,
          "metadata": {},
          "output_type": "execute_result"
        }
      ],
      "source": [
        "# O head é utilizado para observarmos o início de um dataframe\n",
        "df.head(3)"
      ]
    },
    {
      "cell_type": "markdown",
      "metadata": {
        "id": "qKNYQhKhLwqW"
      },
      "source": [
        "### Tail"
      ]
    },
    {
      "cell_type": "code",
      "execution_count": null,
      "metadata": {
        "id": "RmM5kb0fLwqW",
        "outputId": "7396a249-dc21-4fd3-e975-55a36c2296eb"
      },
      "outputs": [
        {
          "data": {
            "text/html": [
              "<div>\n",
              "<style scoped>\n",
              "    .dataframe tbody tr th:only-of-type {\n",
              "        vertical-align: middle;\n",
              "    }\n",
              "\n",
              "    .dataframe tbody tr th {\n",
              "        vertical-align: top;\n",
              "    }\n",
              "\n",
              "    .dataframe thead th {\n",
              "        text-align: right;\n",
              "    }\n",
              "</style>\n",
              "<table border=\"1\" class=\"dataframe\">\n",
              "  <thead>\n",
              "    <tr style=\"text-align: right;\">\n",
              "      <th></th>\n",
              "      <th>regiao</th>\n",
              "      <th>uf</th>\n",
              "      <th>superficie</th>\n",
              "      <th>pop_urbana</th>\n",
              "      <th>pop_rural</th>\n",
              "      <th>total</th>\n",
              "    </tr>\n",
              "  </thead>\n",
              "  <tbody>\n",
              "    <tr>\n",
              "      <th>26</th>\n",
              "      <td>Centro-Oeste</td>\n",
              "      <td>GO</td>\n",
              "      <td>3412895</td>\n",
              "      <td>3873722.0</td>\n",
              "      <td>642146.0</td>\n",
              "      <td>4515868.0</td>\n",
              "    </tr>\n",
              "    <tr>\n",
              "      <th>27</th>\n",
              "      <td>Centro-Oeste</td>\n",
              "      <td>DF</td>\n",
              "      <td>5822</td>\n",
              "      <td>1692248.0</td>\n",
              "      <td>129698.0</td>\n",
              "      <td>1821946.0</td>\n",
              "    </tr>\n",
              "    <tr>\n",
              "      <th>28</th>\n",
              "      <td>NaN</td>\n",
              "      <td>Ilhas***</td>\n",
              "      <td>10</td>\n",
              "      <td>NaN</td>\n",
              "      <td>NaN</td>\n",
              "      <td>NaN</td>\n",
              "    </tr>\n",
              "  </tbody>\n",
              "</table>\n",
              "</div>"
            ],
            "text/plain": [
              "          regiao        uf  superficie  pop_urbana  pop_rural      total\n",
              "26  Centro-Oeste        GO     3412895   3873722.0   642146.0  4515868.0\n",
              "27  Centro-Oeste        DF        5822   1692248.0   129698.0  1821946.0\n",
              "28           NaN  Ilhas***          10         NaN        NaN        NaN"
            ]
          },
          "execution_count": 65,
          "metadata": {},
          "output_type": "execute_result"
        }
      ],
      "source": [
        "# O tail é utilizado para observarmos o final de um dataframe\n",
        "df.tail(3)"
      ]
    },
    {
      "cell_type": "markdown",
      "metadata": {
        "id": "d4grKUgNLwqW"
      },
      "source": [
        "### Describe"
      ]
    },
    {
      "cell_type": "code",
      "execution_count": null,
      "metadata": {
        "id": "rXR779gPLwqW",
        "outputId": "cd307890-5b8e-441e-87ea-b78381c0ed93"
      },
      "outputs": [
        {
          "data": {
            "text/html": [
              "<div>\n",
              "<style scoped>\n",
              "    .dataframe tbody tr th:only-of-type {\n",
              "        vertical-align: middle;\n",
              "    }\n",
              "\n",
              "    .dataframe tbody tr th {\n",
              "        vertical-align: top;\n",
              "    }\n",
              "\n",
              "    .dataframe thead th {\n",
              "        text-align: right;\n",
              "    }\n",
              "</style>\n",
              "<table border=\"1\" class=\"dataframe\">\n",
              "  <thead>\n",
              "    <tr style=\"text-align: right;\">\n",
              "      <th></th>\n",
              "      <th>superficie</th>\n",
              "      <th>pop_urbana</th>\n",
              "      <th>pop_rural</th>\n",
              "      <th>total</th>\n",
              "    </tr>\n",
              "  </thead>\n",
              "  <tbody>\n",
              "    <tr>\n",
              "      <th>count</th>\n",
              "      <td>2.900000e+01</td>\n",
              "      <td>2.700000e+01</td>\n",
              "      <td>2.700000e+01</td>\n",
              "      <td>2.700000e+01</td>\n",
              "    </tr>\n",
              "    <tr>\n",
              "      <th>mean</th>\n",
              "      <td>4.006556e+05</td>\n",
              "      <td>4.558599e+06</td>\n",
              "      <td>1.259163e+06</td>\n",
              "      <td>5.817762e+06</td>\n",
              "    </tr>\n",
              "    <tr>\n",
              "      <th>std</th>\n",
              "      <td>6.894146e+05</td>\n",
              "      <td>6.443718e+06</td>\n",
              "      <td>1.162186e+06</td>\n",
              "      <td>7.084996e+06</td>\n",
              "    </tr>\n",
              "    <tr>\n",
              "      <th>min</th>\n",
              "      <td>1.000000e+01</td>\n",
              "      <td>1.742770e+05</td>\n",
              "      <td>4.886900e+04</td>\n",
              "      <td>2.471310e+05</td>\n",
              "    </tr>\n",
              "    <tr>\n",
              "      <th>25%</th>\n",
              "      <td>5.330700e+04</td>\n",
              "      <td>1.580216e+06</td>\n",
              "      <td>4.758745e+05</td>\n",
              "      <td>1.874890e+06</td>\n",
              "    </tr>\n",
              "    <tr>\n",
              "      <th>50%</th>\n",
              "      <td>1.997090e+05</td>\n",
              "      <td>2.176006e+06</td>\n",
              "      <td>7.151740e+05</td>\n",
              "      <td>2.802707e+06</td>\n",
              "    </tr>\n",
              "    <tr>\n",
              "      <th>75%</th>\n",
              "      <td>3.333660e+05</td>\n",
              "      <td>5.095113e+06</td>\n",
              "      <td>2.024133e+06</td>\n",
              "      <td>7.104462e+06</td>\n",
              "    </tr>\n",
              "    <tr>\n",
              "      <th>max</th>\n",
              "      <td>3.412895e+06</td>\n",
              "      <td>3.176922e+07</td>\n",
              "      <td>4.714902e+06</td>\n",
              "      <td>3.412089e+07</td>\n",
              "    </tr>\n",
              "  </tbody>\n",
              "</table>\n",
              "</div>"
            ],
            "text/plain": [
              "         superficie    pop_urbana     pop_rural         total\n",
              "count  2.900000e+01  2.700000e+01  2.700000e+01  2.700000e+01\n",
              "mean   4.006556e+05  4.558599e+06  1.259163e+06  5.817762e+06\n",
              "std    6.894146e+05  6.443718e+06  1.162186e+06  7.084996e+06\n",
              "min    1.000000e+01  1.742770e+05  4.886900e+04  2.471310e+05\n",
              "25%    5.330700e+04  1.580216e+06  4.758745e+05  1.874890e+06\n",
              "50%    1.997090e+05  2.176006e+06  7.151740e+05  2.802707e+06\n",
              "75%    3.333660e+05  5.095113e+06  2.024133e+06  7.104462e+06\n",
              "max    3.412895e+06  3.176922e+07  4.714902e+06  3.412089e+07"
            ]
          },
          "execution_count": 66,
          "metadata": {},
          "output_type": "execute_result"
        }
      ],
      "source": [
        "# Podemos sumarizar algumas estatísticas de várias colunas de uma única vez.\n",
        "df.describe()"
      ]
    },
    {
      "cell_type": "code",
      "execution_count": null,
      "metadata": {
        "id": "JUafyTaiLwqW",
        "outputId": "1116686c-a5ee-4289-c283-9434a812796d"
      },
      "outputs": [
        {
          "data": {
            "text/plain": [
              "pandas.core.frame.DataFrame"
            ]
          },
          "execution_count": 67,
          "metadata": {},
          "output_type": "execute_result"
        }
      ],
      "source": [
        "stats = df.describe()\n",
        "type(stats)"
      ]
    },
    {
      "cell_type": "code",
      "execution_count": null,
      "metadata": {
        "id": "W6vYcFOQLwqW",
        "outputId": "91f27f81-be78-44b6-9139-df720011870a"
      },
      "outputs": [
        {
          "data": {
            "text/html": [
              "<div>\n",
              "<style scoped>\n",
              "    .dataframe tbody tr th:only-of-type {\n",
              "        vertical-align: middle;\n",
              "    }\n",
              "\n",
              "    .dataframe tbody tr th {\n",
              "        vertical-align: top;\n",
              "    }\n",
              "\n",
              "    .dataframe thead th {\n",
              "        text-align: right;\n",
              "    }\n",
              "</style>\n",
              "<table border=\"1\" class=\"dataframe\">\n",
              "  <thead>\n",
              "    <tr style=\"text-align: right;\">\n",
              "      <th></th>\n",
              "      <th>superficie</th>\n",
              "      <th>pop_urbana</th>\n",
              "      <th>pop_rural</th>\n",
              "      <th>total</th>\n",
              "    </tr>\n",
              "  </thead>\n",
              "  <tbody>\n",
              "    <tr>\n",
              "      <th>count</th>\n",
              "      <td>2.900000e+01</td>\n",
              "      <td>2.700000e+01</td>\n",
              "      <td>2.700000e+01</td>\n",
              "      <td>2.700000e+01</td>\n",
              "    </tr>\n",
              "    <tr>\n",
              "      <th>mean</th>\n",
              "      <td>4.006556e+05</td>\n",
              "      <td>4.558599e+06</td>\n",
              "      <td>1.259163e+06</td>\n",
              "      <td>5.817762e+06</td>\n",
              "    </tr>\n",
              "    <tr>\n",
              "      <th>std</th>\n",
              "      <td>6.894146e+05</td>\n",
              "      <td>6.443718e+06</td>\n",
              "      <td>1.162186e+06</td>\n",
              "      <td>7.084996e+06</td>\n",
              "    </tr>\n",
              "    <tr>\n",
              "      <th>min</th>\n",
              "      <td>1.000000e+01</td>\n",
              "      <td>1.742770e+05</td>\n",
              "      <td>4.886900e+04</td>\n",
              "      <td>2.471310e+05</td>\n",
              "    </tr>\n",
              "    <tr>\n",
              "      <th>25%</th>\n",
              "      <td>5.330700e+04</td>\n",
              "      <td>1.580216e+06</td>\n",
              "      <td>4.758745e+05</td>\n",
              "      <td>1.874890e+06</td>\n",
              "    </tr>\n",
              "    <tr>\n",
              "      <th>50%</th>\n",
              "      <td>1.997090e+05</td>\n",
              "      <td>2.176006e+06</td>\n",
              "      <td>7.151740e+05</td>\n",
              "      <td>2.802707e+06</td>\n",
              "    </tr>\n",
              "    <tr>\n",
              "      <th>75%</th>\n",
              "      <td>3.333660e+05</td>\n",
              "      <td>5.095113e+06</td>\n",
              "      <td>2.024133e+06</td>\n",
              "      <td>7.104462e+06</td>\n",
              "    </tr>\n",
              "    <tr>\n",
              "      <th>max</th>\n",
              "      <td>3.412895e+06</td>\n",
              "      <td>3.176922e+07</td>\n",
              "      <td>4.714902e+06</td>\n",
              "      <td>3.412089e+07</td>\n",
              "    </tr>\n",
              "  </tbody>\n",
              "</table>\n",
              "</div>"
            ],
            "text/plain": [
              "         superficie    pop_urbana     pop_rural         total\n",
              "count  2.900000e+01  2.700000e+01  2.700000e+01  2.700000e+01\n",
              "mean   4.006556e+05  4.558599e+06  1.259163e+06  5.817762e+06\n",
              "std    6.894146e+05  6.443718e+06  1.162186e+06  7.084996e+06\n",
              "min    1.000000e+01  1.742770e+05  4.886900e+04  2.471310e+05\n",
              "25%    5.330700e+04  1.580216e+06  4.758745e+05  1.874890e+06\n",
              "50%    1.997090e+05  2.176006e+06  7.151740e+05  2.802707e+06\n",
              "75%    3.333660e+05  5.095113e+06  2.024133e+06  7.104462e+06\n",
              "max    3.412895e+06  3.176922e+07  4.714902e+06  3.412089e+07"
            ]
          },
          "execution_count": 68,
          "metadata": {},
          "output_type": "execute_result"
        }
      ],
      "source": [
        "stats"
      ]
    },
    {
      "cell_type": "code",
      "execution_count": null,
      "metadata": {
        "id": "eR6CRmrrLwqW",
        "outputId": "932281dd-b299-49e2-df9c-53f2743d7afa"
      },
      "outputs": [
        {
          "data": {
            "text/plain": [
              "count    2.700000e+01\n",
              "mean     4.558599e+06\n",
              "std      6.443718e+06\n",
              "min      1.742770e+05\n",
              "25%      1.580216e+06\n",
              "50%      2.176006e+06\n",
              "75%      5.095113e+06\n",
              "max      3.176922e+07\n",
              "Name: pop_urbana, dtype: float64"
            ]
          },
          "execution_count": 69,
          "metadata": {},
          "output_type": "execute_result"
        }
      ],
      "source": [
        "stats['pop_urbana']"
      ]
    },
    {
      "cell_type": "markdown",
      "metadata": {
        "id": "A6Bg12TbLwqW"
      },
      "source": [
        "### Outras estatísticas"
      ]
    },
    {
      "cell_type": "code",
      "execution_count": null,
      "metadata": {
        "id": "ofnbCwpvLwqX",
        "outputId": "41ef49a8-cce4-43ac-a634-dc1a92cf5152"
      },
      "outputs": [
        {
          "data": {
            "text/plain": [
              "superficie    4.006556e+05\n",
              "pop_urbana    4.558599e+06\n",
              "pop_rural     1.259163e+06\n",
              "total         5.817762e+06\n",
              "dtype: float64"
            ]
          },
          "execution_count": 71,
          "metadata": {},
          "output_type": "execute_result"
        }
      ],
      "source": [
        "# calculando uma estatística por vez\n",
        "df[[\"superficie\", \"pop_urbana\", \"pop_rural\", \"total\"]].mean()"
      ]
    },
    {
      "cell_type": "code",
      "execution_count": null,
      "metadata": {
        "id": "cyta10vTLwqX",
        "outputId": "1aadf0de-858c-402e-c1c2-bb1ee37bb246"
      },
      "outputs": [
        {
          "data": {
            "text/plain": [
              "superficie     199709.0\n",
              "pop_urbana    2176006.0\n",
              "pop_rural      715174.0\n",
              "total         2802707.0\n",
              "dtype: float64"
            ]
          },
          "execution_count": 72,
          "metadata": {},
          "output_type": "execute_result"
        }
      ],
      "source": [
        "df[[\"superficie\", \"pop_urbana\", \"pop_rural\", \"total\"]].median()"
      ]
    },
    {
      "cell_type": "code",
      "execution_count": null,
      "metadata": {
        "id": "Kbg9rbuiLwqX",
        "outputId": "3c97ed49-8d96-4680-f575-f79c271e5a19"
      },
      "outputs": [
        {
          "data": {
            "text/html": [
              "<div>\n",
              "<style scoped>\n",
              "    .dataframe tbody tr th:only-of-type {\n",
              "        vertical-align: middle;\n",
              "    }\n",
              "\n",
              "    .dataframe tbody tr th {\n",
              "        vertical-align: top;\n",
              "    }\n",
              "\n",
              "    .dataframe thead th {\n",
              "        text-align: right;\n",
              "    }\n",
              "</style>\n",
              "<table border=\"1\" class=\"dataframe\">\n",
              "  <thead>\n",
              "    <tr style=\"text-align: right;\">\n",
              "      <th></th>\n",
              "      <th>superficie</th>\n",
              "      <th>pop_urbana</th>\n",
              "      <th>pop_rural</th>\n",
              "      <th>total</th>\n",
              "    </tr>\n",
              "  </thead>\n",
              "  <tbody>\n",
              "    <tr>\n",
              "      <th>0.25</th>\n",
              "      <td>53307.0</td>\n",
              "      <td>1580216.5</td>\n",
              "      <td>475874.5</td>\n",
              "      <td>1874890.0</td>\n",
              "    </tr>\n",
              "    <tr>\n",
              "      <th>0.75</th>\n",
              "      <td>333366.0</td>\n",
              "      <td>5095113.0</td>\n",
              "      <td>2024133.0</td>\n",
              "      <td>7104462.5</td>\n",
              "    </tr>\n",
              "  </tbody>\n",
              "</table>\n",
              "</div>"
            ],
            "text/plain": [
              "      superficie  pop_urbana  pop_rural      total\n",
              "0.25     53307.0   1580216.5   475874.5  1874890.0\n",
              "0.75    333366.0   5095113.0  2024133.0  7104462.5"
            ]
          },
          "execution_count": 73,
          "metadata": {},
          "output_type": "execute_result"
        }
      ],
      "source": [
        "df[[\"superficie\", \"pop_urbana\", \"pop_rural\", \"total\"]].quantile([.25, .75])"
      ]
    },
    {
      "cell_type": "code",
      "execution_count": null,
      "metadata": {
        "id": "S_NMSxn6LwqX",
        "outputId": "56f4120e-959b-41d1-b144-1b8d741632ed"
      },
      "outputs": [
        {
          "data": {
            "text/plain": [
              "superficie        10.0\n",
              "pop_urbana    174277.0\n",
              "pop_rural      48869.0\n",
              "total         247131.0\n",
              "dtype: float64"
            ]
          },
          "execution_count": 74,
          "metadata": {},
          "output_type": "execute_result"
        }
      ],
      "source": [
        "df[[\"superficie\", \"pop_urbana\", \"pop_rural\", \"total\"]].min()"
      ]
    },
    {
      "cell_type": "code",
      "execution_count": null,
      "metadata": {
        "id": "94mRUCYKLwqX",
        "outputId": "a4ff027a-eb19-437d-cf97-8d0752ad8955"
      },
      "outputs": [
        {
          "data": {
            "text/plain": [
              "Index(['regiao', 'uf', 'superficie', 'pop_urbana', 'pop_rural', 'total'], dtype='object')"
            ]
          },
          "execution_count": 75,
          "metadata": {},
          "output_type": "execute_result"
        }
      ],
      "source": [
        "df.columns"
      ]
    },
    {
      "cell_type": "code",
      "execution_count": null,
      "metadata": {
        "id": "GtlwckwZLwqY"
      },
      "outputs": [],
      "source": [
        "new_df = df[['regiao','superficie', 'pop_urbana', 'pop_rural', 'total']]"
      ]
    },
    {
      "cell_type": "code",
      "execution_count": null,
      "metadata": {
        "id": "oRdbuJpsLwqY",
        "outputId": "1e29883a-095d-4c18-b2a9-f4ea9c70954c"
      },
      "outputs": [
        {
          "data": {
            "text/html": [
              "<div>\n",
              "<style scoped>\n",
              "    .dataframe tbody tr th:only-of-type {\n",
              "        vertical-align: middle;\n",
              "    }\n",
              "\n",
              "    .dataframe tbody tr th {\n",
              "        vertical-align: top;\n",
              "    }\n",
              "\n",
              "    .dataframe thead th {\n",
              "        text-align: right;\n",
              "    }\n",
              "</style>\n",
              "<table border=\"1\" class=\"dataframe\">\n",
              "  <thead>\n",
              "    <tr style=\"text-align: right;\">\n",
              "      <th></th>\n",
              "      <th>regiao</th>\n",
              "      <th>uf</th>\n",
              "      <th>superficie</th>\n",
              "      <th>pop_urbana</th>\n",
              "      <th>pop_rural</th>\n",
              "      <th>total</th>\n",
              "    </tr>\n",
              "  </thead>\n",
              "  <tbody>\n",
              "    <tr>\n",
              "      <th>0</th>\n",
              "      <td>Norte</td>\n",
              "      <td>RO</td>\n",
              "      <td>238513</td>\n",
              "      <td>762864.0</td>\n",
              "      <td>468143.0</td>\n",
              "      <td>1231007.0</td>\n",
              "    </tr>\n",
              "    <tr>\n",
              "      <th>1</th>\n",
              "      <td>Norte</td>\n",
              "      <td>AC</td>\n",
              "      <td>153150</td>\n",
              "      <td>315401.0</td>\n",
              "      <td>168322.0</td>\n",
              "      <td>483726.0</td>\n",
              "    </tr>\n",
              "    <tr>\n",
              "      <th>2</th>\n",
              "      <td>Norte</td>\n",
              "      <td>AM</td>\n",
              "      <td>1577820</td>\n",
              "      <td>1766166.0</td>\n",
              "      <td>623113.0</td>\n",
              "      <td>2389279.0</td>\n",
              "    </tr>\n",
              "    <tr>\n",
              "      <th>3</th>\n",
              "      <td>Norte</td>\n",
              "      <td>RR</td>\n",
              "      <td>225116</td>\n",
              "      <td>174277.0</td>\n",
              "      <td>72854.0</td>\n",
              "      <td>247131.0</td>\n",
              "    </tr>\n",
              "    <tr>\n",
              "      <th>4</th>\n",
              "      <td>Norte</td>\n",
              "      <td>PA</td>\n",
              "      <td>1253165</td>\n",
              "      <td>2949017.0</td>\n",
              "      <td>2561832.0</td>\n",
              "      <td>5510849.0</td>\n",
              "    </tr>\n",
              "  </tbody>\n",
              "</table>\n",
              "</div>"
            ],
            "text/plain": [
              "  regiao  uf  superficie  pop_urbana  pop_rural      total\n",
              "0  Norte  RO      238513    762864.0   468143.0  1231007.0\n",
              "1  Norte  AC      153150    315401.0   168322.0   483726.0\n",
              "2  Norte  AM     1577820   1766166.0   623113.0  2389279.0\n",
              "3  Norte  RR      225116    174277.0    72854.0   247131.0\n",
              "4  Norte  PA     1253165   2949017.0  2561832.0  5510849.0"
            ]
          },
          "execution_count": 79,
          "metadata": {},
          "output_type": "execute_result"
        }
      ],
      "source": [
        "df.head()"
      ]
    },
    {
      "cell_type": "code",
      "execution_count": null,
      "metadata": {
        "id": "CSwCXZTKLwqY",
        "outputId": "b201324f-ec39-4a85-dc2c-5931deb43a8b"
      },
      "outputs": [
        {
          "data": {
            "text/html": [
              "<div>\n",
              "<style scoped>\n",
              "    .dataframe tbody tr th:only-of-type {\n",
              "        vertical-align: middle;\n",
              "    }\n",
              "\n",
              "    .dataframe tbody tr th {\n",
              "        vertical-align: top;\n",
              "    }\n",
              "\n",
              "    .dataframe thead th {\n",
              "        text-align: right;\n",
              "    }\n",
              "</style>\n",
              "<table border=\"1\" class=\"dataframe\">\n",
              "  <thead>\n",
              "    <tr style=\"text-align: right;\">\n",
              "      <th></th>\n",
              "      <th></th>\n",
              "      <th>superficie</th>\n",
              "      <th>pop_urbana</th>\n",
              "    </tr>\n",
              "    <tr>\n",
              "      <th>regiao</th>\n",
              "      <th>uf</th>\n",
              "      <th></th>\n",
              "      <th></th>\n",
              "    </tr>\n",
              "  </thead>\n",
              "  <tbody>\n",
              "    <tr>\n",
              "      <th rowspan=\"4\" valign=\"top\">Centro-Oeste</th>\n",
              "      <th>DF</th>\n",
              "      <td>5822.0</td>\n",
              "      <td>NaN</td>\n",
              "    </tr>\n",
              "    <tr>\n",
              "      <th>GO</th>\n",
              "      <td>3412895.0</td>\n",
              "      <td>NaN</td>\n",
              "    </tr>\n",
              "    <tr>\n",
              "      <th>MS</th>\n",
              "      <td>358159.0</td>\n",
              "      <td>NaN</td>\n",
              "    </tr>\n",
              "    <tr>\n",
              "      <th>MT</th>\n",
              "      <td>906807.0</td>\n",
              "      <td>NaN</td>\n",
              "    </tr>\n",
              "    <tr>\n",
              "      <th rowspan=\"10\" valign=\"top\">Nordeste</th>\n",
              "      <th>AL</th>\n",
              "      <td>27933.0</td>\n",
              "      <td>NaN</td>\n",
              "    </tr>\n",
              "    <tr>\n",
              "      <th>BA</th>\n",
              "      <td>567295.0</td>\n",
              "      <td>NaN</td>\n",
              "    </tr>\n",
              "    <tr>\n",
              "      <th>CE</th>\n",
              "      <td>146348.0</td>\n",
              "      <td>NaN</td>\n",
              "    </tr>\n",
              "    <tr>\n",
              "      <th>Litígio*</th>\n",
              "      <td>2977.0</td>\n",
              "      <td>NaN</td>\n",
              "    </tr>\n",
              "    <tr>\n",
              "      <th>MA</th>\n",
              "      <td>333366.0</td>\n",
              "      <td>NaN</td>\n",
              "    </tr>\n",
              "    <tr>\n",
              "      <th>PB</th>\n",
              "      <td>56585.0</td>\n",
              "      <td>NaN</td>\n",
              "    </tr>\n",
              "    <tr>\n",
              "      <th>PE**</th>\n",
              "      <td>98938.0</td>\n",
              "      <td>NaN</td>\n",
              "    </tr>\n",
              "    <tr>\n",
              "      <th>PI</th>\n",
              "      <td>252379.0</td>\n",
              "      <td>NaN</td>\n",
              "    </tr>\n",
              "    <tr>\n",
              "      <th>RN</th>\n",
              "      <td>53307.0</td>\n",
              "      <td>NaN</td>\n",
              "    </tr>\n",
              "    <tr>\n",
              "      <th>SE</th>\n",
              "      <td>22050.0</td>\n",
              "      <td>NaN</td>\n",
              "    </tr>\n",
              "    <tr>\n",
              "      <th rowspan=\"7\" valign=\"top\">Norte</th>\n",
              "      <th>AC</th>\n",
              "      <td>153150.0</td>\n",
              "      <td>NaN</td>\n",
              "    </tr>\n",
              "    <tr>\n",
              "      <th>AM</th>\n",
              "      <td>1577820.0</td>\n",
              "      <td>NaN</td>\n",
              "    </tr>\n",
              "    <tr>\n",
              "      <th>AP</th>\n",
              "      <td>143454.0</td>\n",
              "      <td>NaN</td>\n",
              "    </tr>\n",
              "    <tr>\n",
              "      <th>PA</th>\n",
              "      <td>1253165.0</td>\n",
              "      <td>NaN</td>\n",
              "    </tr>\n",
              "    <tr>\n",
              "      <th>RO</th>\n",
              "      <td>238513.0</td>\n",
              "      <td>NaN</td>\n",
              "    </tr>\n",
              "    <tr>\n",
              "      <th>RR</th>\n",
              "      <td>225116.0</td>\n",
              "      <td>NaN</td>\n",
              "    </tr>\n",
              "    <tr>\n",
              "      <th>TO</th>\n",
              "      <td>278421.0</td>\n",
              "      <td>NaN</td>\n",
              "    </tr>\n",
              "    <tr>\n",
              "      <th rowspan=\"4\" valign=\"top\">Sudeste</th>\n",
              "      <th>ES</th>\n",
              "      <td>46184.0</td>\n",
              "      <td>NaN</td>\n",
              "    </tr>\n",
              "    <tr>\n",
              "      <th>MG</th>\n",
              "      <td>588384.0</td>\n",
              "      <td>NaN</td>\n",
              "    </tr>\n",
              "    <tr>\n",
              "      <th>RJ</th>\n",
              "      <td>43910.0</td>\n",
              "      <td>NaN</td>\n",
              "    </tr>\n",
              "    <tr>\n",
              "      <th>SP</th>\n",
              "      <td>248809.0</td>\n",
              "      <td>NaN</td>\n",
              "    </tr>\n",
              "    <tr>\n",
              "      <th rowspan=\"3\" valign=\"top\">Sul</th>\n",
              "      <th>PR</th>\n",
              "      <td>199709.0</td>\n",
              "      <td>NaN</td>\n",
              "    </tr>\n",
              "    <tr>\n",
              "      <th>RS</th>\n",
              "      <td>282062.0</td>\n",
              "      <td>NaN</td>\n",
              "    </tr>\n",
              "    <tr>\n",
              "      <th>SC</th>\n",
              "      <td>95443.0</td>\n",
              "      <td>NaN</td>\n",
              "    </tr>\n",
              "  </tbody>\n",
              "</table>\n",
              "</div>"
            ],
            "text/plain": [
              "                       superficie  pop_urbana\n",
              "regiao       uf                              \n",
              "Centro-Oeste DF            5822.0         NaN\n",
              "             GO         3412895.0         NaN\n",
              "             MS          358159.0         NaN\n",
              "             MT          906807.0         NaN\n",
              "Nordeste     AL           27933.0         NaN\n",
              "             BA          567295.0         NaN\n",
              "             CE          146348.0         NaN\n",
              "             Litígio*      2977.0         NaN\n",
              "             MA          333366.0         NaN\n",
              "             PB           56585.0         NaN\n",
              "             PE**         98938.0         NaN\n",
              "             PI          252379.0         NaN\n",
              "             RN           53307.0         NaN\n",
              "             SE           22050.0         NaN\n",
              "Norte        AC          153150.0         NaN\n",
              "             AM         1577820.0         NaN\n",
              "             AP          143454.0         NaN\n",
              "             PA         1253165.0         NaN\n",
              "             RO          238513.0         NaN\n",
              "             RR          225116.0         NaN\n",
              "             TO          278421.0         NaN\n",
              "Sudeste      ES           46184.0         NaN\n",
              "             MG          588384.0         NaN\n",
              "             RJ           43910.0         NaN\n",
              "             SP          248809.0         NaN\n",
              "Sul          PR          199709.0         NaN\n",
              "             RS          282062.0         NaN\n",
              "             SC           95443.0         NaN"
            ]
          },
          "execution_count": 96,
          "metadata": {},
          "output_type": "execute_result"
        }
      ],
      "source": [
        "df.groupby(['regiao', 'uf']).agg({'superficie':'mean', 'pop_urbana':'std'})"
      ]
    },
    {
      "cell_type": "code",
      "execution_count": null,
      "metadata": {
        "id": "F2tekG1RLwqY"
      },
      "outputs": [],
      "source": []
    },
    {
      "cell_type": "code",
      "execution_count": null,
      "metadata": {
        "id": "S8Up1BySLwqY",
        "outputId": "ece39437-dcf0-4fbc-c087-4102a2daf74b"
      },
      "outputs": [
        {
          "data": {
            "text/html": [
              "<div>\n",
              "<style scoped>\n",
              "    .dataframe tbody tr th:only-of-type {\n",
              "        vertical-align: middle;\n",
              "    }\n",
              "\n",
              "    .dataframe tbody tr th {\n",
              "        vertical-align: top;\n",
              "    }\n",
              "\n",
              "    .dataframe thead th {\n",
              "        text-align: right;\n",
              "    }\n",
              "</style>\n",
              "<table border=\"1\" class=\"dataframe\">\n",
              "  <thead>\n",
              "    <tr style=\"text-align: right;\">\n",
              "      <th></th>\n",
              "      <th></th>\n",
              "      <th>superficie</th>\n",
              "      <th>pop_urbana</th>\n",
              "      <th>pop_rural</th>\n",
              "      <th>total</th>\n",
              "    </tr>\n",
              "    <tr>\n",
              "      <th>regiao</th>\n",
              "      <th>uf</th>\n",
              "      <th></th>\n",
              "      <th></th>\n",
              "      <th></th>\n",
              "      <th></th>\n",
              "    </tr>\n",
              "  </thead>\n",
              "  <tbody>\n",
              "    <tr>\n",
              "      <th rowspan=\"4\" valign=\"top\">Centro-Oeste</th>\n",
              "      <th>DF</th>\n",
              "      <td>5822.0</td>\n",
              "      <td>1692248.0</td>\n",
              "      <td>129698.0</td>\n",
              "      <td>1821946.0</td>\n",
              "    </tr>\n",
              "    <tr>\n",
              "      <th>GO</th>\n",
              "      <td>3412895.0</td>\n",
              "      <td>3873722.0</td>\n",
              "      <td>642146.0</td>\n",
              "      <td>4515868.0</td>\n",
              "    </tr>\n",
              "    <tr>\n",
              "      <th>MS</th>\n",
              "      <td>358159.0</td>\n",
              "      <td>1604318.0</td>\n",
              "      <td>323516.0</td>\n",
              "      <td>1927834.0</td>\n",
              "    </tr>\n",
              "    <tr>\n",
              "      <th>MT</th>\n",
              "      <td>906807.0</td>\n",
              "      <td>1695548.0</td>\n",
              "      <td>540284.0</td>\n",
              "      <td>2235832.0</td>\n",
              "    </tr>\n",
              "    <tr>\n",
              "      <th>Nordeste</th>\n",
              "      <th>AL</th>\n",
              "      <td>27933.0</td>\n",
              "      <td>1661914.0</td>\n",
              "      <td>971425.0</td>\n",
              "      <td>2633339.0</td>\n",
              "    </tr>\n",
              "  </tbody>\n",
              "</table>\n",
              "</div>"
            ],
            "text/plain": [
              "                 superficie  pop_urbana  pop_rural      total\n",
              "regiao       uf                                              \n",
              "Centro-Oeste DF      5822.0   1692248.0   129698.0  1821946.0\n",
              "             GO   3412895.0   3873722.0   642146.0  4515868.0\n",
              "             MS    358159.0   1604318.0   323516.0  1927834.0\n",
              "             MT    906807.0   1695548.0   540284.0  2235832.0\n",
              "Nordeste     AL     27933.0   1661914.0   971425.0  2633339.0"
            ]
          },
          "execution_count": 86,
          "metadata": {},
          "output_type": "execute_result"
        }
      ],
      "source": [
        "regioes_agrupadas.head()"
      ]
    },
    {
      "cell_type": "markdown",
      "metadata": {
        "id": "C5Zz3fczLwqY"
      },
      "source": [
        "## Exercicios\n",
        "1. Resete o INDEX do dataframe transformado ele em Coluna exam_data = {'name': ['Anastasia', 'Dima', 'Katherine', 'James', 'Emily', 'Michael', 'Matthew', 'Laura', 'Kevin', 'Jonas'],\n",
        "        'score': [12.5, 9, 16.5, np.nan, 9, 20, 14.5, np.nan, 8, 19],\n",
        "        'attempts': [1, 3, 2, 3, 2, 3, 1, 1, 2, 1],\n",
        "        'qualify': ['yes', 'no', 'yes', 'no', 'no', 'yes', 'yes', 'no', 'no', 'yes']}\n",
        "2. Crie um filtro para Kevin e Laura\n",
        "3. Crie um filtro para todos que tiveram um numero de tentativa(attempts) mair que 2\n",
        "4. Preencha os np.nan com 0"
      ]
    },
    {
      "cell_type": "code",
      "execution_count": null,
      "metadata": {
        "id": "OgQB9G63LwqZ"
      },
      "outputs": [],
      "source": [
        "exam_data = pd.DataFrame(\n",
        "    {\n",
        "        \"name\": [\n",
        "            \"Anastasia\",\n",
        "            \"Dima\",\n",
        "            \"Katherine\",\n",
        "            \"James\",\n",
        "            \"Emily\",\n",
        "            \"Michael\",\n",
        "            \"Matthew\",\n",
        "            \"Laura\",\n",
        "            \"Kevin\",\n",
        "            \"Jonas\",\n",
        "        ],\n",
        "        \"score\": [12.5, 9, 16.5, np.nan, 9, 20, 14.5, np.nan, 8, 19],\n",
        "        \"attempts\": [1, 3, 2, 3, 2, 3, 1, 1, 2, 1],\n",
        "        \"qualify\": [\"yes\", \"no\", \"yes\", \"no\", \"no\", \"yes\", \"yes\", \"no\", \"no\", \"yes\"],\n",
        "    }\n",
        ")\n",
        "\n",
        "exam_data.head()"
      ]
    },
    {
      "cell_type": "code",
      "execution_count": null,
      "metadata": {
        "id": "ZsQVYzGVLwqZ"
      },
      "outputs": [],
      "source": [
        "#2 Luiza\n",
        "exam_data[exam_data['name'].isin(['Kevin','Laura'])]\n",
        "\n",
        "# Outra forma\n",
        "exam_data[(exam_data['name']=='Kevin')| (exam_data['name']=='Laura')]"
      ]
    },
    {
      "cell_type": "code",
      "execution_count": null,
      "metadata": {
        "id": "OS76KzW2LwqZ"
      },
      "outputs": [],
      "source": [
        "#3\n",
        "exam_data[exam_data.attempts>2]"
      ]
    },
    {
      "cell_type": "code",
      "execution_count": null,
      "metadata": {
        "id": "40pbdH8ULwqZ"
      },
      "outputs": [],
      "source": [
        "#4\n",
        "# exam_data[exam_data['score'].isna()]\n",
        "\n",
        "exam_data.fillna(0, inplace=True)"
      ]
    },
    {
      "cell_type": "code",
      "execution_count": null,
      "metadata": {
        "id": "sxeoc6rILwqZ"
      },
      "outputs": [],
      "source": [
        "exam_data"
      ]
    },
    {
      "cell_type": "markdown",
      "metadata": {
        "id": "m8G2Y1vdLwqZ"
      },
      "source": [
        "### Importando novo Dataframe"
      ]
    },
    {
      "cell_type": "code",
      "execution_count": null,
      "metadata": {
        "id": "yx2nnTqGLwqZ"
      },
      "outputs": [],
      "source": [
        "# importando o dataframe de municípios\n"
      ]
    },
    {
      "cell_type": "code",
      "execution_count": null,
      "metadata": {
        "id": "9UCc-wR4LwqZ"
      },
      "outputs": [],
      "source": []
    },
    {
      "cell_type": "markdown",
      "metadata": {
        "id": "G188YNJlLwqZ"
      },
      "source": [
        "### Colunas\n",
        "  \n",
        "Podemos acessar os dados de uma colunas de três métodos"
      ]
    },
    {
      "cell_type": "code",
      "execution_count": null,
      "metadata": {
        "id": "uNbTYRwwLwqZ"
      },
      "outputs": [],
      "source": [
        "df_muni = pd.read_table('../dados/populacao_brasileira_por_municipio.txt', sep=';', thousands='.')"
      ]
    },
    {
      "cell_type": "code",
      "execution_count": null,
      "metadata": {
        "id": "CHSY84RBLwqZ",
        "outputId": "ba1116e0-84d5-4a38-bd90-8d212147b71a"
      },
      "outputs": [
        {
          "data": {
            "text/html": [
              "<div>\n",
              "<style scoped>\n",
              "    .dataframe tbody tr th:only-of-type {\n",
              "        vertical-align: middle;\n",
              "    }\n",
              "\n",
              "    .dataframe tbody tr th {\n",
              "        vertical-align: top;\n",
              "    }\n",
              "\n",
              "    .dataframe thead th {\n",
              "        text-align: right;\n",
              "    }\n",
              "</style>\n",
              "<table border=\"1\" class=\"dataframe\">\n",
              "  <thead>\n",
              "    <tr style=\"text-align: right;\">\n",
              "      <th></th>\n",
              "      <th>UF</th>\n",
              "      <th>COD. UF</th>\n",
              "      <th>COD. MUNIC</th>\n",
              "      <th>NOME DO MUNICÍPIO</th>\n",
              "      <th>POPULAÇÃO ESTIMADA</th>\n",
              "    </tr>\n",
              "  </thead>\n",
              "  <tbody>\n",
              "    <tr>\n",
              "      <th>0</th>\n",
              "      <td>RO</td>\n",
              "      <td>11</td>\n",
              "      <td>15</td>\n",
              "      <td>Alta Floresta D'Oeste</td>\n",
              "      <td>22516</td>\n",
              "    </tr>\n",
              "    <tr>\n",
              "      <th>1</th>\n",
              "      <td>RO</td>\n",
              "      <td>11</td>\n",
              "      <td>23</td>\n",
              "      <td>Ariquemes</td>\n",
              "      <td>111148</td>\n",
              "    </tr>\n",
              "    <tr>\n",
              "      <th>2</th>\n",
              "      <td>RO</td>\n",
              "      <td>11</td>\n",
              "      <td>31</td>\n",
              "      <td>Cabixi</td>\n",
              "      <td>5067</td>\n",
              "    </tr>\n",
              "    <tr>\n",
              "      <th>3</th>\n",
              "      <td>RO</td>\n",
              "      <td>11</td>\n",
              "      <td>49</td>\n",
              "      <td>Cacoal</td>\n",
              "      <td>86416</td>\n",
              "    </tr>\n",
              "    <tr>\n",
              "      <th>4</th>\n",
              "      <td>RO</td>\n",
              "      <td>11</td>\n",
              "      <td>56</td>\n",
              "      <td>Cerejeiras</td>\n",
              "      <td>16088</td>\n",
              "    </tr>\n",
              "    <tr>\n",
              "      <th>5</th>\n",
              "      <td>RO</td>\n",
              "      <td>11</td>\n",
              "      <td>64</td>\n",
              "      <td>Colorado do Oeste</td>\n",
              "      <td>15213</td>\n",
              "    </tr>\n",
              "    <tr>\n",
              "      <th>6</th>\n",
              "      <td>RO</td>\n",
              "      <td>11</td>\n",
              "      <td>72</td>\n",
              "      <td>Corumbiara</td>\n",
              "      <td>7052</td>\n",
              "    </tr>\n",
              "    <tr>\n",
              "      <th>7</th>\n",
              "      <td>RO</td>\n",
              "      <td>11</td>\n",
              "      <td>80</td>\n",
              "      <td>Costa Marques</td>\n",
              "      <td>19255</td>\n",
              "    </tr>\n",
              "    <tr>\n",
              "      <th>8</th>\n",
              "      <td>RO</td>\n",
              "      <td>11</td>\n",
              "      <td>98</td>\n",
              "      <td>Espigão D'Oeste</td>\n",
              "      <td>33009</td>\n",
              "    </tr>\n",
              "    <tr>\n",
              "      <th>9</th>\n",
              "      <td>RO</td>\n",
              "      <td>11</td>\n",
              "      <td>106</td>\n",
              "      <td>Guajará-Mirim</td>\n",
              "      <td>46930</td>\n",
              "    </tr>\n",
              "  </tbody>\n",
              "</table>\n",
              "</div>"
            ],
            "text/plain": [
              "   UF  COD. UF  COD. MUNIC      NOME DO MUNICÍPIO  POPULAÇÃO ESTIMADA\n",
              "0  RO       11          15  Alta Floresta D'Oeste               22516\n",
              "1  RO       11          23              Ariquemes              111148\n",
              "2  RO       11          31                 Cabixi                5067\n",
              "3  RO       11          49                 Cacoal               86416\n",
              "4  RO       11          56             Cerejeiras               16088\n",
              "5  RO       11          64      Colorado do Oeste               15213\n",
              "6  RO       11          72             Corumbiara                7052\n",
              "7  RO       11          80          Costa Marques               19255\n",
              "8  RO       11          98        Espigão D'Oeste               33009\n",
              "9  RO       11         106          Guajará-Mirim               46930"
            ]
          },
          "execution_count": 98,
          "metadata": {},
          "output_type": "execute_result"
        }
      ],
      "source": [
        "df_muni.head(10)"
      ]
    },
    {
      "cell_type": "markdown",
      "metadata": {
        "id": "ORym3sk-Lwqa"
      },
      "source": [
        "## Colunas"
      ]
    },
    {
      "cell_type": "code",
      "execution_count": null,
      "metadata": {
        "id": "PjSlsqelLwqa",
        "outputId": "1b9aa40f-3ab7-45fd-e6b8-3fb08b05d564"
      },
      "outputs": [
        {
          "data": {
            "text/plain": [
              "0       RO\n",
              "1       RO\n",
              "2       RO\n",
              "3       RO\n",
              "4       RO\n",
              "        ..\n",
              "5565    GO\n",
              "5566    GO\n",
              "5567    GO\n",
              "5568    GO\n",
              "5569    DF\n",
              "Name: UF, Length: 5570, dtype: object"
            ]
          },
          "execution_count": 101,
          "metadata": {},
          "output_type": "execute_result"
        }
      ],
      "source": [
        "df_muni.UF"
      ]
    },
    {
      "cell_type": "code",
      "execution_count": null,
      "metadata": {
        "id": "BEMtXKNsLwqa",
        "outputId": "32b456b6-79b1-4b2e-ff5f-a703cb2d0d49"
      },
      "outputs": [
        {
          "data": {
            "text/plain": [
              "pandas.core.series.Series"
            ]
          },
          "execution_count": 102,
          "metadata": {},
          "output_type": "execute_result"
        }
      ],
      "source": [
        "type(df_muni.UF)"
      ]
    },
    {
      "cell_type": "code",
      "execution_count": null,
      "metadata": {
        "id": "OF-o00sRLwqa",
        "outputId": "da526e2a-b7d6-421f-88b6-b988167ce541"
      },
      "outputs": [
        {
          "data": {
            "text/plain": [
              "numpy.ndarray"
            ]
          },
          "execution_count": 103,
          "metadata": {},
          "output_type": "execute_result"
        }
      ],
      "source": [
        "type(df_muni.UF.values)"
      ]
    },
    {
      "cell_type": "code",
      "execution_count": null,
      "metadata": {
        "id": "gH5796edLwqa",
        "outputId": "99850c5c-5b0d-4047-9ed8-19a0a3cae15b"
      },
      "outputs": [
        {
          "data": {
            "text/plain": [
              "0       RO\n",
              "1       RO\n",
              "2       RO\n",
              "3       RO\n",
              "4       RO\n",
              "        ..\n",
              "5565    GO\n",
              "5566    GO\n",
              "5567    GO\n",
              "5568    GO\n",
              "5569    DF\n",
              "Name: UF, Length: 5570, dtype: object"
            ]
          },
          "execution_count": 105,
          "metadata": {},
          "output_type": "execute_result"
        }
      ],
      "source": [
        "df_muni['UF']"
      ]
    },
    {
      "cell_type": "code",
      "execution_count": null,
      "metadata": {
        "id": "0ls51MH5Lwqa",
        "outputId": "0a8aa465-2e7e-47d5-a41a-58544df6d953"
      },
      "outputs": [
        {
          "data": {
            "text/plain": [
              "pandas.core.frame.DataFrame"
            ]
          },
          "execution_count": 106,
          "metadata": {},
          "output_type": "execute_result"
        }
      ],
      "source": [
        "type(df_muni[['UF']])"
      ]
    },
    {
      "cell_type": "markdown",
      "metadata": {
        "id": "2-UVWu6cLwqa"
      },
      "source": [
        "### Query\n",
        "  \n",
        "O método query permite realizar filtros dentro do nosso dataframe semelhante ao utilizado na linguagem SQL na clausula where"
      ]
    },
    {
      "cell_type": "code",
      "execution_count": null,
      "metadata": {
        "id": "hSkL561bLwqa",
        "outputId": "9b43b455-c2aa-402c-bc12-58ebe3547dea"
      },
      "outputs": [
        {
          "data": {
            "text/html": [
              "<div>\n",
              "<style scoped>\n",
              "    .dataframe tbody tr th:only-of-type {\n",
              "        vertical-align: middle;\n",
              "    }\n",
              "\n",
              "    .dataframe tbody tr th {\n",
              "        vertical-align: top;\n",
              "    }\n",
              "\n",
              "    .dataframe thead th {\n",
              "        text-align: right;\n",
              "    }\n",
              "</style>\n",
              "<table border=\"1\" class=\"dataframe\">\n",
              "  <thead>\n",
              "    <tr style=\"text-align: right;\">\n",
              "      <th></th>\n",
              "      <th>UF</th>\n",
              "      <th>COD. UF</th>\n",
              "      <th>COD. MUNIC</th>\n",
              "      <th>NOME DO MUNICÍPIO</th>\n",
              "      <th>POPULAÇÃO ESTIMADA</th>\n",
              "    </tr>\n",
              "  </thead>\n",
              "  <tbody>\n",
              "    <tr>\n",
              "      <th>0</th>\n",
              "      <td>RO</td>\n",
              "      <td>11</td>\n",
              "      <td>15</td>\n",
              "      <td>Alta Floresta D'Oeste</td>\n",
              "      <td>22516</td>\n",
              "    </tr>\n",
              "  </tbody>\n",
              "</table>\n",
              "</div>"
            ],
            "text/plain": [
              "   UF  COD. UF  COD. MUNIC      NOME DO MUNICÍPIO  POPULAÇÃO ESTIMADA\n",
              "0  RO       11          15  Alta Floresta D'Oeste               22516"
            ]
          },
          "execution_count": 114,
          "metadata": {},
          "output_type": "execute_result"
        }
      ],
      "source": [
        "df_muni.head(1)"
      ]
    },
    {
      "cell_type": "code",
      "execution_count": null,
      "metadata": {
        "id": "DElq13YaLwqa",
        "outputId": "fcbb567f-da77-4515-c14f-d98a49fbb08c"
      },
      "outputs": [
        {
          "data": {
            "text/html": [
              "<div>\n",
              "<style scoped>\n",
              "    .dataframe tbody tr th:only-of-type {\n",
              "        vertical-align: middle;\n",
              "    }\n",
              "\n",
              "    .dataframe tbody tr th {\n",
              "        vertical-align: top;\n",
              "    }\n",
              "\n",
              "    .dataframe thead th {\n",
              "        text-align: right;\n",
              "    }\n",
              "</style>\n",
              "<table border=\"1\" class=\"dataframe\">\n",
              "  <thead>\n",
              "    <tr style=\"text-align: right;\">\n",
              "      <th></th>\n",
              "      <th>UF</th>\n",
              "      <th>COD. UF</th>\n",
              "      <th>COD. MUNIC</th>\n",
              "      <th>NOME DO MUNICÍPIO</th>\n",
              "      <th>POPULAÇÃO ESTIMADA</th>\n",
              "    </tr>\n",
              "  </thead>\n",
              "  <tbody>\n",
              "    <tr>\n",
              "      <th>0</th>\n",
              "      <td>RO</td>\n",
              "      <td>11</td>\n",
              "      <td>15</td>\n",
              "      <td>Alta Floresta D'Oeste</td>\n",
              "      <td>22516</td>\n",
              "    </tr>\n",
              "    <tr>\n",
              "      <th>1</th>\n",
              "      <td>RO</td>\n",
              "      <td>11</td>\n",
              "      <td>23</td>\n",
              "      <td>Ariquemes</td>\n",
              "      <td>111148</td>\n",
              "    </tr>\n",
              "    <tr>\n",
              "      <th>2</th>\n",
              "      <td>RO</td>\n",
              "      <td>11</td>\n",
              "      <td>31</td>\n",
              "      <td>Cabixi</td>\n",
              "      <td>5067</td>\n",
              "    </tr>\n",
              "    <tr>\n",
              "      <th>3</th>\n",
              "      <td>RO</td>\n",
              "      <td>11</td>\n",
              "      <td>49</td>\n",
              "      <td>Cacoal</td>\n",
              "      <td>86416</td>\n",
              "    </tr>\n",
              "    <tr>\n",
              "      <th>4</th>\n",
              "      <td>RO</td>\n",
              "      <td>11</td>\n",
              "      <td>56</td>\n",
              "      <td>Cerejeiras</td>\n",
              "      <td>16088</td>\n",
              "    </tr>\n",
              "    <tr>\n",
              "      <th>...</th>\n",
              "      <td>...</td>\n",
              "      <td>...</td>\n",
              "      <td>...</td>\n",
              "      <td>...</td>\n",
              "      <td>...</td>\n",
              "    </tr>\n",
              "    <tr>\n",
              "      <th>5565</th>\n",
              "      <td>GO</td>\n",
              "      <td>52</td>\n",
              "      <td>22005</td>\n",
              "      <td>Vianópolis</td>\n",
              "      <td>14088</td>\n",
              "    </tr>\n",
              "    <tr>\n",
              "      <th>5566</th>\n",
              "      <td>GO</td>\n",
              "      <td>52</td>\n",
              "      <td>22054</td>\n",
              "      <td>Vicentinópolis</td>\n",
              "      <td>9002</td>\n",
              "    </tr>\n",
              "    <tr>\n",
              "      <th>5567</th>\n",
              "      <td>GO</td>\n",
              "      <td>52</td>\n",
              "      <td>22203</td>\n",
              "      <td>Vila Boa</td>\n",
              "      <td>6451</td>\n",
              "    </tr>\n",
              "    <tr>\n",
              "      <th>5568</th>\n",
              "      <td>GO</td>\n",
              "      <td>52</td>\n",
              "      <td>22302</td>\n",
              "      <td>Vila Propício</td>\n",
              "      <td>5941</td>\n",
              "    </tr>\n",
              "    <tr>\n",
              "      <th>5569</th>\n",
              "      <td>DF</td>\n",
              "      <td>53</td>\n",
              "      <td>108</td>\n",
              "      <td>Brasília</td>\n",
              "      <td>3094325</td>\n",
              "    </tr>\n",
              "  </tbody>\n",
              "</table>\n",
              "<p>5566 rows × 5 columns</p>\n",
              "</div>"
            ],
            "text/plain": [
              "      UF  COD. UF  COD. MUNIC      NOME DO MUNICÍPIO  POPULAÇÃO ESTIMADA\n",
              "0     RO       11          15  Alta Floresta D'Oeste               22516\n",
              "1     RO       11          23              Ariquemes              111148\n",
              "2     RO       11          31                 Cabixi                5067\n",
              "3     RO       11          49                 Cacoal               86416\n",
              "4     RO       11          56             Cerejeiras               16088\n",
              "...   ..      ...         ...                    ...                 ...\n",
              "5565  GO       52       22005             Vianópolis               14088\n",
              "5566  GO       52       22054         Vicentinópolis                9002\n",
              "5567  GO       52       22203               Vila Boa                6451\n",
              "5568  GO       52       22302          Vila Propício                5941\n",
              "5569  DF       53         108               Brasília             3094325\n",
              "\n",
              "[5566 rows x 5 columns]"
            ]
          },
          "execution_count": 115,
          "metadata": {},
          "output_type": "execute_result"
        }
      ],
      "source": [
        "# quero saber quais cidades tem população urbana > 500000\n",
        "df_muni.query(' `POPULAÇÃO ESTIMADA` > 1000 ')"
      ]
    },
    {
      "cell_type": "code",
      "execution_count": null,
      "metadata": {
        "id": "CkUVQf4nLwqb",
        "outputId": "be6d85a5-1edd-4a47-a6dc-9f93ad6d7a00"
      },
      "outputs": [
        {
          "data": {
            "text/html": [
              "<div>\n",
              "<style scoped>\n",
              "    .dataframe tbody tr th:only-of-type {\n",
              "        vertical-align: middle;\n",
              "    }\n",
              "\n",
              "    .dataframe tbody tr th {\n",
              "        vertical-align: top;\n",
              "    }\n",
              "\n",
              "    .dataframe thead th {\n",
              "        text-align: right;\n",
              "    }\n",
              "</style>\n",
              "<table border=\"1\" class=\"dataframe\">\n",
              "  <thead>\n",
              "    <tr style=\"text-align: right;\">\n",
              "      <th></th>\n",
              "      <th>UF</th>\n",
              "      <th>COD. UF</th>\n",
              "      <th>COD. MUNIC</th>\n",
              "      <th>NOME DO MUNICÍPIO</th>\n",
              "      <th>POPULAÇÃO ESTIMADA</th>\n",
              "    </tr>\n",
              "  </thead>\n",
              "  <tbody>\n",
              "    <tr>\n",
              "      <th>18</th>\n",
              "      <td>RO</td>\n",
              "      <td>11</td>\n",
              "      <td>262</td>\n",
              "      <td>Rio Crespo</td>\n",
              "      <td>3843</td>\n",
              "    </tr>\n",
              "    <tr>\n",
              "      <th>32</th>\n",
              "      <td>RO</td>\n",
              "      <td>11</td>\n",
              "      <td>908</td>\n",
              "      <td>Castanheiras</td>\n",
              "      <td>2923</td>\n",
              "    </tr>\n",
              "    <tr>\n",
              "      <th>42</th>\n",
              "      <td>RO</td>\n",
              "      <td>11</td>\n",
              "      <td>1468</td>\n",
              "      <td>Pimenteiras do Oeste</td>\n",
              "      <td>2127</td>\n",
              "    </tr>\n",
              "    <tr>\n",
              "      <th>43</th>\n",
              "      <td>RO</td>\n",
              "      <td>11</td>\n",
              "      <td>1476</td>\n",
              "      <td>Primavera de Rondônia</td>\n",
              "      <td>2697</td>\n",
              "    </tr>\n",
              "    <tr>\n",
              "      <th>44</th>\n",
              "      <td>RO</td>\n",
              "      <td>11</td>\n",
              "      <td>1484</td>\n",
              "      <td>São Felipe D'Oeste</td>\n",
              "      <td>4962</td>\n",
              "    </tr>\n",
              "    <tr>\n",
              "      <th>...</th>\n",
              "      <td>...</td>\n",
              "      <td>...</td>\n",
              "      <td>...</td>\n",
              "      <td>...</td>\n",
              "      <td>...</td>\n",
              "    </tr>\n",
              "    <tr>\n",
              "      <th>5556</th>\n",
              "      <td>GO</td>\n",
              "      <td>52</td>\n",
              "      <td>21452</td>\n",
              "      <td>Trombas</td>\n",
              "      <td>3497</td>\n",
              "    </tr>\n",
              "    <tr>\n",
              "      <th>5557</th>\n",
              "      <td>GO</td>\n",
              "      <td>52</td>\n",
              "      <td>21502</td>\n",
              "      <td>Turvânia</td>\n",
              "      <td>4526</td>\n",
              "    </tr>\n",
              "    <tr>\n",
              "      <th>5559</th>\n",
              "      <td>GO</td>\n",
              "      <td>52</td>\n",
              "      <td>21577</td>\n",
              "      <td>Uirapuru</td>\n",
              "      <td>2829</td>\n",
              "    </tr>\n",
              "    <tr>\n",
              "      <th>5562</th>\n",
              "      <td>GO</td>\n",
              "      <td>52</td>\n",
              "      <td>21809</td>\n",
              "      <td>Urutaí</td>\n",
              "      <td>3056</td>\n",
              "    </tr>\n",
              "    <tr>\n",
              "      <th>5564</th>\n",
              "      <td>GO</td>\n",
              "      <td>52</td>\n",
              "      <td>21908</td>\n",
              "      <td>Varjão</td>\n",
              "      <td>3848</td>\n",
              "    </tr>\n",
              "  </tbody>\n",
              "</table>\n",
              "<p>1250 rows × 5 columns</p>\n",
              "</div>"
            ],
            "text/plain": [
              "      UF  COD. UF  COD. MUNIC      NOME DO MUNICÍPIO  POPULAÇÃO ESTIMADA\n",
              "18    RO       11         262             Rio Crespo                3843\n",
              "32    RO       11         908           Castanheiras                2923\n",
              "42    RO       11        1468   Pimenteiras do Oeste                2127\n",
              "43    RO       11        1476  Primavera de Rondônia                2697\n",
              "44    RO       11        1484     São Felipe D'Oeste                4962\n",
              "...   ..      ...         ...                    ...                 ...\n",
              "5556  GO       52       21452                Trombas                3497\n",
              "5557  GO       52       21502               Turvânia                4526\n",
              "5559  GO       52       21577               Uirapuru                2829\n",
              "5562  GO       52       21809                 Urutaí                3056\n",
              "5564  GO       52       21908                 Varjão                3848\n",
              "\n",
              "[1250 rows x 5 columns]"
            ]
          },
          "execution_count": 122,
          "metadata": {},
          "output_type": "execute_result"
        }
      ],
      "source": [
        "# podemos usar uma variável\n",
        "limite = 5000\n",
        "\n",
        "df_muni.query(\" `POPULAÇÃO ESTIMADA` < @limite\")"
      ]
    },
    {
      "cell_type": "markdown",
      "metadata": {
        "id": "BrlxGZ-NLwqb"
      },
      "source": [
        "### .loc e .iloc"
      ]
    },
    {
      "cell_type": "code",
      "execution_count": null,
      "metadata": {
        "id": "gy-RU_owLwqb",
        "outputId": "5eecbc25-5cbf-4c74-d983-b0c227fedde0"
      },
      "outputs": [
        {
          "data": {
            "text/html": [
              "<div>\n",
              "<style scoped>\n",
              "    .dataframe tbody tr th:only-of-type {\n",
              "        vertical-align: middle;\n",
              "    }\n",
              "\n",
              "    .dataframe tbody tr th {\n",
              "        vertical-align: top;\n",
              "    }\n",
              "\n",
              "    .dataframe thead th {\n",
              "        text-align: right;\n",
              "    }\n",
              "</style>\n",
              "<table border=\"1\" class=\"dataframe\">\n",
              "  <thead>\n",
              "    <tr style=\"text-align: right;\">\n",
              "      <th></th>\n",
              "      <th>UF</th>\n",
              "      <th>COD. UF</th>\n",
              "      <th>COD. MUNIC</th>\n",
              "      <th>NOME DO MUNICÍPIO</th>\n",
              "      <th>POPULAÇÃO ESTIMADA</th>\n",
              "    </tr>\n",
              "  </thead>\n",
              "  <tbody>\n",
              "    <tr>\n",
              "      <th>0</th>\n",
              "      <td>RO</td>\n",
              "      <td>11</td>\n",
              "      <td>15</td>\n",
              "      <td>Alta Floresta D'Oeste</td>\n",
              "      <td>22516</td>\n",
              "    </tr>\n",
              "    <tr>\n",
              "      <th>1</th>\n",
              "      <td>RO</td>\n",
              "      <td>11</td>\n",
              "      <td>23</td>\n",
              "      <td>Ariquemes</td>\n",
              "      <td>111148</td>\n",
              "    </tr>\n",
              "    <tr>\n",
              "      <th>2</th>\n",
              "      <td>RO</td>\n",
              "      <td>11</td>\n",
              "      <td>31</td>\n",
              "      <td>Cabixi</td>\n",
              "      <td>5067</td>\n",
              "    </tr>\n",
              "  </tbody>\n",
              "</table>\n",
              "</div>"
            ],
            "text/plain": [
              "   UF  COD. UF  COD. MUNIC      NOME DO MUNICÍPIO  POPULAÇÃO ESTIMADA\n",
              "0  RO       11          15  Alta Floresta D'Oeste               22516\n",
              "1  RO       11          23              Ariquemes              111148\n",
              "2  RO       11          31                 Cabixi                5067"
            ]
          },
          "execution_count": 125,
          "metadata": {},
          "output_type": "execute_result"
        }
      ],
      "source": [
        "df_muni.head(3)"
      ]
    },
    {
      "cell_type": "code",
      "execution_count": null,
      "metadata": {
        "id": "8do7Zp-fLwqb",
        "outputId": "985198c5-5c1b-421d-dc27-0b180c8cebde"
      },
      "outputs": [
        {
          "data": {
            "text/plain": [
              "'Ariquemes'"
            ]
          },
          "execution_count": 134,
          "metadata": {},
          "output_type": "execute_result"
        }
      ],
      "source": [
        "# .loc usado para pesquisar índices e colunas explicitamente\n",
        "\n",
        "# quero a população urbana da segunda linha do dataset\n",
        "df_muni.loc[1, 'NOME DO MUNICÍPIO']"
      ]
    },
    {
      "cell_type": "code",
      "execution_count": null,
      "metadata": {
        "id": "Y7E2EalNLwqb",
        "outputId": "63e98fdd-0be5-469c-f6f5-82cf651125f1"
      },
      "outputs": [
        {
          "data": {
            "text/plain": [
              "UF                           RO\n",
              "COD. UF                      11\n",
              "COD. MUNIC                   23\n",
              "NOME DO MUNICÍPIO     Ariquemes\n",
              "POPULAÇÃO ESTIMADA       111148\n",
              "Name: 1, dtype: object"
            ]
          },
          "execution_count": 138,
          "metadata": {},
          "output_type": "execute_result"
        }
      ],
      "source": [
        "# qual estado corresponde à segunda linha do dataset\n",
        "df_muni.loc[1, :]"
      ]
    },
    {
      "cell_type": "code",
      "execution_count": null,
      "metadata": {
        "id": "uaQFXNfELwqb",
        "outputId": "aec1be53-d374-4f1a-93ef-2702df2e2550"
      },
      "outputs": [
        {
          "data": {
            "text/plain": [
              "1827    29\n",
              "1828    29\n",
              "1829    29\n",
              "1830    29\n",
              "1831    29\n",
              "        ..\n",
              "2239    29\n",
              "2240    29\n",
              "2241    29\n",
              "2242    29\n",
              "2243    29\n",
              "Name: COD. UF, Length: 417, dtype: int64"
            ]
          },
          "execution_count": 142,
          "metadata": {},
          "output_type": "execute_result"
        }
      ],
      "source": [
        "# posso usar lógicas para filtrar o dataset\n",
        "\n",
        "# quais estados pertencem à região NE?\n",
        "df_muni.loc[df_muni[\"UF\"]=='BA', 'COD. UF']"
      ]
    },
    {
      "cell_type": "code",
      "execution_count": null,
      "metadata": {
        "id": "RmmFveq5Lwqb",
        "outputId": "e47c14e7-11f7-4622-9906-49ad42bd007e"
      },
      "outputs": [
        {
          "data": {
            "text/html": [
              "<div>\n",
              "<style scoped>\n",
              "    .dataframe tbody tr th:only-of-type {\n",
              "        vertical-align: middle;\n",
              "    }\n",
              "\n",
              "    .dataframe tbody tr th {\n",
              "        vertical-align: top;\n",
              "    }\n",
              "\n",
              "    .dataframe thead th {\n",
              "        text-align: right;\n",
              "    }\n",
              "</style>\n",
              "<table border=\"1\" class=\"dataframe\">\n",
              "  <thead>\n",
              "    <tr style=\"text-align: right;\">\n",
              "      <th></th>\n",
              "      <th>UF</th>\n",
              "      <th>COD. UF</th>\n",
              "      <th>COD. MUNIC</th>\n",
              "      <th>NOME DO MUNICÍPIO</th>\n",
              "      <th>POPULAÇÃO ESTIMADA</th>\n",
              "    </tr>\n",
              "  </thead>\n",
              "  <tbody>\n",
              "    <tr>\n",
              "      <th>1827</th>\n",
              "      <td>BA</td>\n",
              "      <td>29</td>\n",
              "      <td>108</td>\n",
              "      <td>Abaíra</td>\n",
              "      <td>8681</td>\n",
              "    </tr>\n",
              "    <tr>\n",
              "      <th>1828</th>\n",
              "      <td>BA</td>\n",
              "      <td>29</td>\n",
              "      <td>207</td>\n",
              "      <td>Abaré</td>\n",
              "      <td>20594</td>\n",
              "    </tr>\n",
              "    <tr>\n",
              "      <th>1829</th>\n",
              "      <td>BA</td>\n",
              "      <td>29</td>\n",
              "      <td>306</td>\n",
              "      <td>Acajutiba</td>\n",
              "      <td>15214</td>\n",
              "    </tr>\n",
              "    <tr>\n",
              "      <th>1830</th>\n",
              "      <td>BA</td>\n",
              "      <td>29</td>\n",
              "      <td>355</td>\n",
              "      <td>Adustina</td>\n",
              "      <td>17209</td>\n",
              "    </tr>\n",
              "    <tr>\n",
              "      <th>1831</th>\n",
              "      <td>BA</td>\n",
              "      <td>29</td>\n",
              "      <td>405</td>\n",
              "      <td>Água Fria</td>\n",
              "      <td>17096</td>\n",
              "    </tr>\n",
              "    <tr>\n",
              "      <th>...</th>\n",
              "      <td>...</td>\n",
              "      <td>...</td>\n",
              "      <td>...</td>\n",
              "      <td>...</td>\n",
              "      <td>...</td>\n",
              "    </tr>\n",
              "    <tr>\n",
              "      <th>2239</th>\n",
              "      <td>BA</td>\n",
              "      <td>29</td>\n",
              "      <td>33307</td>\n",
              "      <td>Vitória da Conquista</td>\n",
              "      <td>343643</td>\n",
              "    </tr>\n",
              "    <tr>\n",
              "      <th>2240</th>\n",
              "      <td>BA</td>\n",
              "      <td>29</td>\n",
              "      <td>33406</td>\n",
              "      <td>Wagner</td>\n",
              "      <td>9342</td>\n",
              "    </tr>\n",
              "    <tr>\n",
              "      <th>2241</th>\n",
              "      <td>BA</td>\n",
              "      <td>29</td>\n",
              "      <td>33455</td>\n",
              "      <td>Wanderley</td>\n",
              "      <td>12125</td>\n",
              "    </tr>\n",
              "    <tr>\n",
              "      <th>2242</th>\n",
              "      <td>BA</td>\n",
              "      <td>29</td>\n",
              "      <td>33505</td>\n",
              "      <td>Wenceslau Guimarães</td>\n",
              "      <td>20862</td>\n",
              "    </tr>\n",
              "    <tr>\n",
              "      <th>2243</th>\n",
              "      <td>BA</td>\n",
              "      <td>29</td>\n",
              "      <td>33604</td>\n",
              "      <td>Xique-Xique</td>\n",
              "      <td>46562</td>\n",
              "    </tr>\n",
              "  </tbody>\n",
              "</table>\n",
              "<p>417 rows × 5 columns</p>\n",
              "</div>"
            ],
            "text/plain": [
              "      UF  COD. UF  COD. MUNIC     NOME DO MUNICÍPIO  POPULAÇÃO ESTIMADA\n",
              "1827  BA       29         108                Abaíra                8681\n",
              "1828  BA       29         207                 Abaré               20594\n",
              "1829  BA       29         306             Acajutiba               15214\n",
              "1830  BA       29         355              Adustina               17209\n",
              "1831  BA       29         405             Água Fria               17096\n",
              "...   ..      ...         ...                   ...                 ...\n",
              "2239  BA       29       33307  Vitória da Conquista              343643\n",
              "2240  BA       29       33406                Wagner                9342\n",
              "2241  BA       29       33455             Wanderley               12125\n",
              "2242  BA       29       33505   Wenceslau Guimarães               20862\n",
              "2243  BA       29       33604           Xique-Xique               46562\n",
              "\n",
              "[417 rows x 5 columns]"
            ]
          },
          "execution_count": 156,
          "metadata": {},
          "output_type": "execute_result"
        }
      ],
      "source": [
        "# quais estados pertencem à região NE e N?\n",
        "df_muni.loc[(df_muni['UF']=='BA') | ( df_muni['NOME DO MUNICÍPIO']=='Feira de Santana')]"
      ]
    },
    {
      "cell_type": "code",
      "execution_count": null,
      "metadata": {
        "id": "qQ-htb2GLwqb",
        "outputId": "414c5659-e58d-4fda-a744-a5f23fb873ed"
      },
      "outputs": [
        {
          "data": {
            "text/html": [
              "<div>\n",
              "<style scoped>\n",
              "    .dataframe tbody tr th:only-of-type {\n",
              "        vertical-align: middle;\n",
              "    }\n",
              "\n",
              "    .dataframe tbody tr th {\n",
              "        vertical-align: top;\n",
              "    }\n",
              "\n",
              "    .dataframe thead th {\n",
              "        text-align: right;\n",
              "    }\n",
              "</style>\n",
              "<table border=\"1\" class=\"dataframe\">\n",
              "  <thead>\n",
              "    <tr style=\"text-align: right;\">\n",
              "      <th></th>\n",
              "      <th>UF</th>\n",
              "      <th>COD. UF</th>\n",
              "      <th>COD. MUNIC</th>\n",
              "      <th>NOME DO MUNICÍPIO</th>\n",
              "      <th>POPULAÇÃO ESTIMADA</th>\n",
              "    </tr>\n",
              "  </thead>\n",
              "  <tbody>\n",
              "    <tr>\n",
              "      <th>0</th>\n",
              "      <td>RO</td>\n",
              "      <td>11</td>\n",
              "      <td>15</td>\n",
              "      <td>Alta Floresta D'Oeste</td>\n",
              "      <td>22516</td>\n",
              "    </tr>\n",
              "    <tr>\n",
              "      <th>1</th>\n",
              "      <td>RO</td>\n",
              "      <td>11</td>\n",
              "      <td>23</td>\n",
              "      <td>Ariquemes</td>\n",
              "      <td>111148</td>\n",
              "    </tr>\n",
              "    <tr>\n",
              "      <th>2</th>\n",
              "      <td>RO</td>\n",
              "      <td>11</td>\n",
              "      <td>31</td>\n",
              "      <td>Cabixi</td>\n",
              "      <td>5067</td>\n",
              "    </tr>\n",
              "    <tr>\n",
              "      <th>3</th>\n",
              "      <td>RO</td>\n",
              "      <td>11</td>\n",
              "      <td>49</td>\n",
              "      <td>Cacoal</td>\n",
              "      <td>86416</td>\n",
              "    </tr>\n",
              "    <tr>\n",
              "      <th>4</th>\n",
              "      <td>RO</td>\n",
              "      <td>11</td>\n",
              "      <td>56</td>\n",
              "      <td>Cerejeiras</td>\n",
              "      <td>16088</td>\n",
              "    </tr>\n",
              "    <tr>\n",
              "      <th>5</th>\n",
              "      <td>RO</td>\n",
              "      <td>11</td>\n",
              "      <td>64</td>\n",
              "      <td>Colorado do Oeste</td>\n",
              "      <td>15213</td>\n",
              "    </tr>\n",
              "    <tr>\n",
              "      <th>6</th>\n",
              "      <td>RO</td>\n",
              "      <td>11</td>\n",
              "      <td>72</td>\n",
              "      <td>Corumbiara</td>\n",
              "      <td>7052</td>\n",
              "    </tr>\n",
              "    <tr>\n",
              "      <th>7</th>\n",
              "      <td>RO</td>\n",
              "      <td>11</td>\n",
              "      <td>80</td>\n",
              "      <td>Costa Marques</td>\n",
              "      <td>19255</td>\n",
              "    </tr>\n",
              "    <tr>\n",
              "      <th>8</th>\n",
              "      <td>RO</td>\n",
              "      <td>11</td>\n",
              "      <td>98</td>\n",
              "      <td>Espigão D'Oeste</td>\n",
              "      <td>33009</td>\n",
              "    </tr>\n",
              "    <tr>\n",
              "      <th>9</th>\n",
              "      <td>RO</td>\n",
              "      <td>11</td>\n",
              "      <td>106</td>\n",
              "      <td>Guajará-Mirim</td>\n",
              "      <td>46930</td>\n",
              "    </tr>\n",
              "  </tbody>\n",
              "</table>\n",
              "</div>"
            ],
            "text/plain": [
              "   UF  COD. UF  COD. MUNIC      NOME DO MUNICÍPIO  POPULAÇÃO ESTIMADA\n",
              "0  RO       11          15  Alta Floresta D'Oeste               22516\n",
              "1  RO       11          23              Ariquemes              111148\n",
              "2  RO       11          31                 Cabixi                5067\n",
              "3  RO       11          49                 Cacoal               86416\n",
              "4  RO       11          56             Cerejeiras               16088\n",
              "5  RO       11          64      Colorado do Oeste               15213\n",
              "6  RO       11          72             Corumbiara                7052\n",
              "7  RO       11          80          Costa Marques               19255\n",
              "8  RO       11          98        Espigão D'Oeste               33009\n",
              "9  RO       11         106          Guajará-Mirim               46930"
            ]
          },
          "execution_count": 164,
          "metadata": {},
          "output_type": "execute_result"
        }
      ],
      "source": [
        "df_muni.head(10)"
      ]
    },
    {
      "cell_type": "code",
      "execution_count": null,
      "metadata": {
        "id": "7YhmBeZVLwqb",
        "outputId": "2d212d39-616b-4c7a-8187-ec02cfba00f0"
      },
      "outputs": [
        {
          "data": {
            "text/plain": [
              "np.int64(64)"
            ]
          },
          "execution_count": 163,
          "metadata": {},
          "output_type": "execute_result"
        }
      ],
      "source": [
        "# iloc faz a referência aos índices e colunas de forma implícita\n",
        "df_muni.iloc[2,2]"
      ]
    },
    {
      "cell_type": "markdown",
      "metadata": {
        "id": "GVcPrUtVLwqc"
      },
      "source": [
        "## Seleção de colunas pelo tipo:"
      ]
    },
    {
      "cell_type": "code",
      "execution_count": null,
      "metadata": {
        "id": "sf66bzZZLwqc"
      },
      "outputs": [],
      "source": []
    },
    {
      "cell_type": "markdown",
      "metadata": {
        "id": "SVm7O0O5Lwqc"
      },
      "source": [
        "## Exercício:\n",
        "1. Seleção de municípios por tamanho da população usando loc - 500k\n",
        "2. Seleção de linhas específicas usando iloc - (10, 20)\n",
        "3. Utilizar query para filtrar municípios com população entre 10.000 e 50.000 habitantes\n",
        "4. Calcular a população total do estado de Rondônia usando operações matemáticas no Pandas.\n",
        "5. Criação de uma nova coluna usando operações matemáticas e loc - População média"
      ]
    },
    {
      "cell_type": "code",
      "execution_count": null,
      "metadata": {
        "id": "XUGbHzpwLwqc",
        "outputId": "6f98e84e-b284-4582-d7a2-6c92919db408"
      },
      "outputs": [
        {
          "data": {
            "text/html": [
              "<div>\n",
              "<style scoped>\n",
              "    .dataframe tbody tr th:only-of-type {\n",
              "        vertical-align: middle;\n",
              "    }\n",
              "\n",
              "    .dataframe tbody tr th {\n",
              "        vertical-align: top;\n",
              "    }\n",
              "\n",
              "    .dataframe thead th {\n",
              "        text-align: right;\n",
              "    }\n",
              "</style>\n",
              "<table border=\"1\" class=\"dataframe\">\n",
              "  <thead>\n",
              "    <tr style=\"text-align: right;\">\n",
              "      <th></th>\n",
              "      <th>uf</th>\n",
              "      <th>cod_uf</th>\n",
              "      <th>cod_muni</th>\n",
              "      <th>nome_municipio</th>\n",
              "      <th>pop_estimada</th>\n",
              "    </tr>\n",
              "  </thead>\n",
              "  <tbody>\n",
              "    <tr>\n",
              "      <th>0</th>\n",
              "      <td>RO</td>\n",
              "      <td>11</td>\n",
              "      <td>15</td>\n",
              "      <td>Alta Floresta D'Oeste</td>\n",
              "      <td>22516</td>\n",
              "    </tr>\n",
              "    <tr>\n",
              "      <th>1</th>\n",
              "      <td>RO</td>\n",
              "      <td>11</td>\n",
              "      <td>23</td>\n",
              "      <td>Ariquemes</td>\n",
              "      <td>111148</td>\n",
              "    </tr>\n",
              "    <tr>\n",
              "      <th>2</th>\n",
              "      <td>RO</td>\n",
              "      <td>11</td>\n",
              "      <td>31</td>\n",
              "      <td>Cabixi</td>\n",
              "      <td>5067</td>\n",
              "    </tr>\n",
              "    <tr>\n",
              "      <th>3</th>\n",
              "      <td>RO</td>\n",
              "      <td>11</td>\n",
              "      <td>49</td>\n",
              "      <td>Cacoal</td>\n",
              "      <td>86416</td>\n",
              "    </tr>\n",
              "    <tr>\n",
              "      <th>4</th>\n",
              "      <td>RO</td>\n",
              "      <td>11</td>\n",
              "      <td>56</td>\n",
              "      <td>Cerejeiras</td>\n",
              "      <td>16088</td>\n",
              "    </tr>\n",
              "  </tbody>\n",
              "</table>\n",
              "</div>"
            ],
            "text/plain": [
              "   uf  cod_uf  cod_muni         nome_municipio  pop_estimada\n",
              "0  RO      11        15  Alta Floresta D'Oeste         22516\n",
              "1  RO      11        23              Ariquemes        111148\n",
              "2  RO      11        31                 Cabixi          5067\n",
              "3  RO      11        49                 Cacoal         86416\n",
              "4  RO      11        56             Cerejeiras         16088"
            ]
          },
          "execution_count": 178,
          "metadata": {},
          "output_type": "execute_result"
        }
      ],
      "source": [
        "df_muni.rename(\n",
        "    columns={\n",
        "        \"UF\": \"uf\",\n",
        "        \"COD. UF\": \"cod_uf\",\n",
        "        \"COD. MUNIC\": \"cod_muni\",\n",
        "        \"NOME DO MUNICÍPIO\": \"nome_municipio\",\n",
        "        \"POPULAÇÃO ESTIMADA\": \"pop_estimada\",\n",
        "    },\n",
        "    inplace=True,\n",
        ")\n",
        "df_muni.head()"
      ]
    },
    {
      "cell_type": "code",
      "execution_count": null,
      "metadata": {
        "id": "FFybRMSoLwqc"
      },
      "outputs": [],
      "source": [
        "#1\n",
        "df_muni.loc[df_muni['pop_estimada'] > 500000]"
      ]
    },
    {
      "cell_type": "code",
      "execution_count": null,
      "metadata": {
        "id": "93h2nnXTLwqc"
      },
      "outputs": [],
      "source": [
        "#1\n",
        "df_muni.loc[lambda df_muni: df_muni['pop_estimada']> 500000]\n"
      ]
    },
    {
      "cell_type": "code",
      "execution_count": null,
      "metadata": {
        "id": "rxLnyrvsLwqc",
        "outputId": "278ef2c3-2724-4d77-8a61-3eb73bc1ceb9"
      },
      "outputs": [
        {
          "data": {
            "text/html": [
              "<div>\n",
              "<style scoped>\n",
              "    .dataframe tbody tr th:only-of-type {\n",
              "        vertical-align: middle;\n",
              "    }\n",
              "\n",
              "    .dataframe tbody tr th {\n",
              "        vertical-align: top;\n",
              "    }\n",
              "\n",
              "    .dataframe thead th {\n",
              "        text-align: right;\n",
              "    }\n",
              "</style>\n",
              "<table border=\"1\" class=\"dataframe\">\n",
              "  <thead>\n",
              "    <tr style=\"text-align: right;\">\n",
              "      <th></th>\n",
              "      <th>uf</th>\n",
              "      <th>cod_uf</th>\n",
              "      <th>cod_muni</th>\n",
              "      <th>nome_municipio</th>\n",
              "      <th>pop_estimada</th>\n",
              "    </tr>\n",
              "  </thead>\n",
              "  <tbody>\n",
              "    <tr>\n",
              "      <th>10</th>\n",
              "      <td>RO</td>\n",
              "      <td>11</td>\n",
              "      <td>114</td>\n",
              "      <td>Jaru</td>\n",
              "      <td>51469</td>\n",
              "    </tr>\n",
              "    <tr>\n",
              "      <th>20</th>\n",
              "      <td>RO</td>\n",
              "      <td>11</td>\n",
              "      <td>296</td>\n",
              "      <td>Santa Luzia D'Oeste</td>\n",
              "      <td>5942</td>\n",
              "    </tr>\n",
              "  </tbody>\n",
              "</table>\n",
              "</div>"
            ],
            "text/plain": [
              "    uf  cod_uf  cod_muni       nome_municipio  pop_estimada\n",
              "10  RO      11       114                 Jaru         51469\n",
              "20  RO      11       296  Santa Luzia D'Oeste          5942"
            ]
          },
          "execution_count": 188,
          "metadata": {},
          "output_type": "execute_result"
        }
      ],
      "source": [
        "#2\n",
        "df_muni.iloc[[10,20]]"
      ]
    },
    {
      "cell_type": "code",
      "execution_count": null,
      "metadata": {
        "id": "-NtGpmfNLwqc",
        "outputId": "13237587-91d2-4c6e-bade-bd1e59d6ef49"
      },
      "outputs": [
        {
          "data": {
            "text/html": [
              "<div>\n",
              "<style scoped>\n",
              "    .dataframe tbody tr th:only-of-type {\n",
              "        vertical-align: middle;\n",
              "    }\n",
              "\n",
              "    .dataframe tbody tr th {\n",
              "        vertical-align: top;\n",
              "    }\n",
              "\n",
              "    .dataframe thead th {\n",
              "        text-align: right;\n",
              "    }\n",
              "</style>\n",
              "<table border=\"1\" class=\"dataframe\">\n",
              "  <thead>\n",
              "    <tr style=\"text-align: right;\">\n",
              "      <th></th>\n",
              "      <th>uf</th>\n",
              "      <th>cod_uf</th>\n",
              "      <th>cod_muni</th>\n",
              "      <th>nome_municipio</th>\n",
              "      <th>pop_estimada</th>\n",
              "    </tr>\n",
              "  </thead>\n",
              "  <tbody>\n",
              "    <tr>\n",
              "      <th>0</th>\n",
              "      <td>RO</td>\n",
              "      <td>11</td>\n",
              "      <td>15</td>\n",
              "      <td>Alta Floresta D'Oeste</td>\n",
              "      <td>22516</td>\n",
              "    </tr>\n",
              "    <tr>\n",
              "      <th>4</th>\n",
              "      <td>RO</td>\n",
              "      <td>11</td>\n",
              "      <td>56</td>\n",
              "      <td>Cerejeiras</td>\n",
              "      <td>16088</td>\n",
              "    </tr>\n",
              "    <tr>\n",
              "      <th>5</th>\n",
              "      <td>RO</td>\n",
              "      <td>11</td>\n",
              "      <td>64</td>\n",
              "      <td>Colorado do Oeste</td>\n",
              "      <td>15213</td>\n",
              "    </tr>\n",
              "    <tr>\n",
              "      <th>7</th>\n",
              "      <td>RO</td>\n",
              "      <td>11</td>\n",
              "      <td>80</td>\n",
              "      <td>Costa Marques</td>\n",
              "      <td>19255</td>\n",
              "    </tr>\n",
              "    <tr>\n",
              "      <th>8</th>\n",
              "      <td>RO</td>\n",
              "      <td>11</td>\n",
              "      <td>98</td>\n",
              "      <td>Espigão D'Oeste</td>\n",
              "      <td>33009</td>\n",
              "    </tr>\n",
              "    <tr>\n",
              "      <th>...</th>\n",
              "      <td>...</td>\n",
              "      <td>...</td>\n",
              "      <td>...</td>\n",
              "      <td>...</td>\n",
              "      <td>...</td>\n",
              "    </tr>\n",
              "    <tr>\n",
              "      <th>5545</th>\n",
              "      <td>GO</td>\n",
              "      <td>52</td>\n",
              "      <td>20405</td>\n",
              "      <td>São Simão</td>\n",
              "      <td>21318</td>\n",
              "    </tr>\n",
              "    <tr>\n",
              "      <th>5548</th>\n",
              "      <td>GO</td>\n",
              "      <td>52</td>\n",
              "      <td>20603</td>\n",
              "      <td>Silvânia</td>\n",
              "      <td>20938</td>\n",
              "    </tr>\n",
              "    <tr>\n",
              "      <th>5560</th>\n",
              "      <td>GO</td>\n",
              "      <td>52</td>\n",
              "      <td>21601</td>\n",
              "      <td>Uruaçu</td>\n",
              "      <td>41150</td>\n",
              "    </tr>\n",
              "    <tr>\n",
              "      <th>5561</th>\n",
              "      <td>GO</td>\n",
              "      <td>52</td>\n",
              "      <td>21700</td>\n",
              "      <td>Uruana</td>\n",
              "      <td>13795</td>\n",
              "    </tr>\n",
              "    <tr>\n",
              "      <th>5565</th>\n",
              "      <td>GO</td>\n",
              "      <td>52</td>\n",
              "      <td>22005</td>\n",
              "      <td>Vianópolis</td>\n",
              "      <td>14088</td>\n",
              "    </tr>\n",
              "  </tbody>\n",
              "</table>\n",
              "<p>2439 rows × 5 columns</p>\n",
              "</div>"
            ],
            "text/plain": [
              "      uf  cod_uf  cod_muni         nome_municipio  pop_estimada\n",
              "0     RO      11        15  Alta Floresta D'Oeste         22516\n",
              "4     RO      11        56             Cerejeiras         16088\n",
              "5     RO      11        64      Colorado do Oeste         15213\n",
              "7     RO      11        80          Costa Marques         19255\n",
              "8     RO      11        98        Espigão D'Oeste         33009\n",
              "...   ..     ...       ...                    ...           ...\n",
              "5545  GO      52     20405              São Simão         21318\n",
              "5548  GO      52     20603               Silvânia         20938\n",
              "5560  GO      52     21601                 Uruaçu         41150\n",
              "5561  GO      52     21700                 Uruana         13795\n",
              "5565  GO      52     22005             Vianópolis         14088\n",
              "\n",
              "[2439 rows x 5 columns]"
            ]
          },
          "execution_count": 191,
          "metadata": {},
          "output_type": "execute_result"
        }
      ],
      "source": [
        "#3\n",
        "df_muni.query(' 10000 <= pop_estimada <= 50000 ')"
      ]
    },
    {
      "cell_type": "code",
      "execution_count": null,
      "metadata": {
        "id": "9OWG5W7YLwqc",
        "outputId": "55668f66-7656-4820-f7ec-b626d5734883"
      },
      "outputs": [
        {
          "data": {
            "text/plain": [
              "pop_estimada    1815278\n",
              "Name: RO, dtype: int64"
            ]
          },
          "execution_count": 192,
          "metadata": {},
          "output_type": "execute_result"
        }
      ],
      "source": [
        "#4\n",
        "df_muni[['uf', 'pop_estimada']].groupby('uf').agg('sum').loc['RO']"
      ]
    },
    {
      "cell_type": "code",
      "execution_count": null,
      "metadata": {
        "id": "aIWkpFXKLwqc",
        "outputId": "19141867-fdc6-4a16-b2c8-d4817269526d"
      },
      "outputs": [
        {
          "data": {
            "text/plain": [
              "pop_estimada    1815278\n",
              "Name: RO, dtype: int64"
            ]
          },
          "execution_count": 197,
          "metadata": {},
          "output_type": "execute_result"
        }
      ],
      "source": [
        "df_muni.groupby('uf').agg({'pop_estimada':'sum'}).loc['RO']"
      ]
    },
    {
      "cell_type": "code",
      "execution_count": null,
      "metadata": {
        "id": "avmf3MT8Lwqc",
        "outputId": "e9556af9-7c1b-4e8b-eca7-26213bb58723"
      },
      "outputs": [
        {
          "data": {
            "text/html": [
              "<div>\n",
              "<style scoped>\n",
              "    .dataframe tbody tr th:only-of-type {\n",
              "        vertical-align: middle;\n",
              "    }\n",
              "\n",
              "    .dataframe tbody tr th {\n",
              "        vertical-align: top;\n",
              "    }\n",
              "\n",
              "    .dataframe thead th {\n",
              "        text-align: right;\n",
              "    }\n",
              "</style>\n",
              "<table border=\"1\" class=\"dataframe\">\n",
              "  <thead>\n",
              "    <tr style=\"text-align: right;\">\n",
              "      <th></th>\n",
              "      <th>uf</th>\n",
              "      <th>cod_uf</th>\n",
              "      <th>cod_muni</th>\n",
              "      <th>nome_municipio</th>\n",
              "      <th>pop_estimada</th>\n",
              "    </tr>\n",
              "  </thead>\n",
              "  <tbody>\n",
              "    <tr>\n",
              "      <th>0</th>\n",
              "      <td>RO</td>\n",
              "      <td>11</td>\n",
              "      <td>15</td>\n",
              "      <td>Alta Floresta D'Oeste</td>\n",
              "      <td>22516</td>\n",
              "    </tr>\n",
              "    <tr>\n",
              "      <th>1</th>\n",
              "      <td>RO</td>\n",
              "      <td>11</td>\n",
              "      <td>23</td>\n",
              "      <td>Ariquemes</td>\n",
              "      <td>111148</td>\n",
              "    </tr>\n",
              "    <tr>\n",
              "      <th>2</th>\n",
              "      <td>RO</td>\n",
              "      <td>11</td>\n",
              "      <td>31</td>\n",
              "      <td>Cabixi</td>\n",
              "      <td>5067</td>\n",
              "    </tr>\n",
              "    <tr>\n",
              "      <th>3</th>\n",
              "      <td>RO</td>\n",
              "      <td>11</td>\n",
              "      <td>49</td>\n",
              "      <td>Cacoal</td>\n",
              "      <td>86416</td>\n",
              "    </tr>\n",
              "    <tr>\n",
              "      <th>4</th>\n",
              "      <td>RO</td>\n",
              "      <td>11</td>\n",
              "      <td>56</td>\n",
              "      <td>Cerejeiras</td>\n",
              "      <td>16088</td>\n",
              "    </tr>\n",
              "    <tr>\n",
              "      <th>...</th>\n",
              "      <td>...</td>\n",
              "      <td>...</td>\n",
              "      <td>...</td>\n",
              "      <td>...</td>\n",
              "      <td>...</td>\n",
              "    </tr>\n",
              "    <tr>\n",
              "      <th>5565</th>\n",
              "      <td>GO</td>\n",
              "      <td>52</td>\n",
              "      <td>22005</td>\n",
              "      <td>Vianópolis</td>\n",
              "      <td>14088</td>\n",
              "    </tr>\n",
              "    <tr>\n",
              "      <th>5566</th>\n",
              "      <td>GO</td>\n",
              "      <td>52</td>\n",
              "      <td>22054</td>\n",
              "      <td>Vicentinópolis</td>\n",
              "      <td>9002</td>\n",
              "    </tr>\n",
              "    <tr>\n",
              "      <th>5567</th>\n",
              "      <td>GO</td>\n",
              "      <td>52</td>\n",
              "      <td>22203</td>\n",
              "      <td>Vila Boa</td>\n",
              "      <td>6451</td>\n",
              "    </tr>\n",
              "    <tr>\n",
              "      <th>5568</th>\n",
              "      <td>GO</td>\n",
              "      <td>52</td>\n",
              "      <td>22302</td>\n",
              "      <td>Vila Propício</td>\n",
              "      <td>5941</td>\n",
              "    </tr>\n",
              "    <tr>\n",
              "      <th>5569</th>\n",
              "      <td>DF</td>\n",
              "      <td>53</td>\n",
              "      <td>108</td>\n",
              "      <td>Brasília</td>\n",
              "      <td>3094325</td>\n",
              "    </tr>\n",
              "  </tbody>\n",
              "</table>\n",
              "<p>5570 rows × 5 columns</p>\n",
              "</div>"
            ],
            "text/plain": [
              "      uf  cod_uf  cod_muni         nome_municipio  pop_estimada\n",
              "0     RO      11        15  Alta Floresta D'Oeste         22516\n",
              "1     RO      11        23              Ariquemes        111148\n",
              "2     RO      11        31                 Cabixi          5067\n",
              "3     RO      11        49                 Cacoal         86416\n",
              "4     RO      11        56             Cerejeiras         16088\n",
              "...   ..     ...       ...                    ...           ...\n",
              "5565  GO      52     22005             Vianópolis         14088\n",
              "5566  GO      52     22054         Vicentinópolis          9002\n",
              "5567  GO      52     22203               Vila Boa          6451\n",
              "5568  GO      52     22302          Vila Propício          5941\n",
              "5569  DF      53       108               Brasília       3094325\n",
              "\n",
              "[5570 rows x 5 columns]"
            ]
          },
          "execution_count": 208,
          "metadata": {},
          "output_type": "execute_result"
        }
      ],
      "source": [
        "df_muni"
      ]
    },
    {
      "cell_type": "code",
      "execution_count": null,
      "metadata": {
        "id": "c-k8gVoBLwqd"
      },
      "outputs": [],
      "source": [
        "#5\n",
        "media_por_estado = df_muni.groupby('uf')['pop_estimada'].mean()"
      ]
    },
    {
      "cell_type": "code",
      "execution_count": null,
      "metadata": {
        "id": "mokb3H7ULwqd"
      },
      "outputs": [],
      "source": [
        "media_por_estado"
      ]
    },
    {
      "cell_type": "markdown",
      "metadata": {
        "id": "XDvOJ302Lwqd"
      },
      "source": [
        "### Operações matemáticas"
      ]
    },
    {
      "cell_type": "code",
      "execution_count": null,
      "metadata": {
        "id": "hEraVB1VLwqd",
        "outputId": "be0c1464-19db-4499-c5f6-2355c66a07fe"
      },
      "outputs": [
        {
          "data": {
            "text/html": [
              "<div>\n",
              "<style scoped>\n",
              "    .dataframe tbody tr th:only-of-type {\n",
              "        vertical-align: middle;\n",
              "    }\n",
              "\n",
              "    .dataframe tbody tr th {\n",
              "        vertical-align: top;\n",
              "    }\n",
              "\n",
              "    .dataframe thead th {\n",
              "        text-align: right;\n",
              "    }\n",
              "</style>\n",
              "<table border=\"1\" class=\"dataframe\">\n",
              "  <thead>\n",
              "    <tr style=\"text-align: right;\">\n",
              "      <th></th>\n",
              "      <th>regiao</th>\n",
              "      <th>superficie</th>\n",
              "      <th>pop_urbana</th>\n",
              "      <th>pop_rural</th>\n",
              "      <th>total</th>\n",
              "    </tr>\n",
              "    <tr>\n",
              "      <th>uf</th>\n",
              "      <th></th>\n",
              "      <th></th>\n",
              "      <th></th>\n",
              "      <th></th>\n",
              "      <th></th>\n",
              "    </tr>\n",
              "  </thead>\n",
              "  <tbody>\n",
              "    <tr>\n",
              "      <th>RO</th>\n",
              "      <td>Norte</td>\n",
              "      <td>238513</td>\n",
              "      <td>762864.0</td>\n",
              "      <td>468143.0</td>\n",
              "      <td>1231007.0</td>\n",
              "    </tr>\n",
              "    <tr>\n",
              "      <th>AC</th>\n",
              "      <td>Norte</td>\n",
              "      <td>153150</td>\n",
              "      <td>315401.0</td>\n",
              "      <td>168322.0</td>\n",
              "      <td>483726.0</td>\n",
              "    </tr>\n",
              "    <tr>\n",
              "      <th>AM</th>\n",
              "      <td>Norte</td>\n",
              "      <td>1577820</td>\n",
              "      <td>1766166.0</td>\n",
              "      <td>623113.0</td>\n",
              "      <td>2389279.0</td>\n",
              "    </tr>\n",
              "    <tr>\n",
              "      <th>RR</th>\n",
              "      <td>Norte</td>\n",
              "      <td>225116</td>\n",
              "      <td>174277.0</td>\n",
              "      <td>72854.0</td>\n",
              "      <td>247131.0</td>\n",
              "    </tr>\n",
              "    <tr>\n",
              "      <th>PA</th>\n",
              "      <td>Norte</td>\n",
              "      <td>1253165</td>\n",
              "      <td>2949017.0</td>\n",
              "      <td>2561832.0</td>\n",
              "      <td>5510849.0</td>\n",
              "    </tr>\n",
              "  </tbody>\n",
              "</table>\n",
              "</div>"
            ],
            "text/plain": [
              "   regiao  superficie  pop_urbana  pop_rural      total\n",
              "uf                                                     \n",
              "RO  Norte      238513    762864.0   468143.0  1231007.0\n",
              "AC  Norte      153150    315401.0   168322.0   483726.0\n",
              "AM  Norte     1577820   1766166.0   623113.0  2389279.0\n",
              "RR  Norte      225116    174277.0    72854.0   247131.0\n",
              "PA  Norte     1253165   2949017.0  2561832.0  5510849.0"
            ]
          },
          "execution_count": 212,
          "metadata": {},
          "output_type": "execute_result"
        }
      ],
      "source": [
        "df.head()"
      ]
    },
    {
      "cell_type": "code",
      "execution_count": null,
      "metadata": {
        "id": "8etqVzyuLwqd",
        "outputId": "a9a95147-e720-4881-fd00-96458e408faa"
      },
      "outputs": [
        {
          "data": {
            "text/html": [
              "<div>\n",
              "<style scoped>\n",
              "    .dataframe tbody tr th:only-of-type {\n",
              "        vertical-align: middle;\n",
              "    }\n",
              "\n",
              "    .dataframe tbody tr th {\n",
              "        vertical-align: top;\n",
              "    }\n",
              "\n",
              "    .dataframe thead th {\n",
              "        text-align: right;\n",
              "    }\n",
              "</style>\n",
              "<table border=\"1\" class=\"dataframe\">\n",
              "  <thead>\n",
              "    <tr style=\"text-align: right;\">\n",
              "      <th></th>\n",
              "      <th>regiao</th>\n",
              "      <th>superficie</th>\n",
              "      <th>pop_urbana</th>\n",
              "      <th>pop_rural</th>\n",
              "      <th>total</th>\n",
              "      <th>razao_urbana_rural</th>\n",
              "    </tr>\n",
              "    <tr>\n",
              "      <th>uf</th>\n",
              "      <th></th>\n",
              "      <th></th>\n",
              "      <th></th>\n",
              "      <th></th>\n",
              "      <th></th>\n",
              "      <th></th>\n",
              "    </tr>\n",
              "  </thead>\n",
              "  <tbody>\n",
              "    <tr>\n",
              "      <th>RO</th>\n",
              "      <td>Norte</td>\n",
              "      <td>238513</td>\n",
              "      <td>762864.0</td>\n",
              "      <td>468143.0</td>\n",
              "      <td>1231007.0</td>\n",
              "      <td>1.629553</td>\n",
              "    </tr>\n",
              "    <tr>\n",
              "      <th>AC</th>\n",
              "      <td>Norte</td>\n",
              "      <td>153150</td>\n",
              "      <td>315401.0</td>\n",
              "      <td>168322.0</td>\n",
              "      <td>483726.0</td>\n",
              "      <td>1.873795</td>\n",
              "    </tr>\n",
              "    <tr>\n",
              "      <th>AM</th>\n",
              "      <td>Norte</td>\n",
              "      <td>1577820</td>\n",
              "      <td>1766166.0</td>\n",
              "      <td>623113.0</td>\n",
              "      <td>2389279.0</td>\n",
              "      <td>2.834423</td>\n",
              "    </tr>\n",
              "    <tr>\n",
              "      <th>RR</th>\n",
              "      <td>Norte</td>\n",
              "      <td>225116</td>\n",
              "      <td>174277.0</td>\n",
              "      <td>72854.0</td>\n",
              "      <td>247131.0</td>\n",
              "      <td>2.392140</td>\n",
              "    </tr>\n",
              "    <tr>\n",
              "      <th>PA</th>\n",
              "      <td>Norte</td>\n",
              "      <td>1253165</td>\n",
              "      <td>2949017.0</td>\n",
              "      <td>2561832.0</td>\n",
              "      <td>5510849.0</td>\n",
              "      <td>1.151136</td>\n",
              "    </tr>\n",
              "  </tbody>\n",
              "</table>\n",
              "</div>"
            ],
            "text/plain": [
              "   regiao  superficie  pop_urbana  pop_rural      total  razao_urbana_rural\n",
              "uf                                                                         \n",
              "RO  Norte      238513    762864.0   468143.0  1231007.0            1.629553\n",
              "AC  Norte      153150    315401.0   168322.0   483726.0            1.873795\n",
              "AM  Norte     1577820   1766166.0   623113.0  2389279.0            2.834423\n",
              "RR  Norte      225116    174277.0    72854.0   247131.0            2.392140\n",
              "PA  Norte     1253165   2949017.0  2561832.0  5510849.0            1.151136"
            ]
          },
          "execution_count": 214,
          "metadata": {},
          "output_type": "execute_result"
        }
      ],
      "source": [
        "# quero saber a razão entre as população urbana e a população rural\n",
        "df['razao_urbana_rural'] = df['pop_urbana']/df['pop_rural']\n",
        "df.head()"
      ]
    },
    {
      "cell_type": "code",
      "execution_count": null,
      "metadata": {
        "id": "CGf6BmkyLwqd"
      },
      "outputs": [],
      "source": [
        "# se eu chamar uma coluna inexiste em modo de leitura\n",
        "# df['frac_urbana']"
      ]
    },
    {
      "cell_type": "code",
      "execution_count": null,
      "metadata": {
        "id": "s2ebt4NFLwqd",
        "outputId": "b120a410-8b46-4990-ec28-baf24d302767"
      },
      "outputs": [
        {
          "data": {
            "text/html": [
              "<div>\n",
              "<style scoped>\n",
              "    .dataframe tbody tr th:only-of-type {\n",
              "        vertical-align: middle;\n",
              "    }\n",
              "\n",
              "    .dataframe tbody tr th {\n",
              "        vertical-align: top;\n",
              "    }\n",
              "\n",
              "    .dataframe thead th {\n",
              "        text-align: right;\n",
              "    }\n",
              "</style>\n",
              "<table border=\"1\" class=\"dataframe\">\n",
              "  <thead>\n",
              "    <tr style=\"text-align: right;\">\n",
              "      <th></th>\n",
              "      <th>regiao</th>\n",
              "      <th>superficie</th>\n",
              "      <th>pop_urbana</th>\n",
              "      <th>pop_rural</th>\n",
              "      <th>total</th>\n",
              "      <th>razao_urbana_rural</th>\n",
              "      <th>frac_urbana</th>\n",
              "    </tr>\n",
              "    <tr>\n",
              "      <th>uf</th>\n",
              "      <th></th>\n",
              "      <th></th>\n",
              "      <th></th>\n",
              "      <th></th>\n",
              "      <th></th>\n",
              "      <th></th>\n",
              "      <th></th>\n",
              "    </tr>\n",
              "  </thead>\n",
              "  <tbody>\n",
              "    <tr>\n",
              "      <th>RO</th>\n",
              "      <td>Norte</td>\n",
              "      <td>238513</td>\n",
              "      <td>762864.0</td>\n",
              "      <td>468143.0</td>\n",
              "      <td>1231007.0</td>\n",
              "      <td>1.629553</td>\n",
              "      <td>0.619707</td>\n",
              "    </tr>\n",
              "    <tr>\n",
              "      <th>AC</th>\n",
              "      <td>Norte</td>\n",
              "      <td>153150</td>\n",
              "      <td>315401.0</td>\n",
              "      <td>168322.0</td>\n",
              "      <td>483726.0</td>\n",
              "      <td>1.873795</td>\n",
              "      <td>0.652024</td>\n",
              "    </tr>\n",
              "    <tr>\n",
              "      <th>AM</th>\n",
              "      <td>Norte</td>\n",
              "      <td>1577820</td>\n",
              "      <td>1766166.0</td>\n",
              "      <td>623113.0</td>\n",
              "      <td>2389279.0</td>\n",
              "      <td>2.834423</td>\n",
              "      <td>0.739205</td>\n",
              "    </tr>\n",
              "    <tr>\n",
              "      <th>RR</th>\n",
              "      <td>Norte</td>\n",
              "      <td>225116</td>\n",
              "      <td>174277.0</td>\n",
              "      <td>72854.0</td>\n",
              "      <td>247131.0</td>\n",
              "      <td>2.392140</td>\n",
              "      <td>0.705201</td>\n",
              "    </tr>\n",
              "    <tr>\n",
              "      <th>PA</th>\n",
              "      <td>Norte</td>\n",
              "      <td>1253165</td>\n",
              "      <td>2949017.0</td>\n",
              "      <td>2561832.0</td>\n",
              "      <td>5510849.0</td>\n",
              "      <td>1.151136</td>\n",
              "      <td>0.535129</td>\n",
              "    </tr>\n",
              "  </tbody>\n",
              "</table>\n",
              "</div>"
            ],
            "text/plain": [
              "   regiao  superficie  pop_urbana  pop_rural      total  razao_urbana_rural  \\\n",
              "uf                                                                            \n",
              "RO  Norte      238513    762864.0   468143.0  1231007.0            1.629553   \n",
              "AC  Norte      153150    315401.0   168322.0   483726.0            1.873795   \n",
              "AM  Norte     1577820   1766166.0   623113.0  2389279.0            2.834423   \n",
              "RR  Norte      225116    174277.0    72854.0   247131.0            2.392140   \n",
              "PA  Norte     1253165   2949017.0  2561832.0  5510849.0            1.151136   \n",
              "\n",
              "    frac_urbana  \n",
              "uf               \n",
              "RO     0.619707  \n",
              "AC     0.652024  \n",
              "AM     0.739205  \n",
              "RR     0.705201  \n",
              "PA     0.535129  "
            ]
          },
          "execution_count": 217,
          "metadata": {},
          "output_type": "execute_result"
        }
      ],
      "source": [
        "# calcular a fração da população urbana sobre a geral\n",
        "df['frac_urbana'] = df['pop_urbana']/df['total']\n",
        "df.head()"
      ]
    },
    {
      "cell_type": "code",
      "execution_count": null,
      "metadata": {
        "id": "S_y0x687Lwqd"
      },
      "outputs": [],
      "source": [
        "# iterar por cada linha e atribuir 1 se frac_urbana > 0.7 e 0 caso contrário\n",
        "for uf in df.index:\n",
        "    if df.loc[uf, 'frac_urbana']>0.7:\n",
        "        df.loc[uf, 'indicador'] =1\n",
        "    else:\n",
        "        df.loc[uf, 'indicador'] =0\n"
      ]
    },
    {
      "cell_type": "code",
      "execution_count": null,
      "metadata": {
        "id": "rUxTjubmLwqe",
        "outputId": "60949948-8957-41ab-9247-2f5796386664"
      },
      "outputs": [
        {
          "data": {
            "text/html": [
              "<div>\n",
              "<style scoped>\n",
              "    .dataframe tbody tr th:only-of-type {\n",
              "        vertical-align: middle;\n",
              "    }\n",
              "\n",
              "    .dataframe tbody tr th {\n",
              "        vertical-align: top;\n",
              "    }\n",
              "\n",
              "    .dataframe thead th {\n",
              "        text-align: right;\n",
              "    }\n",
              "</style>\n",
              "<table border=\"1\" class=\"dataframe\">\n",
              "  <thead>\n",
              "    <tr style=\"text-align: right;\">\n",
              "      <th></th>\n",
              "      <th>regiao</th>\n",
              "      <th>superficie</th>\n",
              "      <th>pop_urbana</th>\n",
              "      <th>pop_rural</th>\n",
              "      <th>total</th>\n",
              "      <th>razao_urbana_rural</th>\n",
              "      <th>frac_urbana</th>\n",
              "      <th>indicador</th>\n",
              "    </tr>\n",
              "    <tr>\n",
              "      <th>uf</th>\n",
              "      <th></th>\n",
              "      <th></th>\n",
              "      <th></th>\n",
              "      <th></th>\n",
              "      <th></th>\n",
              "      <th></th>\n",
              "      <th></th>\n",
              "      <th></th>\n",
              "    </tr>\n",
              "  </thead>\n",
              "  <tbody>\n",
              "    <tr>\n",
              "      <th>RO</th>\n",
              "      <td>Norte</td>\n",
              "      <td>238513</td>\n",
              "      <td>762864.0</td>\n",
              "      <td>468143.0</td>\n",
              "      <td>1231007.0</td>\n",
              "      <td>1.629553</td>\n",
              "      <td>0.619707</td>\n",
              "      <td>0.0</td>\n",
              "    </tr>\n",
              "    <tr>\n",
              "      <th>AC</th>\n",
              "      <td>Norte</td>\n",
              "      <td>153150</td>\n",
              "      <td>315401.0</td>\n",
              "      <td>168322.0</td>\n",
              "      <td>483726.0</td>\n",
              "      <td>1.873795</td>\n",
              "      <td>0.652024</td>\n",
              "      <td>0.0</td>\n",
              "    </tr>\n",
              "    <tr>\n",
              "      <th>AM</th>\n",
              "      <td>Norte</td>\n",
              "      <td>1577820</td>\n",
              "      <td>1766166.0</td>\n",
              "      <td>623113.0</td>\n",
              "      <td>2389279.0</td>\n",
              "      <td>2.834423</td>\n",
              "      <td>0.739205</td>\n",
              "      <td>1.0</td>\n",
              "    </tr>\n",
              "    <tr>\n",
              "      <th>RR</th>\n",
              "      <td>Norte</td>\n",
              "      <td>225116</td>\n",
              "      <td>174277.0</td>\n",
              "      <td>72854.0</td>\n",
              "      <td>247131.0</td>\n",
              "      <td>2.392140</td>\n",
              "      <td>0.705201</td>\n",
              "      <td>1.0</td>\n",
              "    </tr>\n",
              "    <tr>\n",
              "      <th>PA</th>\n",
              "      <td>Norte</td>\n",
              "      <td>1253165</td>\n",
              "      <td>2949017.0</td>\n",
              "      <td>2561832.0</td>\n",
              "      <td>5510849.0</td>\n",
              "      <td>1.151136</td>\n",
              "      <td>0.535129</td>\n",
              "      <td>0.0</td>\n",
              "    </tr>\n",
              "  </tbody>\n",
              "</table>\n",
              "</div>"
            ],
            "text/plain": [
              "   regiao  superficie  pop_urbana  pop_rural      total  razao_urbana_rural  \\\n",
              "uf                                                                            \n",
              "RO  Norte      238513    762864.0   468143.0  1231007.0            1.629553   \n",
              "AC  Norte      153150    315401.0   168322.0   483726.0            1.873795   \n",
              "AM  Norte     1577820   1766166.0   623113.0  2389279.0            2.834423   \n",
              "RR  Norte      225116    174277.0    72854.0   247131.0            2.392140   \n",
              "PA  Norte     1253165   2949017.0  2561832.0  5510849.0            1.151136   \n",
              "\n",
              "    frac_urbana  indicador  \n",
              "uf                          \n",
              "RO     0.619707        0.0  \n",
              "AC     0.652024        0.0  \n",
              "AM     0.739205        1.0  \n",
              "RR     0.705201        1.0  \n",
              "PA     0.535129        0.0  "
            ]
          },
          "execution_count": 220,
          "metadata": {},
          "output_type": "execute_result"
        }
      ],
      "source": [
        "df.head()"
      ]
    },
    {
      "cell_type": "code",
      "execution_count": null,
      "metadata": {
        "id": "mN4BCpRFLwqe",
        "outputId": "e33f04c7-e342-4fee-ce76-e863a404e4c6"
      },
      "outputs": [
        {
          "name": "stdout",
          "output_type": "stream",
          "text": [
            "5.79 ms ± 511 μs per loop (mean ± std. dev. of 7 runs, 100 loops each)\n"
          ]
        }
      ],
      "source": [
        "%%timeit\n",
        "for uf in df.index:\n",
        "    if df.loc[uf, 'frac_urbana']>0.7:\n",
        "        df.loc[uf, 'indicador'] =1\n",
        "    else:\n",
        "        df.loc[uf, 'indicador'] =0\n"
      ]
    },
    {
      "cell_type": "code",
      "execution_count": null,
      "metadata": {
        "id": "rw1dgH8-Lwqe",
        "outputId": "0a570b20-a5aa-4c38-8500-6a75a03d7815"
      },
      "outputs": [
        {
          "name": "stdout",
          "output_type": "stream",
          "text": [
            "127 μs ± 2.72 μs per loop (mean ± std. dev. of 7 runs, 10,000 loops each)\n"
          ]
        }
      ],
      "source": [
        "%%timeit\n",
        "df['indicador'] =df['frac_urbana'].apply(lambda x: 1 if x > 0.7 else 0)"
      ]
    },
    {
      "cell_type": "code",
      "execution_count": null,
      "metadata": {
        "id": "ieQ2V-DKLwqe",
        "outputId": "02298a82-4369-4598-8a19-65f8f7294ce4"
      },
      "outputs": [
        {
          "data": {
            "text/html": [
              "<div>\n",
              "<style scoped>\n",
              "    .dataframe tbody tr th:only-of-type {\n",
              "        vertical-align: middle;\n",
              "    }\n",
              "\n",
              "    .dataframe tbody tr th {\n",
              "        vertical-align: top;\n",
              "    }\n",
              "\n",
              "    .dataframe thead th {\n",
              "        text-align: right;\n",
              "    }\n",
              "</style>\n",
              "<table border=\"1\" class=\"dataframe\">\n",
              "  <thead>\n",
              "    <tr style=\"text-align: right;\">\n",
              "      <th></th>\n",
              "      <th>regiao</th>\n",
              "      <th>superficie</th>\n",
              "      <th>pop_urbana</th>\n",
              "      <th>pop_rural</th>\n",
              "      <th>total</th>\n",
              "      <th>razao_urbana_rural</th>\n",
              "      <th>frac_urbana</th>\n",
              "      <th>indicador</th>\n",
              "      <th>regiao_pc</th>\n",
              "    </tr>\n",
              "    <tr>\n",
              "      <th>uf</th>\n",
              "      <th></th>\n",
              "      <th></th>\n",
              "      <th></th>\n",
              "      <th></th>\n",
              "      <th></th>\n",
              "      <th></th>\n",
              "      <th></th>\n",
              "      <th></th>\n",
              "      <th></th>\n",
              "    </tr>\n",
              "  </thead>\n",
              "  <tbody>\n",
              "    <tr>\n",
              "      <th>RO</th>\n",
              "      <td>Norte</td>\n",
              "      <td>238513</td>\n",
              "      <td>762864.0</td>\n",
              "      <td>468143.0</td>\n",
              "      <td>1231007.0</td>\n",
              "      <td>1.629553</td>\n",
              "      <td>0.619707</td>\n",
              "      <td>0</td>\n",
              "      <td>N</td>\n",
              "    </tr>\n",
              "    <tr>\n",
              "      <th>AC</th>\n",
              "      <td>Norte</td>\n",
              "      <td>153150</td>\n",
              "      <td>315401.0</td>\n",
              "      <td>168322.0</td>\n",
              "      <td>483726.0</td>\n",
              "      <td>1.873795</td>\n",
              "      <td>0.652024</td>\n",
              "      <td>0</td>\n",
              "      <td>N</td>\n",
              "    </tr>\n",
              "    <tr>\n",
              "      <th>AM</th>\n",
              "      <td>Norte</td>\n",
              "      <td>1577820</td>\n",
              "      <td>1766166.0</td>\n",
              "      <td>623113.0</td>\n",
              "      <td>2389279.0</td>\n",
              "      <td>2.834423</td>\n",
              "      <td>0.739205</td>\n",
              "      <td>1</td>\n",
              "      <td>N</td>\n",
              "    </tr>\n",
              "    <tr>\n",
              "      <th>RR</th>\n",
              "      <td>Norte</td>\n",
              "      <td>225116</td>\n",
              "      <td>174277.0</td>\n",
              "      <td>72854.0</td>\n",
              "      <td>247131.0</td>\n",
              "      <td>2.392140</td>\n",
              "      <td>0.705201</td>\n",
              "      <td>1</td>\n",
              "      <td>N</td>\n",
              "    </tr>\n",
              "    <tr>\n",
              "      <th>PA</th>\n",
              "      <td>Norte</td>\n",
              "      <td>1253165</td>\n",
              "      <td>2949017.0</td>\n",
              "      <td>2561832.0</td>\n",
              "      <td>5510849.0</td>\n",
              "      <td>1.151136</td>\n",
              "      <td>0.535129</td>\n",
              "      <td>0</td>\n",
              "      <td>N</td>\n",
              "    </tr>\n",
              "    <tr>\n",
              "      <th>AP</th>\n",
              "      <td>Norte</td>\n",
              "      <td>143454</td>\n",
              "      <td>330590.0</td>\n",
              "      <td>48869.0</td>\n",
              "      <td>379459.0</td>\n",
              "      <td>6.764820</td>\n",
              "      <td>0.871214</td>\n",
              "      <td>1</td>\n",
              "      <td>N</td>\n",
              "    </tr>\n",
              "    <tr>\n",
              "      <th>TO</th>\n",
              "      <td>Norte</td>\n",
              "      <td>278421</td>\n",
              "      <td>741009.0</td>\n",
              "      <td>307633.0</td>\n",
              "      <td>1048642.0</td>\n",
              "      <td>2.408744</td>\n",
              "      <td>0.706637</td>\n",
              "      <td>1</td>\n",
              "      <td>N</td>\n",
              "    </tr>\n",
              "    <tr>\n",
              "      <th>MA</th>\n",
              "      <td>Nordeste</td>\n",
              "      <td>333366</td>\n",
              "      <td>2711557.0</td>\n",
              "      <td>2511008.0</td>\n",
              "      <td>5222565.0</td>\n",
              "      <td>1.079868</td>\n",
              "      <td>0.519200</td>\n",
              "      <td>0</td>\n",
              "      <td>NE</td>\n",
              "    </tr>\n",
              "    <tr>\n",
              "      <th>PI</th>\n",
              "      <td>Nordeste</td>\n",
              "      <td>252379</td>\n",
              "      <td>1556115.0</td>\n",
              "      <td>1117061.0</td>\n",
              "      <td>2673176.0</td>\n",
              "      <td>1.393044</td>\n",
              "      <td>0.582122</td>\n",
              "      <td>0</td>\n",
              "      <td>NE</td>\n",
              "    </tr>\n",
              "    <tr>\n",
              "      <th>Litígio*</th>\n",
              "      <td>Nordeste</td>\n",
              "      <td>2977</td>\n",
              "      <td>NaN</td>\n",
              "      <td>NaN</td>\n",
              "      <td>NaN</td>\n",
              "      <td>NaN</td>\n",
              "      <td>NaN</td>\n",
              "      <td>0</td>\n",
              "      <td>NE</td>\n",
              "    </tr>\n",
              "  </tbody>\n",
              "</table>\n",
              "</div>"
            ],
            "text/plain": [
              "            regiao  superficie  pop_urbana  pop_rural      total  \\\n",
              "uf                                                                 \n",
              "RO           Norte      238513    762864.0   468143.0  1231007.0   \n",
              "AC           Norte      153150    315401.0   168322.0   483726.0   \n",
              "AM           Norte     1577820   1766166.0   623113.0  2389279.0   \n",
              "RR           Norte      225116    174277.0    72854.0   247131.0   \n",
              "PA           Norte     1253165   2949017.0  2561832.0  5510849.0   \n",
              "AP           Norte      143454    330590.0    48869.0   379459.0   \n",
              "TO           Norte      278421    741009.0   307633.0  1048642.0   \n",
              "MA        Nordeste      333366   2711557.0  2511008.0  5222565.0   \n",
              "PI        Nordeste      252379   1556115.0  1117061.0  2673176.0   \n",
              "Litígio*  Nordeste        2977         NaN        NaN        NaN   \n",
              "\n",
              "          razao_urbana_rural  frac_urbana  indicador regiao_pc  \n",
              "uf                                                              \n",
              "RO                  1.629553     0.619707          0         N  \n",
              "AC                  1.873795     0.652024          0         N  \n",
              "AM                  2.834423     0.739205          1         N  \n",
              "RR                  2.392140     0.705201          1         N  \n",
              "PA                  1.151136     0.535129          0         N  \n",
              "AP                  6.764820     0.871214          1         N  \n",
              "TO                  2.408744     0.706637          1         N  \n",
              "MA                  1.079868     0.519200          0        NE  \n",
              "PI                  1.393044     0.582122          0        NE  \n",
              "Litígio*                 NaN          NaN          0        NE  "
            ]
          },
          "execution_count": 225,
          "metadata": {},
          "output_type": "execute_result"
        }
      ],
      "source": [
        "ponto_cardeal = {\n",
        "    'Nordeste': 'NE',\n",
        "    'Centro-Oeste': 'CO',\n",
        "    'Sul': 'S',\n",
        "    'Sudeste': 'SE',\n",
        "    'Norte':'N'\n",
        "}\n",
        "\n",
        "# podemos fazer transformações com dicionários\n",
        "df['regiao_pc'] = df['regiao'].map(ponto_cardeal)\n",
        "\n",
        "df.head(10)"
      ]
    },
    {
      "cell_type": "code",
      "execution_count": null,
      "metadata": {
        "id": "LaczqzSkLwqe",
        "outputId": "e50e5824-6dc5-4bb9-e6b7-40c8c32947cd"
      },
      "outputs": [
        {
          "data": {
            "text/html": [
              "<div>\n",
              "<style scoped>\n",
              "    .dataframe tbody tr th:only-of-type {\n",
              "        vertical-align: middle;\n",
              "    }\n",
              "\n",
              "    .dataframe tbody tr th {\n",
              "        vertical-align: top;\n",
              "    }\n",
              "\n",
              "    .dataframe thead th {\n",
              "        text-align: right;\n",
              "    }\n",
              "</style>\n",
              "<table border=\"1\" class=\"dataframe\">\n",
              "  <thead>\n",
              "    <tr style=\"text-align: right;\">\n",
              "      <th></th>\n",
              "      <th>regiao</th>\n",
              "      <th>superficie</th>\n",
              "      <th>pop_urbana</th>\n",
              "      <th>pop_rural</th>\n",
              "      <th>total</th>\n",
              "      <th>razao_urbana_rural</th>\n",
              "      <th>frac_urbana</th>\n",
              "      <th>indicador</th>\n",
              "      <th>regiao_pc</th>\n",
              "    </tr>\n",
              "    <tr>\n",
              "      <th>uf</th>\n",
              "      <th></th>\n",
              "      <th></th>\n",
              "      <th></th>\n",
              "      <th></th>\n",
              "      <th></th>\n",
              "      <th></th>\n",
              "      <th></th>\n",
              "      <th></th>\n",
              "      <th></th>\n",
              "    </tr>\n",
              "  </thead>\n",
              "  <tbody>\n",
              "    <tr>\n",
              "      <th>RO</th>\n",
              "      <td>Norte</td>\n",
              "      <td>238513</td>\n",
              "      <td>762864.0</td>\n",
              "      <td>468143.0</td>\n",
              "      <td>1231007.0</td>\n",
              "      <td>1.629553</td>\n",
              "      <td>0.619707</td>\n",
              "      <td>0</td>\n",
              "      <td>N</td>\n",
              "    </tr>\n",
              "    <tr>\n",
              "      <th>AC</th>\n",
              "      <td>Norte</td>\n",
              "      <td>153150</td>\n",
              "      <td>315401.0</td>\n",
              "      <td>168322.0</td>\n",
              "      <td>483726.0</td>\n",
              "      <td>1.873795</td>\n",
              "      <td>0.652024</td>\n",
              "      <td>0</td>\n",
              "      <td>N</td>\n",
              "    </tr>\n",
              "    <tr>\n",
              "      <th>AM</th>\n",
              "      <td>Norte</td>\n",
              "      <td>1577820</td>\n",
              "      <td>1766166.0</td>\n",
              "      <td>623113.0</td>\n",
              "      <td>2389279.0</td>\n",
              "      <td>2.834423</td>\n",
              "      <td>0.739205</td>\n",
              "      <td>1</td>\n",
              "      <td>N</td>\n",
              "    </tr>\n",
              "    <tr>\n",
              "      <th>RR</th>\n",
              "      <td>Norte</td>\n",
              "      <td>225116</td>\n",
              "      <td>174277.0</td>\n",
              "      <td>72854.0</td>\n",
              "      <td>247131.0</td>\n",
              "      <td>2.392140</td>\n",
              "      <td>0.705201</td>\n",
              "      <td>1</td>\n",
              "      <td>N</td>\n",
              "    </tr>\n",
              "    <tr>\n",
              "      <th>PA</th>\n",
              "      <td>Norte</td>\n",
              "      <td>1253165</td>\n",
              "      <td>2949017.0</td>\n",
              "      <td>2561832.0</td>\n",
              "      <td>5510849.0</td>\n",
              "      <td>1.151136</td>\n",
              "      <td>0.535129</td>\n",
              "      <td>0</td>\n",
              "      <td>N</td>\n",
              "    </tr>\n",
              "  </tbody>\n",
              "</table>\n",
              "</div>"
            ],
            "text/plain": [
              "   regiao  superficie  pop_urbana  pop_rural      total  razao_urbana_rural  \\\n",
              "uf                                                                            \n",
              "RO  Norte      238513    762864.0   468143.0  1231007.0            1.629553   \n",
              "AC  Norte      153150    315401.0   168322.0   483726.0            1.873795   \n",
              "AM  Norte     1577820   1766166.0   623113.0  2389279.0            2.834423   \n",
              "RR  Norte      225116    174277.0    72854.0   247131.0            2.392140   \n",
              "PA  Norte     1253165   2949017.0  2561832.0  5510849.0            1.151136   \n",
              "\n",
              "    frac_urbana  indicador regiao_pc  \n",
              "uf                                    \n",
              "RO     0.619707          0         N  \n",
              "AC     0.652024          0         N  \n",
              "AM     0.739205          1         N  \n",
              "RR     0.705201          1         N  \n",
              "PA     0.535129          0         N  "
            ]
          },
          "execution_count": 228,
          "metadata": {},
          "output_type": "execute_result"
        }
      ],
      "source": [
        "df.head()"
      ]
    },
    {
      "cell_type": "code",
      "execution_count": null,
      "metadata": {
        "id": "ZWc4tiq_Lwqe"
      },
      "outputs": [],
      "source": [
        "# usando o apply em múltiplas colunas\n",
        "def soma_quadrados(row):\n",
        "    soma = (row[\"pop_urbana\"] ** 2 + row[\"pop_rural\"] ** 2) / (row[\"total\"] ** 2)\n",
        "    return soma\n",
        "\n",
        "df['indicador2'] = df.apply(soma_quadrados, axis=1)\n"
      ]
    },
    {
      "cell_type": "code",
      "execution_count": null,
      "metadata": {
        "id": "wFPHZAAzLwqe",
        "outputId": "947ec57a-766f-4070-fa51-bb7bee3ffd33"
      },
      "outputs": [
        {
          "data": {
            "text/html": [
              "<div>\n",
              "<style scoped>\n",
              "    .dataframe tbody tr th:only-of-type {\n",
              "        vertical-align: middle;\n",
              "    }\n",
              "\n",
              "    .dataframe tbody tr th {\n",
              "        vertical-align: top;\n",
              "    }\n",
              "\n",
              "    .dataframe thead th {\n",
              "        text-align: right;\n",
              "    }\n",
              "</style>\n",
              "<table border=\"1\" class=\"dataframe\">\n",
              "  <thead>\n",
              "    <tr style=\"text-align: right;\">\n",
              "      <th></th>\n",
              "      <th>regiao</th>\n",
              "      <th>superficie</th>\n",
              "      <th>pop_urbana</th>\n",
              "      <th>pop_rural</th>\n",
              "      <th>total</th>\n",
              "      <th>razao_urbana_rural</th>\n",
              "      <th>frac_urbana</th>\n",
              "      <th>indicador</th>\n",
              "      <th>regiao_pc</th>\n",
              "      <th>indicador2</th>\n",
              "    </tr>\n",
              "    <tr>\n",
              "      <th>uf</th>\n",
              "      <th></th>\n",
              "      <th></th>\n",
              "      <th></th>\n",
              "      <th></th>\n",
              "      <th></th>\n",
              "      <th></th>\n",
              "      <th></th>\n",
              "      <th></th>\n",
              "      <th></th>\n",
              "      <th></th>\n",
              "    </tr>\n",
              "  </thead>\n",
              "  <tbody>\n",
              "    <tr>\n",
              "      <th>RO</th>\n",
              "      <td>Norte</td>\n",
              "      <td>238513</td>\n",
              "      <td>762864.0</td>\n",
              "      <td>468143.0</td>\n",
              "      <td>1231007.0</td>\n",
              "      <td>1.629553</td>\n",
              "      <td>0.619707</td>\n",
              "      <td>0</td>\n",
              "      <td>N</td>\n",
              "      <td>0.528660</td>\n",
              "    </tr>\n",
              "    <tr>\n",
              "      <th>AC</th>\n",
              "      <td>Norte</td>\n",
              "      <td>153150</td>\n",
              "      <td>315401.0</td>\n",
              "      <td>168322.0</td>\n",
              "      <td>483726.0</td>\n",
              "      <td>1.873795</td>\n",
              "      <td>0.652024</td>\n",
              "      <td>0</td>\n",
              "      <td>N</td>\n",
              "      <td>0.546218</td>\n",
              "    </tr>\n",
              "    <tr>\n",
              "      <th>AM</th>\n",
              "      <td>Norte</td>\n",
              "      <td>1577820</td>\n",
              "      <td>1766166.0</td>\n",
              "      <td>623113.0</td>\n",
              "      <td>2389279.0</td>\n",
              "      <td>2.834423</td>\n",
              "      <td>0.739205</td>\n",
              "      <td>1</td>\n",
              "      <td>N</td>\n",
              "      <td>0.614438</td>\n",
              "    </tr>\n",
              "    <tr>\n",
              "      <th>RR</th>\n",
              "      <td>Norte</td>\n",
              "      <td>225116</td>\n",
              "      <td>174277.0</td>\n",
              "      <td>72854.0</td>\n",
              "      <td>247131.0</td>\n",
              "      <td>2.392140</td>\n",
              "      <td>0.705201</td>\n",
              "      <td>1</td>\n",
              "      <td>N</td>\n",
              "      <td>0.584215</td>\n",
              "    </tr>\n",
              "    <tr>\n",
              "      <th>PA</th>\n",
              "      <td>Norte</td>\n",
              "      <td>1253165</td>\n",
              "      <td>2949017.0</td>\n",
              "      <td>2561832.0</td>\n",
              "      <td>5510849.0</td>\n",
              "      <td>1.151136</td>\n",
              "      <td>0.535129</td>\n",
              "      <td>0</td>\n",
              "      <td>N</td>\n",
              "      <td>0.502468</td>\n",
              "    </tr>\n",
              "  </tbody>\n",
              "</table>\n",
              "</div>"
            ],
            "text/plain": [
              "   regiao  superficie  pop_urbana  pop_rural      total  razao_urbana_rural  \\\n",
              "uf                                                                            \n",
              "RO  Norte      238513    762864.0   468143.0  1231007.0            1.629553   \n",
              "AC  Norte      153150    315401.0   168322.0   483726.0            1.873795   \n",
              "AM  Norte     1577820   1766166.0   623113.0  2389279.0            2.834423   \n",
              "RR  Norte      225116    174277.0    72854.0   247131.0            2.392140   \n",
              "PA  Norte     1253165   2949017.0  2561832.0  5510849.0            1.151136   \n",
              "\n",
              "    frac_urbana  indicador regiao_pc  indicador2  \n",
              "uf                                                \n",
              "RO     0.619707          0         N    0.528660  \n",
              "AC     0.652024          0         N    0.546218  \n",
              "AM     0.739205          1         N    0.614438  \n",
              "RR     0.705201          1         N    0.584215  \n",
              "PA     0.535129          0         N    0.502468  "
            ]
          },
          "execution_count": 243,
          "metadata": {},
          "output_type": "execute_result"
        }
      ],
      "source": [
        "df.head()"
      ]
    },
    {
      "cell_type": "markdown",
      "metadata": {
        "id": "MW3AiVxnLwqe"
      },
      "source": [
        "### Merge (join)\n",
        "\n",
        "Outra tarefa muito comum quando estamos trabalhando com bases de dados é o **cruzamento**\n",
        "\n",
        "Para fazer isso, utilizamos o método **.merge()**, cujos modos de cruzamento são:\n",
        "\n",
        "<img src=\"https://community.qlik.com/legacyfs/online/87693_all-joins.png\" width=450 style=\"background-color:white\">"
      ]
    },
    {
      "cell_type": "code",
      "execution_count": null,
      "metadata": {
        "id": "flKNPCu2Lwqf"
      },
      "outputs": [],
      "source": [
        "lista_on_left = [ 1,2,3,4,5,6,7,8,9,10]\n",
        "lista_on_right = [1,3,5,7,9, 15, 20 , 55]"
      ]
    },
    {
      "cell_type": "code",
      "execution_count": null,
      "metadata": {
        "id": "19bXNFtGLwqf",
        "outputId": "a3679b4f-7d15-4af2-ed87-d5568056ff58"
      },
      "outputs": [
        {
          "data": {
            "text/html": [
              "<div>\n",
              "<style scoped>\n",
              "    .dataframe tbody tr th:only-of-type {\n",
              "        vertical-align: middle;\n",
              "    }\n",
              "\n",
              "    .dataframe tbody tr th {\n",
              "        vertical-align: top;\n",
              "    }\n",
              "\n",
              "    .dataframe thead th {\n",
              "        text-align: right;\n",
              "    }\n",
              "</style>\n",
              "<table border=\"1\" class=\"dataframe\">\n",
              "  <thead>\n",
              "    <tr style=\"text-align: right;\">\n",
              "      <th></th>\n",
              "      <th>coluna_on</th>\n",
              "      <th>valores_esquerda</th>\n",
              "    </tr>\n",
              "  </thead>\n",
              "  <tbody>\n",
              "    <tr>\n",
              "      <th>0</th>\n",
              "      <td>1</td>\n",
              "      <td>1</td>\n",
              "    </tr>\n",
              "    <tr>\n",
              "      <th>1</th>\n",
              "      <td>2</td>\n",
              "      <td>2</td>\n",
              "    </tr>\n",
              "    <tr>\n",
              "      <th>2</th>\n",
              "      <td>3</td>\n",
              "      <td>3</td>\n",
              "    </tr>\n",
              "    <tr>\n",
              "      <th>3</th>\n",
              "      <td>4</td>\n",
              "      <td>4</td>\n",
              "    </tr>\n",
              "    <tr>\n",
              "      <th>4</th>\n",
              "      <td>5</td>\n",
              "      <td>5</td>\n",
              "    </tr>\n",
              "    <tr>\n",
              "      <th>5</th>\n",
              "      <td>6</td>\n",
              "      <td>6</td>\n",
              "    </tr>\n",
              "    <tr>\n",
              "      <th>6</th>\n",
              "      <td>7</td>\n",
              "      <td>7</td>\n",
              "    </tr>\n",
              "    <tr>\n",
              "      <th>7</th>\n",
              "      <td>8</td>\n",
              "      <td>8</td>\n",
              "    </tr>\n",
              "    <tr>\n",
              "      <th>8</th>\n",
              "      <td>9</td>\n",
              "      <td>9</td>\n",
              "    </tr>\n",
              "    <tr>\n",
              "      <th>9</th>\n",
              "      <td>10</td>\n",
              "      <td>10</td>\n",
              "    </tr>\n",
              "  </tbody>\n",
              "</table>\n",
              "</div>"
            ],
            "text/plain": [
              "   coluna_on  valores_esquerda\n",
              "0          1                 1\n",
              "1          2                 2\n",
              "2          3                 3\n",
              "3          4                 4\n",
              "4          5                 5\n",
              "5          6                 6\n",
              "6          7                 7\n",
              "7          8                 8\n",
              "8          9                 9\n",
              "9         10                10"
            ]
          },
          "execution_count": 263,
          "metadata": {},
          "output_type": "execute_result"
        }
      ],
      "source": [
        "dict_left= { 'coluna_on':lista_on_left, 'valores_esquerda': lista_on_left}\n",
        "dict_right = {'coluna_on': lista_on_right, 'valores_direita': lista_on_right}\n",
        "\n",
        "df_left = pd.DataFrame(dict_left)\n",
        "df_left"
      ]
    },
    {
      "cell_type": "code",
      "execution_count": null,
      "metadata": {
        "id": "2Z5uOlLjLwqf",
        "outputId": "434de1b5-3c70-4da1-babb-c6e4bfda319e"
      },
      "outputs": [
        {
          "data": {
            "text/html": [
              "<div>\n",
              "<style scoped>\n",
              "    .dataframe tbody tr th:only-of-type {\n",
              "        vertical-align: middle;\n",
              "    }\n",
              "\n",
              "    .dataframe tbody tr th {\n",
              "        vertical-align: top;\n",
              "    }\n",
              "\n",
              "    .dataframe thead th {\n",
              "        text-align: right;\n",
              "    }\n",
              "</style>\n",
              "<table border=\"1\" class=\"dataframe\">\n",
              "  <thead>\n",
              "    <tr style=\"text-align: right;\">\n",
              "      <th></th>\n",
              "      <th>coluna_on</th>\n",
              "      <th>valores_direita</th>\n",
              "    </tr>\n",
              "  </thead>\n",
              "  <tbody>\n",
              "    <tr>\n",
              "      <th>0</th>\n",
              "      <td>1</td>\n",
              "      <td>1</td>\n",
              "    </tr>\n",
              "    <tr>\n",
              "      <th>1</th>\n",
              "      <td>3</td>\n",
              "      <td>3</td>\n",
              "    </tr>\n",
              "    <tr>\n",
              "      <th>2</th>\n",
              "      <td>5</td>\n",
              "      <td>5</td>\n",
              "    </tr>\n",
              "    <tr>\n",
              "      <th>3</th>\n",
              "      <td>7</td>\n",
              "      <td>7</td>\n",
              "    </tr>\n",
              "    <tr>\n",
              "      <th>4</th>\n",
              "      <td>9</td>\n",
              "      <td>9</td>\n",
              "    </tr>\n",
              "    <tr>\n",
              "      <th>5</th>\n",
              "      <td>15</td>\n",
              "      <td>15</td>\n",
              "    </tr>\n",
              "    <tr>\n",
              "      <th>6</th>\n",
              "      <td>20</td>\n",
              "      <td>20</td>\n",
              "    </tr>\n",
              "    <tr>\n",
              "      <th>7</th>\n",
              "      <td>55</td>\n",
              "      <td>55</td>\n",
              "    </tr>\n",
              "  </tbody>\n",
              "</table>\n",
              "</div>"
            ],
            "text/plain": [
              "   coluna_on  valores_direita\n",
              "0          1                1\n",
              "1          3                3\n",
              "2          5                5\n",
              "3          7                7\n",
              "4          9                9\n",
              "5         15               15\n",
              "6         20               20\n",
              "7         55               55"
            ]
          },
          "execution_count": 264,
          "metadata": {},
          "output_type": "execute_result"
        }
      ],
      "source": [
        "df_right = pd.DataFrame(dict_right)\n",
        "df_right"
      ]
    },
    {
      "cell_type": "code",
      "execution_count": null,
      "metadata": {
        "id": "tf7Y9vZtLwqf",
        "outputId": "47a4a1ec-6618-494a-d750-1788a0987f84"
      },
      "outputs": [
        {
          "data": {
            "text/html": [
              "<div>\n",
              "<style scoped>\n",
              "    .dataframe tbody tr th:only-of-type {\n",
              "        vertical-align: middle;\n",
              "    }\n",
              "\n",
              "    .dataframe tbody tr th {\n",
              "        vertical-align: top;\n",
              "    }\n",
              "\n",
              "    .dataframe thead th {\n",
              "        text-align: right;\n",
              "    }\n",
              "</style>\n",
              "<table border=\"1\" class=\"dataframe\">\n",
              "  <thead>\n",
              "    <tr style=\"text-align: right;\">\n",
              "      <th></th>\n",
              "      <th>coluna_on</th>\n",
              "      <th>valores_esquerda</th>\n",
              "      <th>valores_direita</th>\n",
              "    </tr>\n",
              "  </thead>\n",
              "  <tbody>\n",
              "    <tr>\n",
              "      <th>0</th>\n",
              "      <td>1</td>\n",
              "      <td>1</td>\n",
              "      <td>1</td>\n",
              "    </tr>\n",
              "    <tr>\n",
              "      <th>1</th>\n",
              "      <td>3</td>\n",
              "      <td>3</td>\n",
              "      <td>3</td>\n",
              "    </tr>\n",
              "    <tr>\n",
              "      <th>2</th>\n",
              "      <td>5</td>\n",
              "      <td>5</td>\n",
              "      <td>5</td>\n",
              "    </tr>\n",
              "    <tr>\n",
              "      <th>3</th>\n",
              "      <td>7</td>\n",
              "      <td>7</td>\n",
              "      <td>7</td>\n",
              "    </tr>\n",
              "    <tr>\n",
              "      <th>4</th>\n",
              "      <td>9</td>\n",
              "      <td>9</td>\n",
              "      <td>9</td>\n",
              "    </tr>\n",
              "  </tbody>\n",
              "</table>\n",
              "</div>"
            ],
            "text/plain": [
              "   coluna_on  valores_esquerda  valores_direita\n",
              "0          1                 1                1\n",
              "1          3                 3                3\n",
              "2          5                 5                5\n",
              "3          7                 7                7\n",
              "4          9                 9                9"
            ]
          },
          "execution_count": 266,
          "metadata": {},
          "output_type": "execute_result"
        }
      ],
      "source": [
        "df_left.merge(df_right,on='coluna_on', how=\"inner\")"
      ]
    },
    {
      "cell_type": "code",
      "execution_count": null,
      "metadata": {
        "id": "NfcAuDkvLwqf",
        "outputId": "c5116ac2-1c02-4329-d0e1-28b246e37d9f"
      },
      "outputs": [
        {
          "data": {
            "text/html": [
              "<div>\n",
              "<style scoped>\n",
              "    .dataframe tbody tr th:only-of-type {\n",
              "        vertical-align: middle;\n",
              "    }\n",
              "\n",
              "    .dataframe tbody tr th {\n",
              "        vertical-align: top;\n",
              "    }\n",
              "\n",
              "    .dataframe thead th {\n",
              "        text-align: right;\n",
              "    }\n",
              "</style>\n",
              "<table border=\"1\" class=\"dataframe\">\n",
              "  <thead>\n",
              "    <tr style=\"text-align: right;\">\n",
              "      <th></th>\n",
              "      <th>uf</th>\n",
              "      <th>regiao</th>\n",
              "      <th>superficie</th>\n",
              "      <th>pop_urbana</th>\n",
              "      <th>pop_rural</th>\n",
              "      <th>total</th>\n",
              "      <th>razao_urbana_rural</th>\n",
              "      <th>frac_urbana</th>\n",
              "      <th>indicador</th>\n",
              "      <th>regiao_pc</th>\n",
              "      <th>indicador2</th>\n",
              "    </tr>\n",
              "  </thead>\n",
              "  <tbody>\n",
              "    <tr>\n",
              "      <th>0</th>\n",
              "      <td>RO</td>\n",
              "      <td>Norte</td>\n",
              "      <td>238513</td>\n",
              "      <td>762864.0</td>\n",
              "      <td>468143.0</td>\n",
              "      <td>1231007.0</td>\n",
              "      <td>1.629553</td>\n",
              "      <td>0.619707</td>\n",
              "      <td>0</td>\n",
              "      <td>N</td>\n",
              "      <td>0.528660</td>\n",
              "    </tr>\n",
              "    <tr>\n",
              "      <th>1</th>\n",
              "      <td>AC</td>\n",
              "      <td>Norte</td>\n",
              "      <td>153150</td>\n",
              "      <td>315401.0</td>\n",
              "      <td>168322.0</td>\n",
              "      <td>483726.0</td>\n",
              "      <td>1.873795</td>\n",
              "      <td>0.652024</td>\n",
              "      <td>0</td>\n",
              "      <td>N</td>\n",
              "      <td>0.546218</td>\n",
              "    </tr>\n",
              "    <tr>\n",
              "      <th>2</th>\n",
              "      <td>AM</td>\n",
              "      <td>Norte</td>\n",
              "      <td>1577820</td>\n",
              "      <td>1766166.0</td>\n",
              "      <td>623113.0</td>\n",
              "      <td>2389279.0</td>\n",
              "      <td>2.834423</td>\n",
              "      <td>0.739205</td>\n",
              "      <td>1</td>\n",
              "      <td>N</td>\n",
              "      <td>0.614438</td>\n",
              "    </tr>\n",
              "    <tr>\n",
              "      <th>3</th>\n",
              "      <td>RR</td>\n",
              "      <td>Norte</td>\n",
              "      <td>225116</td>\n",
              "      <td>174277.0</td>\n",
              "      <td>72854.0</td>\n",
              "      <td>247131.0</td>\n",
              "      <td>2.392140</td>\n",
              "      <td>0.705201</td>\n",
              "      <td>1</td>\n",
              "      <td>N</td>\n",
              "      <td>0.584215</td>\n",
              "    </tr>\n",
              "    <tr>\n",
              "      <th>4</th>\n",
              "      <td>PA</td>\n",
              "      <td>Norte</td>\n",
              "      <td>1253165</td>\n",
              "      <td>2949017.0</td>\n",
              "      <td>2561832.0</td>\n",
              "      <td>5510849.0</td>\n",
              "      <td>1.151136</td>\n",
              "      <td>0.535129</td>\n",
              "      <td>0</td>\n",
              "      <td>N</td>\n",
              "      <td>0.502468</td>\n",
              "    </tr>\n",
              "  </tbody>\n",
              "</table>\n",
              "</div>"
            ],
            "text/plain": [
              "   uf regiao  superficie  pop_urbana  pop_rural      total  \\\n",
              "0  RO  Norte      238513    762864.0   468143.0  1231007.0   \n",
              "1  AC  Norte      153150    315401.0   168322.0   483726.0   \n",
              "2  AM  Norte     1577820   1766166.0   623113.0  2389279.0   \n",
              "3  RR  Norte      225116    174277.0    72854.0   247131.0   \n",
              "4  PA  Norte     1253165   2949017.0  2561832.0  5510849.0   \n",
              "\n",
              "   razao_urbana_rural  frac_urbana  indicador regiao_pc  indicador2  \n",
              "0            1.629553     0.619707          0         N    0.528660  \n",
              "1            1.873795     0.652024          0         N    0.546218  \n",
              "2            2.834423     0.739205          1         N    0.614438  \n",
              "3            2.392140     0.705201          1         N    0.584215  \n",
              "4            1.151136     0.535129          0         N    0.502468  "
            ]
          },
          "execution_count": 269,
          "metadata": {},
          "output_type": "execute_result"
        }
      ],
      "source": [
        "df = df.reset_index()\n",
        "df.head()"
      ]
    },
    {
      "cell_type": "code",
      "execution_count": null,
      "metadata": {
        "id": "KKv-1fbALwqf"
      },
      "outputs": [],
      "source": [
        "df_novo = pd.merge(df_muni, df, on='uf', how='left ')"
      ]
    },
    {
      "cell_type": "code",
      "execution_count": null,
      "metadata": {
        "id": "twcQPrmpLwqf",
        "outputId": "5276ad7b-6d4c-46c7-97a3-ad13125b62d2"
      },
      "outputs": [
        {
          "data": {
            "text/html": [
              "<div>\n",
              "<style scoped>\n",
              "    .dataframe tbody tr th:only-of-type {\n",
              "        vertical-align: middle;\n",
              "    }\n",
              "\n",
              "    .dataframe tbody tr th {\n",
              "        vertical-align: top;\n",
              "    }\n",
              "\n",
              "    .dataframe thead th {\n",
              "        text-align: right;\n",
              "    }\n",
              "</style>\n",
              "<table border=\"1\" class=\"dataframe\">\n",
              "  <thead>\n",
              "    <tr style=\"text-align: right;\">\n",
              "      <th></th>\n",
              "      <th>uf</th>\n",
              "      <th>cod_uf</th>\n",
              "      <th>cod_muni</th>\n",
              "      <th>nome_municipio</th>\n",
              "      <th>pop_estimada</th>\n",
              "      <th>regiao</th>\n",
              "      <th>superficie</th>\n",
              "      <th>pop_urbana</th>\n",
              "      <th>pop_rural</th>\n",
              "      <th>total</th>\n",
              "      <th>razao_urbana_rural</th>\n",
              "      <th>frac_urbana</th>\n",
              "      <th>indicador</th>\n",
              "      <th>regiao_pc</th>\n",
              "      <th>indicador2</th>\n",
              "    </tr>\n",
              "  </thead>\n",
              "  <tbody>\n",
              "    <tr>\n",
              "      <th>0</th>\n",
              "      <td>RO</td>\n",
              "      <td>11</td>\n",
              "      <td>15</td>\n",
              "      <td>Alta Floresta D'Oeste</td>\n",
              "      <td>22516</td>\n",
              "      <td>Norte</td>\n",
              "      <td>238513.0</td>\n",
              "      <td>762864.0</td>\n",
              "      <td>468143.0</td>\n",
              "      <td>1231007.0</td>\n",
              "      <td>1.629553</td>\n",
              "      <td>0.619707</td>\n",
              "      <td>0.0</td>\n",
              "      <td>N</td>\n",
              "      <td>0.52866</td>\n",
              "    </tr>\n",
              "    <tr>\n",
              "      <th>1</th>\n",
              "      <td>RO</td>\n",
              "      <td>11</td>\n",
              "      <td>23</td>\n",
              "      <td>Ariquemes</td>\n",
              "      <td>111148</td>\n",
              "      <td>Norte</td>\n",
              "      <td>238513.0</td>\n",
              "      <td>762864.0</td>\n",
              "      <td>468143.0</td>\n",
              "      <td>1231007.0</td>\n",
              "      <td>1.629553</td>\n",
              "      <td>0.619707</td>\n",
              "      <td>0.0</td>\n",
              "      <td>N</td>\n",
              "      <td>0.52866</td>\n",
              "    </tr>\n",
              "    <tr>\n",
              "      <th>2</th>\n",
              "      <td>RO</td>\n",
              "      <td>11</td>\n",
              "      <td>31</td>\n",
              "      <td>Cabixi</td>\n",
              "      <td>5067</td>\n",
              "      <td>Norte</td>\n",
              "      <td>238513.0</td>\n",
              "      <td>762864.0</td>\n",
              "      <td>468143.0</td>\n",
              "      <td>1231007.0</td>\n",
              "      <td>1.629553</td>\n",
              "      <td>0.619707</td>\n",
              "      <td>0.0</td>\n",
              "      <td>N</td>\n",
              "      <td>0.52866</td>\n",
              "    </tr>\n",
              "    <tr>\n",
              "      <th>3</th>\n",
              "      <td>RO</td>\n",
              "      <td>11</td>\n",
              "      <td>49</td>\n",
              "      <td>Cacoal</td>\n",
              "      <td>86416</td>\n",
              "      <td>Norte</td>\n",
              "      <td>238513.0</td>\n",
              "      <td>762864.0</td>\n",
              "      <td>468143.0</td>\n",
              "      <td>1231007.0</td>\n",
              "      <td>1.629553</td>\n",
              "      <td>0.619707</td>\n",
              "      <td>0.0</td>\n",
              "      <td>N</td>\n",
              "      <td>0.52866</td>\n",
              "    </tr>\n",
              "    <tr>\n",
              "      <th>4</th>\n",
              "      <td>RO</td>\n",
              "      <td>11</td>\n",
              "      <td>56</td>\n",
              "      <td>Cerejeiras</td>\n",
              "      <td>16088</td>\n",
              "      <td>Norte</td>\n",
              "      <td>238513.0</td>\n",
              "      <td>762864.0</td>\n",
              "      <td>468143.0</td>\n",
              "      <td>1231007.0</td>\n",
              "      <td>1.629553</td>\n",
              "      <td>0.619707</td>\n",
              "      <td>0.0</td>\n",
              "      <td>N</td>\n",
              "      <td>0.52866</td>\n",
              "    </tr>\n",
              "  </tbody>\n",
              "</table>\n",
              "</div>"
            ],
            "text/plain": [
              "   uf  cod_uf  cod_muni         nome_municipio  pop_estimada regiao  \\\n",
              "0  RO      11        15  Alta Floresta D'Oeste         22516  Norte   \n",
              "1  RO      11        23              Ariquemes        111148  Norte   \n",
              "2  RO      11        31                 Cabixi          5067  Norte   \n",
              "3  RO      11        49                 Cacoal         86416  Norte   \n",
              "4  RO      11        56             Cerejeiras         16088  Norte   \n",
              "\n",
              "   superficie  pop_urbana  pop_rural      total  razao_urbana_rural  \\\n",
              "0    238513.0    762864.0   468143.0  1231007.0            1.629553   \n",
              "1    238513.0    762864.0   468143.0  1231007.0            1.629553   \n",
              "2    238513.0    762864.0   468143.0  1231007.0            1.629553   \n",
              "3    238513.0    762864.0   468143.0  1231007.0            1.629553   \n",
              "4    238513.0    762864.0   468143.0  1231007.0            1.629553   \n",
              "\n",
              "   frac_urbana  indicador regiao_pc  indicador2  \n",
              "0     0.619707        0.0         N     0.52866  \n",
              "1     0.619707        0.0         N     0.52866  \n",
              "2     0.619707        0.0         N     0.52866  \n",
              "3     0.619707        0.0         N     0.52866  \n",
              "4     0.619707        0.0         N     0.52866  "
            ]
          },
          "execution_count": 271,
          "metadata": {},
          "output_type": "execute_result"
        }
      ],
      "source": [
        "df_novo.head()"
      ]
    },
    {
      "cell_type": "code",
      "execution_count": null,
      "metadata": {
        "id": "NreihFy7Lwqf",
        "outputId": "40b33df7-ebbc-472a-e959-f68e32a95797"
      },
      "outputs": [
        {
          "data": {
            "text/html": [
              "<div>\n",
              "<style scoped>\n",
              "    .dataframe tbody tr th:only-of-type {\n",
              "        vertical-align: middle;\n",
              "    }\n",
              "\n",
              "    .dataframe tbody tr th {\n",
              "        vertical-align: top;\n",
              "    }\n",
              "\n",
              "    .dataframe thead tr th {\n",
              "        text-align: left;\n",
              "    }\n",
              "\n",
              "    .dataframe thead tr:last-of-type th {\n",
              "        text-align: right;\n",
              "    }\n",
              "</style>\n",
              "<table border=\"1\" class=\"dataframe\">\n",
              "  <thead>\n",
              "    <tr>\n",
              "      <th></th>\n",
              "      <th colspan=\"3\" halign=\"left\">pop_estimada</th>\n",
              "    </tr>\n",
              "    <tr>\n",
              "      <th></th>\n",
              "      <th>mean</th>\n",
              "      <th>std</th>\n",
              "      <th>median</th>\n",
              "    </tr>\n",
              "    <tr>\n",
              "      <th>regiao</th>\n",
              "      <th></th>\n",
              "      <th></th>\n",
              "      <th></th>\n",
              "    </tr>\n",
              "  </thead>\n",
              "  <tbody>\n",
              "    <tr>\n",
              "      <th>Centro-Oeste</th>\n",
              "      <td>35775.880086</td>\n",
              "      <td>172714.901533</td>\n",
              "      <td>9399.0</td>\n",
              "    </tr>\n",
              "    <tr>\n",
              "      <th>Nordeste</th>\n",
              "      <td>29827.873835</td>\n",
              "      <td>117781.505810</td>\n",
              "      <td>13876.0</td>\n",
              "    </tr>\n",
              "    <tr>\n",
              "      <th>Norte</th>\n",
              "      <td>42015.471111</td>\n",
              "      <td>140141.406672</td>\n",
              "      <td>16921.0</td>\n",
              "    </tr>\n",
              "    <tr>\n",
              "      <th>Sudeste</th>\n",
              "      <td>53736.757794</td>\n",
              "      <td>364442.832617</td>\n",
              "      <td>11504.5</td>\n",
              "    </tr>\n",
              "    <tr>\n",
              "      <th>Sul</th>\n",
              "      <td>25526.941226</td>\n",
              "      <td>88461.904412</td>\n",
              "      <td>7213.0</td>\n",
              "    </tr>\n",
              "  </tbody>\n",
              "</table>\n",
              "</div>"
            ],
            "text/plain": [
              "              pop_estimada                        \n",
              "                      mean            std   median\n",
              "regiao                                            \n",
              "Centro-Oeste  35775.880086  172714.901533   9399.0\n",
              "Nordeste      29827.873835  117781.505810  13876.0\n",
              "Norte         42015.471111  140141.406672  16921.0\n",
              "Sudeste       53736.757794  364442.832617  11504.5\n",
              "Sul           25526.941226   88461.904412   7213.0"
            ]
          },
          "execution_count": 275,
          "metadata": {},
          "output_type": "execute_result"
        }
      ],
      "source": [
        "# quero a média e o desvio padrão da população estimada por região\n",
        "\n",
        "df_novo.groupby('regiao').agg({'pop_estimada':['mean', 'std', 'median']})"
      ]
    },
    {
      "cell_type": "markdown",
      "metadata": {
        "id": "6FQ7QdKCLwqf"
      },
      "source": [
        "**Bora praticar!**\n",
        "  \n",
        "1) Utilizando o DataFrame importado anteriormente (alunos3.csv) calcule a média das provas em uma nova coluna chamada (Media_provas)"
      ]
    },
    {
      "cell_type": "code",
      "execution_count": null,
      "metadata": {
        "id": "JbC3k7kaLwqg"
      },
      "outputs": [],
      "source": []
    },
    {
      "cell_type": "code",
      "execution_count": null,
      "metadata": {
        "id": "aH-16sCyLwqg"
      },
      "outputs": [],
      "source": []
    },
    {
      "cell_type": "markdown",
      "metadata": {
        "id": "OX-IAmk3Lwqg"
      },
      "source": [
        "2) Quem foram os alunos que obtiveram a maior e a menor média"
      ]
    },
    {
      "cell_type": "code",
      "execution_count": null,
      "metadata": {
        "id": "0qmVmV3XLwqg"
      },
      "outputs": [],
      "source": []
    },
    {
      "cell_type": "code",
      "execution_count": null,
      "metadata": {
        "id": "9AEmNX-pLwqg"
      },
      "outputs": [],
      "source": []
    },
    {
      "cell_type": "code",
      "execution_count": null,
      "metadata": {
        "id": "vpoAjle4Lwqg"
      },
      "outputs": [],
      "source": []
    },
    {
      "cell_type": "code",
      "execution_count": null,
      "metadata": {
        "id": "C6BiHOfXLwqg"
      },
      "outputs": [],
      "source": []
    },
    {
      "cell_type": "markdown",
      "metadata": {
        "id": "5iLWcDQJLwqg"
      },
      "source": [
        "3) Agora una este dataframe com o cadastro_alunos.xlsx"
      ]
    },
    {
      "cell_type": "code",
      "execution_count": null,
      "metadata": {
        "id": "XKzAn7aILwqg"
      },
      "outputs": [],
      "source": []
    },
    {
      "cell_type": "code",
      "execution_count": null,
      "metadata": {
        "id": "WxRFIJ3tLwqg"
      },
      "outputs": [],
      "source": []
    },
    {
      "cell_type": "markdown",
      "metadata": {
        "id": "OmOvAmHcLwqg"
      },
      "source": [
        "4) Qual a média entre as Media_provas dentro do público feminino? e masculino?"
      ]
    },
    {
      "cell_type": "code",
      "execution_count": null,
      "metadata": {
        "id": "-KQVRVf-Lwqg"
      },
      "outputs": [],
      "source": []
    },
    {
      "cell_type": "markdown",
      "metadata": {
        "id": "cB-8Sq9XLwqg"
      },
      "source": [
        "5) Qual a média de idade das pessoas que obtiveram Media_provas maior ou igual a 7?"
      ]
    },
    {
      "cell_type": "code",
      "execution_count": null,
      "metadata": {
        "id": "cWTgbqg7Lwqg"
      },
      "outputs": [],
      "source": []
    },
    {
      "cell_type": "code",
      "execution_count": null,
      "metadata": {
        "id": "De21WK7mLwqg"
      },
      "outputs": [],
      "source": []
    },
    {
      "cell_type": "code",
      "execution_count": null,
      "metadata": {
        "id": "xi7WLyRFLwqh"
      },
      "outputs": [],
      "source": []
    },
    {
      "cell_type": "code",
      "execution_count": null,
      "metadata": {
        "id": "gPgmUgr0Lwqh"
      },
      "outputs": [],
      "source": []
    },
    {
      "cell_type": "markdown",
      "metadata": {
        "id": "FUbFJqMYLwqh"
      },
      "source": [
        "6) Qual das cidades possui o maior média de Media_provas? E qual é este valor?"
      ]
    }
  ],
  "metadata": {
    "kernelspec": {
      "display_name": "Python 3",
      "language": "python",
      "name": "python3"
    },
    "language_info": {
      "codemirror_mode": {
        "name": "ipython",
        "version": 3
      },
      "file_extension": ".py",
      "mimetype": "text/x-python",
      "name": "python",
      "nbconvert_exporter": "python",
      "pygments_lexer": "ipython3",
      "version": "3.11.9"
    },
    "colab": {
      "provenance": []
    }
  },
  "nbformat": 4,
  "nbformat_minor": 0
}