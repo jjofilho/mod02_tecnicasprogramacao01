{
 "cells": [
  {
   "cell_type": "code",
   "execution_count": 1,
   "metadata": {},
   "outputs": [],
   "source": [
    "import pandas as pd\n",
    "import numpy as np\n",
    "\n",
    "pd.options.display.max_columns = 25"
   ]
  },
  {
   "cell_type": "markdown",
   "metadata": {},
   "source": [
    "### Bonus"
   ]
  },
  {
   "cell_type": "code",
   "execution_count": null,
   "metadata": {},
   "outputs": [],
   "source": []
  },
  {
   "cell_type": "code",
   "execution_count": null,
   "metadata": {},
   "outputs": [],
   "source": []
  },
  {
   "cell_type": "code",
   "execution_count": null,
   "metadata": {},
   "outputs": [],
   "source": []
  },
  {
   "cell_type": "code",
   "execution_count": null,
   "metadata": {},
   "outputs": [],
   "source": []
  },
  {
   "cell_type": "code",
   "execution_count": null,
   "metadata": {},
   "outputs": [],
   "source": []
  },
  {
   "cell_type": "code",
   "execution_count": null,
   "metadata": {},
   "outputs": [],
   "source": []
  },
  {
   "cell_type": "code",
   "execution_count": null,
   "metadata": {},
   "outputs": [],
   "source": []
  },
  {
   "cell_type": "code",
   "execution_count": null,
   "metadata": {},
   "outputs": [],
   "source": []
  },
  {
   "cell_type": "code",
   "execution_count": null,
   "metadata": {},
   "outputs": [],
   "source": []
  },
  {
   "cell_type": "code",
   "execution_count": null,
   "metadata": {},
   "outputs": [],
   "source": []
  },
  {
   "cell_type": "code",
   "execution_count": null,
   "metadata": {},
   "outputs": [],
   "source": []
  },
  {
   "cell_type": "markdown",
   "metadata": {},
   "source": [
    "## Mais sobre gráficos"
   ]
  },
  {
   "cell_type": "code",
   "execution_count": null,
   "metadata": {},
   "outputs": [],
   "source": [
    "import matplotlib.pyplot as plt\n",
    "\n",
    "# para não precisar usar plt.show()\n",
    "%matplotlib.inline"
   ]
  },
  {
   "cell_type": "markdown",
   "metadata": {},
   "source": [
    "# Tipos de gráficos"
   ]
  },
  {
   "cell_type": "code",
   "execution_count": null,
   "metadata": {},
   "outputs": [],
   "source": []
  },
  {
   "cell_type": "code",
   "execution_count": null,
   "metadata": {},
   "outputs": [],
   "source": []
  },
  {
   "cell_type": "code",
   "execution_count": null,
   "metadata": {},
   "outputs": [],
   "source": []
  },
  {
   "cell_type": "code",
   "execution_count": null,
   "metadata": {},
   "outputs": [],
   "source": []
  },
  {
   "cell_type": "code",
   "execution_count": null,
   "metadata": {},
   "outputs": [],
   "source": []
  },
  {
   "cell_type": "code",
   "execution_count": null,
   "metadata": {},
   "outputs": [],
   "source": []
  },
  {
   "cell_type": "code",
   "execution_count": null,
   "metadata": {},
   "outputs": [],
   "source": []
  },
  {
   "cell_type": "code",
   "execution_count": null,
   "metadata": {},
   "outputs": [],
   "source": []
  },
  {
   "cell_type": "code",
   "execution_count": null,
   "metadata": {},
   "outputs": [],
   "source": []
  },
  {
   "cell_type": "code",
   "execution_count": null,
   "metadata": {},
   "outputs": [],
   "source": []
  },
  {
   "cell_type": "markdown",
   "metadata": {},
   "source": [
    "# Customizar/Personalizar o gráfico"
   ]
  },
  {
   "cell_type": "code",
   "execution_count": null,
   "metadata": {},
   "outputs": [],
   "source": [
    "# São alguns exemplos \n"
   ]
  },
  {
   "cell_type": "markdown",
   "metadata": {},
   "source": [
    "# Salvar o gráfico"
   ]
  },
  {
   "cell_type": "code",
   "execution_count": null,
   "metadata": {},
   "outputs": [],
   "source": [
    "# São alguns exemplos \n",
    "\n",
    "#-------\n",
    "\n"
   ]
  },
  {
   "cell_type": "markdown",
   "metadata": {},
   "source": [
    "# Múltiplos gráficos"
   ]
  },
  {
   "cell_type": "code",
   "execution_count": null,
   "metadata": {},
   "outputs": [],
   "source": [
    "# Mais de um gráfico na mesma imagem\n",
    "\n",
    "# adicionar o ; no fim do texto para não aparecer o texto do gráfico"
   ]
  },
  {
   "cell_type": "markdown",
   "metadata": {},
   "source": [
    "Na estrutura do matplotlib temos dois conceitos importantes:\n",
    "- Área de plotagem (eixos ou Axes) onde de fato os gráficos aparecem\n",
    "- Figura (Figure) onde os eixos estão"
   ]
  },
  {
   "cell_type": "markdown",
   "metadata": {},
   "source": [
    "# Subplots"
   ]
  },
  {
   "cell_type": "code",
   "execution_count": null,
   "metadata": {},
   "outputs": [],
   "source": [
    "# Fazendo na mão \n"
   ]
  },
  {
   "cell_type": "code",
   "execution_count": null,
   "metadata": {},
   "outputs": [],
   "source": []
  },
  {
   "cell_type": "markdown",
   "metadata": {},
   "source": [
    "# plt.subplot()"
   ]
  },
  {
   "cell_type": "markdown",
   "metadata": {},
   "source": [
    "plt.subplot(nrows, ncols, index)\n",
    "\n",
    "nrows= nº de linhas  \n",
    "ncols = nº de colunas  \n",
    "index = índice do gráfico"
   ]
  },
  {
   "cell_type": "code",
   "execution_count": null,
   "metadata": {},
   "outputs": [],
   "source": []
  },
  {
   "cell_type": "markdown",
   "metadata": {},
   "source": [
    "# plt.subplots()\n",
    "\n"
   ]
  },
  {
   "cell_type": "markdown",
   "metadata": {},
   "source": [
    "plt.subplots(nrows, ncols)\n",
    "\n",
    "Lembrando que o python começa no zero"
   ]
  },
  {
   "cell_type": "code",
   "execution_count": null,
   "metadata": {},
   "outputs": [],
   "source": []
  },
  {
   "cell_type": "markdown",
   "metadata": {},
   "source": [
    "como colocar os gráficos dentro desses eixos?"
   ]
  },
  {
   "cell_type": "code",
   "execution_count": null,
   "metadata": {},
   "outputs": [],
   "source": [
    "\n",
    "# criar gráfico para cada posição\n"
   ]
  },
  {
   "cell_type": "code",
   "execution_count": null,
   "metadata": {},
   "outputs": [],
   "source": []
  },
  {
   "cell_type": "code",
   "execution_count": null,
   "metadata": {},
   "outputs": [],
   "source": []
  },
  {
   "cell_type": "markdown",
   "metadata": {},
   "source": [
    "### Dúvida - heatmap"
   ]
  },
  {
   "cell_type": "code",
   "execution_count": null,
   "metadata": {},
   "outputs": [],
   "source": [
    "!pip install seaborn"
   ]
  },
  {
   "cell_type": "code",
   "execution_count": null,
   "metadata": {},
   "outputs": [],
   "source": [
    "import seaborn as sns"
   ]
  },
  {
   "cell_type": "code",
   "execution_count": null,
   "metadata": {},
   "outputs": [],
   "source": []
  },
  {
   "cell_type": "code",
   "execution_count": null,
   "metadata": {},
   "outputs": [],
   "source": []
  },
  {
   "cell_type": "code",
   "execution_count": null,
   "metadata": {},
   "outputs": [],
   "source": []
  },
  {
   "cell_type": "code",
   "execution_count": null,
   "metadata": {},
   "outputs": [],
   "source": []
  },
  {
   "cell_type": "markdown",
   "metadata": {},
   "source": [
    "## Salvando com o pandas"
   ]
  },
  {
   "cell_type": "code",
   "execution_count": null,
   "metadata": {},
   "outputs": [],
   "source": []
  },
  {
   "cell_type": "code",
   "execution_count": null,
   "metadata": {},
   "outputs": [],
   "source": [
    "# RAW\n",
    "# TRUSTED/PROCESSED\n",
    "# FINAL"
   ]
  },
  {
   "cell_type": "code",
   "execution_count": null,
   "metadata": {},
   "outputs": [],
   "source": []
  },
  {
   "cell_type": "markdown",
   "metadata": {},
   "source": [
    "-------------"
   ]
  },
  {
   "cell_type": "code",
   "execution_count": null,
   "metadata": {},
   "outputs": [],
   "source": [
    "import matplotlib.pyplot as plt\n",
    "\n",
    "# Generate some sample data\n",
    "\n",
    "\n",
    "# Create the main figure and axis\n",
    "\n",
    "# Plot the main graph\n",
    "\n",
    "# Specify the region to zoom in (in this case, from x=3 to x=6)\n",
    "\n",
    "# Create a zoomed-in subplot\n",
    "\n",
    "# Set labels and legends for the main graph\n",
    "\n",
    "# Set labels and legends for the zoomed-in subplot\n",
    "\n",
    "# Mark the region being zoomed in on the main graph\n",
    "\n",
    "# Show the plot\n"
   ]
  },
  {
   "cell_type": "markdown",
   "metadata": {},
   "source": [
    "# Exercicio de Sala - PANDAS - Exploração e Análise de Dados - EDA"
   ]
  },
  {
   "cell_type": "markdown",
   "metadata": {},
   "source": [
    "Nesse exercicio trabalharemos com dados fictícios de investidores.\n",
    "\n",
    "São 3 arquivos que devem ser carregados para responder as perguntas abaixo.\n",
    "\n"
   ]
  },
  {
   "cell_type": "code",
   "execution_count": null,
   "metadata": {},
   "outputs": [],
   "source": [
    "Informações\n",
    "\n",
    "Cadastro:\n",
    "- **id** : Identificação do investidor\n",
    "- **Nome** : Nome completo do investidor \n",
    "- **Sexo** : Feminino ou masculino\n",
    "- **Nasc** : Data de nascimento\n",
    "- **Idade** : Idade do investidor ou responsável\n",
    "- **Email** : E-mail do investidor ou responsável\n",
    "- **Lat_long** : Dados geográficos do investidor\n",
    "- **Job** : Profissão do investidor ou do seu responsável (em inglês)\n",
    "- **Estado** : Estado onde o investidor reside\n",
    "\n",
    "Investimento:\n",
    "- **id** : Identificação do investidor\n",
    "- **Salario** : Renda do investidor ou seu responsável\n",
    "- **Perfil** : Perfil de investimento\n",
    "- **Ativo01, Ativo02, Ativo03, Ativo04, Ativo05, Ativo06, Ativo07** : O quanto de dinheiro o investidor colocou em cada ativo\n",
    "- **Nota1, Nota2** : O quanto o investidor está satisfeito com nossa empresa (2 avaliações)\n",
    "\n",
    "Lembrando que esses dados são irreais e fictícios\n"
   ]
  },
  {
   "cell_type": "markdown",
   "metadata": {},
   "source": [
    "Pode ser feito o download e carregar localmente ou pode acessar os arquivos pelo link diretamente no pandas:\n",
    "    \n",
    "- https://raw.githubusercontent.com/renatapink/DSdegree/master/Modulo2/Mini_projeto1/cadastro.csv\n",
    "- https://raw.githubusercontent.com/renatapink/DSdegree/master/Modulo2/Mini_projeto1/investimento_parte1.csv\n",
    "- https://raw.githubusercontent.com/renatapink/DSdegree/master/Modulo2/Mini_projeto1/investimento_parte2.csv"
   ]
  },
  {
   "cell_type": "markdown",
   "metadata": {},
   "source": [
    "## 1 - Carregar os arquivos de cadastro, investimento1 e investimento2, e mostrar a quantidade de linhas de cada um, além das informações desses dataframes (por exemplo, o tipo dos dados das coluna)"
   ]
  },
  {
   "cell_type": "code",
   "execution_count": null,
   "metadata": {},
   "outputs": [],
   "source": [
    "import pandas as pd\n",
    "import datetime as dt\n",
    "pd.options.display.max_columns = 35 #para aumentar a quantidade de colunas a serem visualizadas"
   ]
  },
  {
   "cell_type": "code",
   "execution_count": null,
   "metadata": {},
   "outputs": [],
   "source": []
  },
  {
   "cell_type": "code",
   "execution_count": null,
   "metadata": {},
   "outputs": [],
   "source": []
  },
  {
   "cell_type": "code",
   "execution_count": null,
   "metadata": {},
   "outputs": [],
   "source": []
  },
  {
   "cell_type": "code",
   "execution_count": null,
   "metadata": {},
   "outputs": [],
   "source": []
  },
  {
   "cell_type": "code",
   "execution_count": null,
   "metadata": {},
   "outputs": [],
   "source": []
  },
  {
   "cell_type": "code",
   "execution_count": null,
   "metadata": {},
   "outputs": [],
   "source": []
  },
  {
   "cell_type": "code",
   "execution_count": null,
   "metadata": {},
   "outputs": [],
   "source": []
  },
  {
   "cell_type": "markdown",
   "metadata": {},
   "source": [
    "## 2 - Juntar os dataframes de investimento1 e investimento2 em um só e ver a quantidade de linhas"
   ]
  },
  {
   "cell_type": "markdown",
   "metadata": {},
   "source": [
    "Criar um novo dataframe  \n",
    "Dica: https://pandas.pydata.org/pandas-docs/stable/user_guide/merging.html"
   ]
  },
  {
   "cell_type": "code",
   "execution_count": null,
   "metadata": {},
   "outputs": [],
   "source": []
  },
  {
   "cell_type": "code",
   "execution_count": null,
   "metadata": {},
   "outputs": [],
   "source": []
  },
  {
   "cell_type": "markdown",
   "metadata": {},
   "source": [
    "## 3 - Crie um novo dataframe eliminando as linhas duplicadas do item anterior"
   ]
  },
  {
   "cell_type": "code",
   "execution_count": null,
   "metadata": {},
   "outputs": [],
   "source": []
  },
  {
   "cell_type": "code",
   "execution_count": null,
   "metadata": {},
   "outputs": [],
   "source": []
  },
  {
   "cell_type": "code",
   "execution_count": null,
   "metadata": {},
   "outputs": [],
   "source": []
  },
  {
   "cell_type": "markdown",
   "metadata": {},
   "source": [
    "## 4 - Junte o dataframe de investimento com o de cadastro, criando um novo dataframe\n",
    "Dica: use a coluna id como chave para juntar os dois dataframes"
   ]
  },
  {
   "cell_type": "code",
   "execution_count": null,
   "metadata": {},
   "outputs": [],
   "source": []
  },
  {
   "cell_type": "code",
   "execution_count": null,
   "metadata": {},
   "outputs": [],
   "source": []
  },
  {
   "cell_type": "code",
   "execution_count": null,
   "metadata": {},
   "outputs": [],
   "source": []
  },
  {
   "cell_type": "code",
   "execution_count": null,
   "metadata": {},
   "outputs": [],
   "source": []
  },
  {
   "cell_type": "markdown",
   "metadata": {},
   "source": [
    "## 5 - Ordene o dataframe pelo id, de forma crescente e redefina o índice"
   ]
  },
  {
   "cell_type": "code",
   "execution_count": null,
   "metadata": {},
   "outputs": [],
   "source": []
  },
  {
   "cell_type": "markdown",
   "metadata": {},
   "source": [
    "## 6 - Faça uma análise dos dados faltantes e trate-os\n",
    "\n",
    "Mostre todas as colunas com dados faltantes, sua quantidade/porcentagem e como tratar (preencher) cada uma delas explicando sua estratégia"
   ]
  },
  {
   "cell_type": "markdown",
   "metadata": {},
   "source": [
    "## 7 - Manipule os dados a seguir:\n",
    "- Criar coluna \"Total\" somando o valor de todos os ativos por investidor\n",
    "- Criar coluna \"Media\" com a média das notas 1 e 2\n",
    "- Criar coluna \"Dominio\" com apenas o domínio do email (dica: separar por @)\n",
    "- Mudar o nome da coluna \"Salário\" para \"Renda\" e tratar a coluna (sem caracter $ e tipo numérica)\n",
    "- Mudar os dados da coluna \"Sexo\" para Masculino e Feminino (tente usar a função map)\n",
    "- Transformar os dados da coluna Media em inteiro\n",
    "- Criar coluna \"NPS\" onde o investidor é classificado como promotor se a média das notas é maior ou igual a 80, como neutro se a média estiver entre 50 e 80, e como detrator se for abaixo de 50\n"
   ]
  },
  {
   "cell_type": "code",
   "execution_count": null,
   "metadata": {},
   "outputs": [],
   "source": []
  },
  {
   "cell_type": "markdown",
   "metadata": {},
   "source": [
    "## 8 - Calcule os seguintes dados\n",
    "- Calcule o total investido em cada coluna Ativo (tente usar o apply)\n",
    "- Qual o menor valor investido em cada ativo?\n",
    "- Mostre a média e desvio padrão de cada ativo\n",
    "- Qual o nome e a idade do investidor mais velho?\n",
    "- Qual a mediana da coluna Média?"
   ]
  },
  {
   "cell_type": "markdown",
   "metadata": {},
   "source": [
    "## 9 - Responder as perguntas abaixo\n",
    "\n",
    "- Quantos investidores são agressivos, moderados e conservadores?\n",
    "- Mostre os 10 primeiros ids dos investidores de perfil Agressivo e Moderado.\n",
    "- Quantos investidores são do sexo feminino?\n",
    "- Quantos investidores investiram mais de 16000 no Ativo04?\n",
    "- Quantos investidores investiram mais de 16000 no Ativo04 e menos de 5000 no Ativo05?\n",
    "- Quais investidores do sexo feminino tem mais de 25 anos e seu investimento total foi menor que 10000? \n",
    "\n",
    "\n",
    "- Quantos investidores tem em cada estado (dica: use groupby)\n",
    "- Qual é a soma do total investido por cada estado?\n",
    "- Qual é a média do total investido por promotores, detratores e neutros? E como se dividem nos estados\n",
    "- Crie 3 colunas \"dummies\" do perfil dos investidores\n",
    "\n",
    "\n",
    "- Crie uma tabela com total de investimentos de promotores, detratores e neutros em função do perfil. (dica: use pivot_table)\n",
    "\n"
   ]
  },
  {
   "cell_type": "markdown",
   "metadata": {},
   "source": [
    "## Bonus - Leitura de Arquivos Grandes"
   ]
  },
  {
   "cell_type": "code",
   "execution_count": null,
   "metadata": {},
   "outputs": [],
   "source": []
  },
  {
   "cell_type": "code",
   "execution_count": null,
   "metadata": {},
   "outputs": [],
   "source": []
  }
 ],
 "metadata": {
  "kernelspec": {
   "display_name": "Python 3",
   "language": "python",
   "name": "python3"
  },
  "language_info": {
   "codemirror_mode": {
    "name": "ipython",
    "version": 3
   },
   "file_extension": ".py",
   "mimetype": "text/x-python",
   "name": "python",
   "nbconvert_exporter": "python",
   "pygments_lexer": "ipython3",
   "version": "3.11.9"
  }
 },
 "nbformat": 4,
 "nbformat_minor": 2
}
