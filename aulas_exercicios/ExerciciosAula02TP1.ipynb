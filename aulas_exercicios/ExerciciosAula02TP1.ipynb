{
  "nbformat": 4,
  "nbformat_minor": 0,
  "metadata": {
    "colab": {
      "provenance": []
    },
    "kernelspec": {
      "name": "python3",
      "display_name": "Python 3"
    },
    "language_info": {
      "name": "python"
    }
  },
  "cells": [
    {
      "cell_type": "code",
      "source": [
        "import numpy as np"
      ],
      "metadata": {
        "id": "0PaZEEXvt55p"
      },
      "execution_count": null,
      "outputs": []
    },
    {
      "cell_type": "markdown",
      "source": [
        "\n",
        "### Exercicios:\n",
        "1. De acordo com o array X = np.array([3, 5, 6, 7, 2, 3, 4, 9, 4])\n",
        "faça a soma\n",
        "2. Faça a média\n",
        "3. Dada a matriz faça a soma das colunas X = np.array([\n",
        "    [1,   2,  3,  4],\n",
        "    [5,   6,  7,  8],\n",
        "    [9,  10, 11, 12],\n",
        "    [13, 14, 15, 16]\n",
        "])\n",
        "4. Faça a média das linhas\n",
        "5. Dado o array X = np.array([1, 2, 0, 4, 5, 6, 0, 0, 9, 10])\n",
        "Mostre o elemento de maior valor\n",
        "\n"
      ],
      "metadata": {
        "id": "ClpcJ80EtlmU"
      }
    },
    {
      "cell_type": "code",
      "execution_count": null,
      "metadata": {
        "colab": {
          "base_uri": "https://localhost:8080/"
        },
        "id": "eM53JyOJtZej",
        "outputId": "1d791124-75dd-4c39-e79d-4fbf09ad06c9"
      },
      "outputs": [
        {
          "output_type": "execute_result",
          "data": {
            "text/plain": [
              "array([3, 5, 6, 7, 2, 3, 4, 9, 4])"
            ]
          },
          "metadata": {},
          "execution_count": 3
        }
      ],
      "source": [
        "X = np.array([3, 5, 6, 7, 2, 3, 4, 9, 4])\n",
        "X"
      ]
    },
    {
      "cell_type": "code",
      "source": [
        "#1\n",
        "np.sum(X)"
      ],
      "metadata": {
        "colab": {
          "base_uri": "https://localhost:8080/"
        },
        "id": "IfQxzP89t1xQ",
        "outputId": "ad2dd082-fdc4-4c2f-c0e9-94e0343fb72d"
      },
      "execution_count": null,
      "outputs": [
        {
          "output_type": "execute_result",
          "data": {
            "text/plain": [
              "136"
            ]
          },
          "metadata": {},
          "execution_count": 21
        }
      ]
    },
    {
      "cell_type": "code",
      "source": [
        "#2\n",
        "np.mean(X)"
      ],
      "metadata": {
        "colab": {
          "base_uri": "https://localhost:8080/"
        },
        "id": "1sXHGOawtrew",
        "outputId": "23f7dce1-3ba7-421c-e056-458a6a84ef0f"
      },
      "execution_count": null,
      "outputs": [
        {
          "output_type": "execute_result",
          "data": {
            "text/plain": [
              "8.5"
            ]
          },
          "metadata": {},
          "execution_count": 22
        }
      ]
    },
    {
      "cell_type": "code",
      "source": [
        "X = np.array([ [1, 2, 3, 4], [5, 6, 7, 8], [9, 10, 11, 12], [13, 14, 15, 16] ])\n",
        "X"
      ],
      "metadata": {
        "colab": {
          "base_uri": "https://localhost:8080/"
        },
        "id": "n_4QzAD7trhB",
        "outputId": "1a515935-a50d-4e48-ccd1-6575d2d34d59"
      },
      "execution_count": null,
      "outputs": [
        {
          "output_type": "execute_result",
          "data": {
            "text/plain": [
              "array([[ 1,  2,  3,  4],\n",
              "       [ 5,  6,  7,  8],\n",
              "       [ 9, 10, 11, 12],\n",
              "       [13, 14, 15, 16]])"
            ]
          },
          "metadata": {},
          "execution_count": 8
        }
      ]
    },
    {
      "cell_type": "code",
      "source": [
        "#3 sem utilizar sum() and axis\n",
        "c1 = np.sum(X[::,[0]])\n",
        "c2 = np.sum(X[::,[1]])\n",
        "c3 = np.sum(X[::,[2]])\n",
        "c4 = np.sum(X[::,[3]])\n",
        "print(c1,c2,c3,c4)"
      ],
      "metadata": {
        "colab": {
          "base_uri": "https://localhost:8080/"
        },
        "id": "-ODwscGjwnd8",
        "outputId": "a75f261d-cd6c-4875-a52e-60528e0fe7bb"
      },
      "execution_count": null,
      "outputs": [
        {
          "output_type": "stream",
          "name": "stdout",
          "text": [
            "28 32 36 40\n"
          ]
        }
      ]
    },
    {
      "cell_type": "code",
      "source": [
        "#3 axis=0, a operação ao longo das linhas, resultando na soma para cada coluna.\n",
        "np.sum(X, axis=0)"
      ],
      "metadata": {
        "colab": {
          "base_uri": "https://localhost:8080/"
        },
        "id": "QTiSWx-l2Hep",
        "outputId": "bd5fded3-aeb2-441e-c044-7570db392bf2"
      },
      "execution_count": null,
      "outputs": [
        {
          "output_type": "execute_result",
          "data": {
            "text/plain": [
              "array([28, 32, 36, 40])"
            ]
          },
          "metadata": {},
          "execution_count": 39
        }
      ]
    },
    {
      "cell_type": "code",
      "source": [
        "#4 sem utilizar mean() and axis\n",
        "l1 = np.mean(X[[0],::])\n",
        "l2 = np.mean(X[[1],::])\n",
        "l3 = np.mean(X[[2],::])\n",
        "l4 = np.mean(X[[3],::])\n",
        "print(l1,l2,l3,l4)"
      ],
      "metadata": {
        "colab": {
          "base_uri": "https://localhost:8080/"
        },
        "id": "aS52OgyrtrmP",
        "outputId": "f2f9e6ca-39aa-41e6-ad25-7df3a0763dfb"
      },
      "execution_count": null,
      "outputs": [
        {
          "output_type": "stream",
          "name": "stdout",
          "text": [
            "2.5 6.5 10.5 14.5\n"
          ]
        }
      ]
    },
    {
      "cell_type": "code",
      "source": [
        "#4 axis=1 significa que a operação será feita ao longo das colunas, resultando na média para cada linha.\n",
        "np.mean(X, axis=1)"
      ],
      "metadata": {
        "colab": {
          "base_uri": "https://localhost:8080/"
        },
        "id": "mdTiS6K1troR",
        "outputId": "f829d1c4-d73d-43f5-eee7-6ccbafb0564c"
      },
      "execution_count": null,
      "outputs": [
        {
          "output_type": "execute_result",
          "data": {
            "text/plain": [
              "array([ 2.5,  6.5, 10.5, 14.5])"
            ]
          },
          "metadata": {},
          "execution_count": 40
        }
      ]
    },
    {
      "cell_type": "code",
      "source": [
        "#5\n",
        "X = np.array([1, 2, 0, 4, 5, 6, 0, 0, 9, 10])\n",
        "np.max(X)"
      ],
      "metadata": {
        "colab": {
          "base_uri": "https://localhost:8080/"
        },
        "id": "qfcz04DWtrrw",
        "outputId": "3b0284af-85a8-460b-d36f-ef513fe4f9c0"
      },
      "execution_count": null,
      "outputs": [
        {
          "output_type": "execute_result",
          "data": {
            "text/plain": [
              "10"
            ]
          },
          "metadata": {},
          "execution_count": 43
        }
      ]
    }
  ]
}