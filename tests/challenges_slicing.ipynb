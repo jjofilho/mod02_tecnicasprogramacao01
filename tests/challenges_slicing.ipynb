{
  "nbformat": 4,
  "nbformat_minor": 0,
  "metadata": {
    "colab": {
      "provenance": []
    },
    "kernelspec": {
      "name": "python3",
      "display_name": "Python 3"
    },
    "language_info": {
      "name": "python"
    }
  },
  "cells": [
    {
      "cell_type": "code",
      "source": [
        "import numpy as np"
      ],
      "metadata": {
        "id": "_LWHzHdHYNkX"
      },
      "execution_count": 1,
      "outputs": []
    },
    {
      "cell_type": "markdown",
      "source": [
        "#Nível Fácil\n",
        "\n",
        "Exercício 1: Dado o array Y = np.array([10, 20, 30, 40, 50, 60]), extraia os últimos 3 elementos.\n",
        "\n",
        "Exercício 2: Dado o array Z = np.array([100, 200, 300, 400, 500]), selecione o segundo e o quarto elemento.\n",
        "\n",
        "Exercício 3: Dado o array W = np.array(['x', 'y', 'z', 'a', 'b', 'c']), inverta a ordem dos elementos, e depois selecione apenas os elementos nas posições pares."
      ],
      "metadata": {
        "id": "jd4ZKqhCX0e9"
      }
    },
    {
      "cell_type": "code",
      "source": [
        "Y = np.array([10, 20, 30, 40, 50, 60])\n",
        "Y[-3:]"
      ],
      "metadata": {
        "colab": {
          "base_uri": "https://localhost:8080/"
        },
        "id": "4OVdXXftYEV5",
        "outputId": "ab49e6db-1669-408e-92c5-8155fcef7184"
      },
      "execution_count": null,
      "outputs": [
        {
          "output_type": "execute_result",
          "data": {
            "text/plain": [
              "array([40, 50, 60])"
            ]
          },
          "metadata": {},
          "execution_count": 5
        }
      ]
    },
    {
      "cell_type": "code",
      "source": [
        "Z = np.array([100, 200, 300, 400, 500])\n",
        "Z[1::2]"
      ],
      "metadata": {
        "colab": {
          "base_uri": "https://localhost:8080/"
        },
        "id": "06O2LTryYjSF",
        "outputId": "84b9cecd-43e7-4705-9313-4be1a346d5ee"
      },
      "execution_count": null,
      "outputs": [
        {
          "output_type": "execute_result",
          "data": {
            "text/plain": [
              "array([200, 400])"
            ]
          },
          "metadata": {},
          "execution_count": 49
        }
      ]
    },
    {
      "cell_type": "code",
      "source": [
        "Z[[1,3]]"
      ],
      "metadata": {
        "colab": {
          "base_uri": "https://localhost:8080/"
        },
        "id": "REEgqrWidPtM",
        "outputId": "aa2f8c23-f10f-4fc0-f5e6-f621ac1b2a23"
      },
      "execution_count": null,
      "outputs": [
        {
          "output_type": "execute_result",
          "data": {
            "text/plain": [
              "array([200, 400])"
            ]
          },
          "metadata": {},
          "execution_count": 65
        }
      ]
    },
    {
      "cell_type": "code",
      "source": [
        "W = np.array(['x', 'y', 'z', 'a', 'b', 'c'])\n",
        "W"
      ],
      "metadata": {
        "colab": {
          "base_uri": "https://localhost:8080/"
        },
        "id": "iEbh6dsrbIRm",
        "outputId": "0e6c0f3e-a2ca-489f-df96-3799bf7f23d1"
      },
      "execution_count": 38,
      "outputs": [
        {
          "output_type": "execute_result",
          "data": {
            "text/plain": [
              "array(['x', 'y', 'z', 'a', 'b', 'c'], dtype='<U1')"
            ]
          },
          "metadata": {},
          "execution_count": 38
        }
      ]
    },
    {
      "cell_type": "code",
      "source": [
        "W[::-1][::2]"
      ],
      "metadata": {
        "colab": {
          "base_uri": "https://localhost:8080/"
        },
        "id": "gbcsZckxLwcm",
        "outputId": "d9ccfc4e-f87b-40e0-d798-f9121c366414"
      },
      "execution_count": 39,
      "outputs": [
        {
          "output_type": "execute_result",
          "data": {
            "text/plain": [
              "array(['c', 'a', 'y'], dtype='<U1')"
            ]
          },
          "metadata": {},
          "execution_count": 39
        }
      ]
    },
    {
      "cell_type": "code",
      "source": [
        "W[[0,2,4]]"
      ],
      "metadata": {
        "colab": {
          "base_uri": "https://localhost:8080/"
        },
        "id": "WbsMF0B1d2d6",
        "outputId": "ccf3f9b3-9227-40df-b7cc-a717d8bdb318"
      },
      "execution_count": null,
      "outputs": [
        {
          "output_type": "execute_result",
          "data": {
            "text/plain": [
              "array(['c', 'a', 'y'], dtype='<U1')"
            ]
          },
          "metadata": {},
          "execution_count": 73
        }
      ]
    },
    {
      "cell_type": "markdown",
      "source": [
        "#Nível Intermediário\n",
        "\n",
        "Exercício 4: Dada a matriz M = np.array([[1, 2, 3], [4, 5, 6], [7, 8, 9]]), selecione a segunda coluna.\n",
        "\n",
        "Exercício 5: Dada a matriz N = np.array([[10, 20, 30, 40], [50, 60, 70, 80], [90, 100, 110, 120]]), selecione a última linha.\n",
        "\n",
        "Exercício 6: Dada a matriz P = np.array([[1, 2, 3, 4, 5], [6, 7, 8, 9, 10], [11, 12, 13, 14, 15]]), selecione o bloco 2x2 que começa na posição (1, 2)."
      ],
      "metadata": {
        "id": "55Ikqv_JeqM_"
      }
    },
    {
      "cell_type": "code",
      "source": [
        "M = np.array([[1, 2, 3], [4, 5, 6], [7, 8, 9]])\n",
        "M"
      ],
      "metadata": {
        "colab": {
          "base_uri": "https://localhost:8080/"
        },
        "id": "tqzvr0wZeeuf",
        "outputId": "3f11b6c6-19af-4819-e44d-e19d6551cd46"
      },
      "execution_count": null,
      "outputs": [
        {
          "output_type": "execute_result",
          "data": {
            "text/plain": [
              "array([[1, 2, 3],\n",
              "       [4, 5, 6],\n",
              "       [7, 8, 9]])"
            ]
          },
          "metadata": {},
          "execution_count": 76
        }
      ]
    },
    {
      "cell_type": "code",
      "source": [
        "M[:, 1]"
      ],
      "metadata": {
        "colab": {
          "base_uri": "https://localhost:8080/"
        },
        "id": "CBExjfMZefAH",
        "outputId": "bbbdb327-632f-4260-d678-3f8fabbe2743"
      },
      "execution_count": null,
      "outputs": [
        {
          "output_type": "execute_result",
          "data": {
            "text/plain": [
              "array([2, 5, 8])"
            ]
          },
          "metadata": {},
          "execution_count": 75
        }
      ]
    },
    {
      "cell_type": "code",
      "source": [
        "N = np.array([[10, 20, 30, 40], [50, 60, 70, 80], [90, 100, 110, 120]])\n",
        "N"
      ],
      "metadata": {
        "colab": {
          "base_uri": "https://localhost:8080/"
        },
        "id": "8R5Y8o_XefON",
        "outputId": "646fc8b7-91e9-4084-fa26-39c52ed8c04b"
      },
      "execution_count": null,
      "outputs": [
        {
          "output_type": "execute_result",
          "data": {
            "text/plain": [
              "array([[ 10,  20,  30,  40],\n",
              "       [ 50,  60,  70,  80],\n",
              "       [ 90, 100, 110, 120]])"
            ]
          },
          "metadata": {},
          "execution_count": 78
        }
      ]
    },
    {
      "cell_type": "code",
      "source": [
        "N[2,:]"
      ],
      "metadata": {
        "colab": {
          "base_uri": "https://localhost:8080/"
        },
        "id": "-cSHPkKCefQr",
        "outputId": "3a090477-dff0-4b98-ef4b-562e49e97c08"
      },
      "execution_count": null,
      "outputs": [
        {
          "output_type": "execute_result",
          "data": {
            "text/plain": [
              "array([ 90, 100, 110, 120])"
            ]
          },
          "metadata": {},
          "execution_count": 93
        }
      ]
    },
    {
      "cell_type": "code",
      "source": [
        "N[-1,:]"
      ],
      "metadata": {
        "colab": {
          "base_uri": "https://localhost:8080/"
        },
        "id": "IDUKlYOLiYv2",
        "outputId": "bcd42269-8b93-4657-99de-ff4f79a93fd8"
      },
      "execution_count": null,
      "outputs": [
        {
          "output_type": "execute_result",
          "data": {
            "text/plain": [
              "array([ 90, 100, 110, 120])"
            ]
          },
          "metadata": {},
          "execution_count": 94
        }
      ]
    },
    {
      "cell_type": "code",
      "source": [
        "P = np.array([[1, 2, 3, 4, 5], [6, 7, 8, 9, 10], [11, 12, 13, 14, 15]])\n",
        "P"
      ],
      "metadata": {
        "colab": {
          "base_uri": "https://localhost:8080/"
        },
        "id": "JxqNUgceefTB",
        "outputId": "36eedf49-b540-425c-a88e-fe83d31b2ce1"
      },
      "execution_count": null,
      "outputs": [
        {
          "output_type": "execute_result",
          "data": {
            "text/plain": [
              "array([[ 1,  2,  3,  4,  5],\n",
              "       [ 6,  7,  8,  9, 10],\n",
              "       [11, 12, 13, 14, 15]])"
            ]
          },
          "metadata": {},
          "execution_count": 89
        }
      ]
    },
    {
      "cell_type": "code",
      "source": [
        "P[1:3,2:4]"
      ],
      "metadata": {
        "colab": {
          "base_uri": "https://localhost:8080/"
        },
        "id": "uqr4XfmPefWT",
        "outputId": "e209a49b-e2ac-4614-be86-a55284d6cfc7"
      },
      "execution_count": null,
      "outputs": [
        {
          "output_type": "execute_result",
          "data": {
            "text/plain": [
              "array([[ 8,  9],\n",
              "       [13, 14]])"
            ]
          },
          "metadata": {},
          "execution_count": 92
        }
      ]
    },
    {
      "cell_type": "markdown",
      "source": [
        "#Nível Difícil\n",
        "\n",
        "Exercício 7: Dada a matriz Q = np.array([[10, 20, 30, 40], [50, 60, 70, 80], [90, 100, 110, 120], [130, 140, 150, 160]]), selecione todos os elementos das linhas ímpares e colunas pares.\n",
        "\n",
        "Exercício 8: Dada a matriz R = np.array([[5, 10, 15, 20, 25], [30, 35, 40, 45, 50], [55, 60, 65, 70, 75], [80, 85, 90, 95, 100]]), extraia uma submatriz 2x3 que começa na posição (2, 1).\n",
        "\n",
        "Exercício 9: Dado o array tridimensional T = np.array([[[1, 2], [3, 4]], [[5, 6], [7, 8]], [[9, 10], [11, 12]]]), selecione o segundo \"plano\" (subarray bidimensional) completo.\n",
        "\n",
        "Exercício 10: Dada a matriz U = np.array([[20, 30, 40], [50, 60, 70], [80, 90, 100]]), inverta tanto as linhas quanto as colunas."
      ],
      "metadata": {
        "id": "GoTvezvqifuA"
      }
    },
    {
      "cell_type": "code",
      "source": [
        " Q = np.array([[10, 20, 30, 40], [50, 60, 70, 80], [90, 100, 110, 120], [130, 140, 150, 160]])\n",
        " Q"
      ],
      "metadata": {
        "colab": {
          "base_uri": "https://localhost:8080/"
        },
        "id": "CYrZvFH8isQU",
        "outputId": "1924c025-2180-4af9-b02e-de8ae4f4022e"
      },
      "execution_count": null,
      "outputs": [
        {
          "output_type": "execute_result",
          "data": {
            "text/plain": [
              "array([[ 10,  20,  30,  40],\n",
              "       [ 50,  60,  70,  80],\n",
              "       [ 90, 100, 110, 120],\n",
              "       [130, 140, 150, 160]])"
            ]
          },
          "metadata": {},
          "execution_count": 95
        }
      ]
    },
    {
      "cell_type": "code",
      "source": [
        "Q[1::2,::2]"
      ],
      "metadata": {
        "colab": {
          "base_uri": "https://localhost:8080/"
        },
        "id": "YFzb-z8XizPO",
        "outputId": "220415c7-096c-45ee-c69f-6a71a4de829f"
      },
      "execution_count": null,
      "outputs": [
        {
          "output_type": "execute_result",
          "data": {
            "text/plain": [
              "array([[ 50,  70],\n",
              "       [130, 150]])"
            ]
          },
          "metadata": {},
          "execution_count": 100
        }
      ]
    },
    {
      "cell_type": "code",
      "source": [
        "R = np.array([[5, 10, 15, 20, 25], [30, 35, 40, 45, 50], [55, 60, 65, 70, 75], [80, 85, 90, 95, 100]])\n",
        "R"
      ],
      "metadata": {
        "colab": {
          "base_uri": "https://localhost:8080/"
        },
        "id": "MZFq--y9izRs",
        "outputId": "1232ccbf-f7f4-4bdc-c347-8dffa70bcccc"
      },
      "execution_count": null,
      "outputs": [
        {
          "output_type": "execute_result",
          "data": {
            "text/plain": [
              "array([[  5,  10,  15,  20,  25],\n",
              "       [ 30,  35,  40,  45,  50],\n",
              "       [ 55,  60,  65,  70,  75],\n",
              "       [ 80,  85,  90,  95, 100]])"
            ]
          },
          "metadata": {},
          "execution_count": 101
        }
      ]
    },
    {
      "cell_type": "code",
      "source": [
        "R[2:4, 1:4]"
      ],
      "metadata": {
        "colab": {
          "base_uri": "https://localhost:8080/"
        },
        "id": "1Vd7f68pizT1",
        "outputId": "932f5bed-73f9-403c-a90b-cbb34ac440f5"
      },
      "execution_count": null,
      "outputs": [
        {
          "output_type": "execute_result",
          "data": {
            "text/plain": [
              "array([[60, 65, 70],\n",
              "       [85, 90, 95]])"
            ]
          },
          "metadata": {},
          "execution_count": 115
        }
      ]
    },
    {
      "cell_type": "code",
      "source": [
        "T = np.array([[[1, 2], [3, 4]], [[5, 6], [7, 8]], [[9, 10], [11, 12]]])\n",
        "T"
      ],
      "metadata": {
        "colab": {
          "base_uri": "https://localhost:8080/"
        },
        "id": "89bSTbwxizWN",
        "outputId": "e6b6d4d2-623e-4fe3-d13e-03cd39a13e11"
      },
      "execution_count": null,
      "outputs": [
        {
          "output_type": "execute_result",
          "data": {
            "text/plain": [
              "array([[[ 1,  2],\n",
              "        [ 3,  4]],\n",
              "\n",
              "       [[ 5,  6],\n",
              "        [ 7,  8]],\n",
              "\n",
              "       [[ 9, 10],\n",
              "        [11, 12]]])"
            ]
          },
          "metadata": {},
          "execution_count": 116
        }
      ]
    },
    {
      "cell_type": "code",
      "source": [
        "T[1]"
      ],
      "metadata": {
        "colab": {
          "base_uri": "https://localhost:8080/"
        },
        "id": "Jb6wrQVYizZt",
        "outputId": "7f4c8014-af42-4475-f790-bbdac2aa1a38"
      },
      "execution_count": null,
      "outputs": [
        {
          "output_type": "execute_result",
          "data": {
            "text/plain": [
              "array([[5, 6],\n",
              "       [7, 8]])"
            ]
          },
          "metadata": {},
          "execution_count": 117
        }
      ]
    },
    {
      "cell_type": "code",
      "source": [
        "U = np.array([[20, 30, 40], [50, 60, 70], [80, 90, 100]])\n",
        "U"
      ],
      "metadata": {
        "colab": {
          "base_uri": "https://localhost:8080/"
        },
        "id": "ppviJyBDsy_k",
        "outputId": "5a21b745-b16e-4fa2-b176-7b003a9aa898"
      },
      "execution_count": null,
      "outputs": [
        {
          "output_type": "execute_result",
          "data": {
            "text/plain": [
              "array([[ 20,  30,  40],\n",
              "       [ 50,  60,  70],\n",
              "       [ 80,  90, 100]])"
            ]
          },
          "metadata": {},
          "execution_count": 118
        }
      ]
    },
    {
      "cell_type": "code",
      "source": [
        "U[::-1, ::-1]"
      ],
      "metadata": {
        "colab": {
          "base_uri": "https://localhost:8080/"
        },
        "id": "zINqMphes1p1",
        "outputId": "187a84f1-5109-4d56-fa35-04d2d9c80034"
      },
      "execution_count": null,
      "outputs": [
        {
          "output_type": "execute_result",
          "data": {
            "text/plain": [
              "array([[100,  90,  80],\n",
              "       [ 70,  60,  50],\n",
              "       [ 40,  30,  20]])"
            ]
          },
          "metadata": {},
          "execution_count": 120
        }
      ]
    },
    {
      "cell_type": "markdown",
      "source": [
        "#Nível Difícil\n",
        "\n",
        "Exercício 1:\n",
        "Dado o array A = np.array([5, 10, 15, 20, 25, 30, 35, 40, 45, 50]), selecione todos os elementos, exceto o primeiro e o último, mas na ordem inversa.\n",
        "\n",
        "Exercício 2:\n",
        "Dado o array B = np.array([[1, 2, 3, 4, 5], [6, 7, 8, 9, 10], [11, 12, 13, 14, 15], [16, 17, 18, 19, 20], [21, 22, 23, 24, 25]]), selecione a diagonal principal.\n",
        "\n",
        "Exercício 3:\n",
        "Dado o array C = np.array([[1, 3, 5], [7, 9, 11], [13, 15, 17], [19, 21, 23], [25, 27, 29]]), selecione os elementos das duas últimas linhas e das duas primeiras colunas.\n",
        "\n",
        "Exercício 4:\n",
        "Dado o array D = np.array([[[1, 2], [3, 4]], [[5, 6], [7, 8]], [[9, 10], [11, 12]], [[13, 14], [15, 16]]]), selecione todos os elementos na última \"plana\" (a última matriz bidimensional) e inverta as linhas e colunas.\n",
        "\n",
        "Exercício 5:\n",
        "Dado o array E = np.array([[10, 20, 30, 40], [50, 60, 70, 80], [90, 100, 110, 120], [130, 140, 150, 160]]), selecione o bloco 2x2 do centro da matriz.\n",
        "\n",
        "Exercício 6:\n",
        "Dado o array F = np.array([1, 2, 3, 4, 5, 6, 7, 8, 9, 10, 11, 12]), reestruture-o em uma matriz 3x4 e depois selecione a segunda coluna de cada uma das duas primeiras linhas.\n",
        "\n",
        "Exercício 7:\n",
        "Dado o array G = np.array([[100, 200, 300], [400, 500, 600], [700, 800, 900]]), selecione todos os elementos, exceto aqueles na borda da matriz.\n",
        "\n",
        "Exercício 8:\n",
        "Dado o array H = np.array([[[1, 2, 3], [4, 5, 6], [7, 8, 9]], [[10, 11, 12], [13, 14, 15], [16, 17, 18]], [[19, 20, 21], [22, 23, 24], [25, 26, 27]]]), selecione o segundo elemento de cada \"plano\" (subarray bidimensional) e inverta a ordem dos subarrays.\n",
        "\n",
        "Exercício 9:\n",
        "Dado o array I = np.array([[2, 4, 6, 8], [10, 12, 14, 16], [18, 20, 22, 24], [26, 28, 30, 32]]), selecione os elementos das duas primeiras linhas e das colunas pares.\n",
        "\n",
        "Exercício 10:\n",
        "Dado o array J = np.array([[[5, 10], [15, 20], [25, 30]], [[35, 40], [45, 50], [55, 60]], [[65, 70], [75, 80], [85, 90]]]), selecione o terceiro elemento de cada \"linha\" de cada \"plano\" e reestruture a saída em uma matriz 3x2."
      ],
      "metadata": {
        "id": "0NVQEIne1YDq"
      }
    },
    {
      "cell_type": "code",
      "source": [
        " # 1 selecione todos os elementos, exceto o primeiro e o último, mas na ordem inversa\n",
        " A = np.array([5, 10, 15, 20, 25, 30, 35, 40, 45, 50])\n",
        "A[::-1]\n",
        "A[1:-1][::-1]"
      ],
      "metadata": {
        "id": "M8xaHUuV1aLy",
        "colab": {
          "base_uri": "https://localhost:8080/"
        },
        "outputId": "0367008f-4976-40f7-e5fe-480621089740"
      },
      "execution_count": 19,
      "outputs": [
        {
          "output_type": "execute_result",
          "data": {
            "text/plain": [
              "array([45, 40, 35, 30, 25, 20, 15, 10])"
            ]
          },
          "metadata": {},
          "execution_count": 19
        }
      ]
    },
    {
      "cell_type": "code",
      "source": [
        "# 2 selecione a diagonal principal\n",
        "B = np.array([[1, 2, 3, 4, 5], [6, 7, 8, 9, 10], [11, 12, 13, 14, 15], [16, 17, 18, 19, 20], [21, 22, 23, 24, 25]])\n",
        "B"
      ],
      "metadata": {
        "id": "S4A5ZouE1aae",
        "colab": {
          "base_uri": "https://localhost:8080/"
        },
        "outputId": "dcf219d7-b992-4f6b-b988-70d57bf06023"
      },
      "execution_count": 20,
      "outputs": [
        {
          "output_type": "execute_result",
          "data": {
            "text/plain": [
              "array([[ 1,  2,  3,  4,  5],\n",
              "       [ 6,  7,  8,  9, 10],\n",
              "       [11, 12, 13, 14, 15],\n",
              "       [16, 17, 18, 19, 20],\n",
              "       [21, 22, 23, 24, 25]])"
            ]
          },
          "metadata": {},
          "execution_count": 20
        }
      ]
    },
    {
      "cell_type": "code",
      "source": [
        "np.shape(B)"
      ],
      "metadata": {
        "colab": {
          "base_uri": "https://localhost:8080/"
        },
        "id": "2KsKkJdlKgm7",
        "outputId": "7cfc05d0-5b63-4ef5-8ea5-71bfd21a1a3a"
      },
      "execution_count": 33,
      "outputs": [
        {
          "output_type": "execute_result",
          "data": {
            "text/plain": [
              "(5, 5)"
            ]
          },
          "metadata": {},
          "execution_count": 33
        }
      ]
    },
    {
      "cell_type": "code",
      "source": [
        "np.arange(B.shape[0])"
      ],
      "metadata": {
        "colab": {
          "base_uri": "https://localhost:8080/"
        },
        "id": "diSPIyRrJK_r",
        "outputId": "93dae7a2-ba1b-4dd8-ba39-68328ab82b8b"
      },
      "execution_count": 27,
      "outputs": [
        {
          "output_type": "execute_result",
          "data": {
            "text/plain": [
              "array([0, 1, 2, 3, 4])"
            ]
          },
          "metadata": {},
          "execution_count": 27
        }
      ]
    },
    {
      "cell_type": "code",
      "source": [
        "B[np.arange(B.shape[0])]"
      ],
      "metadata": {
        "colab": {
          "base_uri": "https://localhost:8080/"
        },
        "id": "kW9yQNW2JQZq",
        "outputId": "25643de3-4a80-4940-82f4-04cfd34ab869"
      },
      "execution_count": 28,
      "outputs": [
        {
          "output_type": "execute_result",
          "data": {
            "text/plain": [
              "array([[ 1,  2,  3,  4,  5],\n",
              "       [ 6,  7,  8,  9, 10],\n",
              "       [11, 12, 13, 14, 15],\n",
              "       [16, 17, 18, 19, 20],\n",
              "       [21, 22, 23, 24, 25]])"
            ]
          },
          "metadata": {},
          "execution_count": 28
        }
      ]
    },
    {
      "cell_type": "code",
      "source": [
        "B[np.arange(B.shape[0]), np.arange(B.shape[0])]"
      ],
      "metadata": {
        "id": "CdOBL8BO1act",
        "colab": {
          "base_uri": "https://localhost:8080/"
        },
        "outputId": "58d8a841-c298-4c6d-dfe3-97f7f7e8e863"
      },
      "execution_count": 26,
      "outputs": [
        {
          "output_type": "execute_result",
          "data": {
            "text/plain": [
              "array([ 1,  7, 13, 19, 25])"
            ]
          },
          "metadata": {},
          "execution_count": 26
        }
      ]
    },
    {
      "cell_type": "code",
      "source": [
        "np.diag(B)"
      ],
      "metadata": {
        "id": "FDP2zqLy1ae2",
        "colab": {
          "base_uri": "https://localhost:8080/"
        },
        "outputId": "029fa1ca-31e8-4a67-f73c-f05c87b37f80"
      },
      "execution_count": 29,
      "outputs": [
        {
          "output_type": "execute_result",
          "data": {
            "text/plain": [
              "array([ 1,  7, 13, 19, 25])"
            ]
          },
          "metadata": {},
          "execution_count": 29
        }
      ]
    },
    {
      "cell_type": "code",
      "source": [
        "# 3 selecione os elementos das duas últimas linhas e das duas primeiras colunas\n",
        "C = np.array([[1, 3, 5], [7, 9, 11], [13, 15, 17], [19, 21, 23], [25, 27, 29]])\n",
        "C"
      ],
      "metadata": {
        "id": "2TzVohmx1ahQ",
        "colab": {
          "base_uri": "https://localhost:8080/"
        },
        "outputId": "52fa4ed9-2f14-4ca5-d552-830415860382"
      },
      "execution_count": 32,
      "outputs": [
        {
          "output_type": "execute_result",
          "data": {
            "text/plain": [
              "array([[ 1,  3,  5],\n",
              "       [ 7,  9, 11],\n",
              "       [13, 15, 17],\n",
              "       [19, 21, 23],\n",
              "       [25, 27, 29]])"
            ]
          },
          "metadata": {},
          "execution_count": 32
        }
      ]
    },
    {
      "cell_type": "code",
      "source": [
        "C[-2:,:2]"
      ],
      "metadata": {
        "id": "ZFqd71V31ajY",
        "colab": {
          "base_uri": "https://localhost:8080/"
        },
        "outputId": "a7ceced1-508e-4cac-9f56-563c36168643"
      },
      "execution_count": 36,
      "outputs": [
        {
          "output_type": "execute_result",
          "data": {
            "text/plain": [
              "array([[19, 21],\n",
              "       [25, 27]])"
            ]
          },
          "metadata": {},
          "execution_count": 36
        }
      ]
    },
    {
      "cell_type": "code",
      "source": [
        "# 4 selecione todos os elementos na última \"plana\" (a última matriz bidimensional) e inverta as linhas e colunas\n",
        "D = np.array([[[1, 2], [3, 4]], [[5, 6], [7, 8]], [[9, 10], [11, 12]], [[13, 14], [15, 16]]])\n",
        "D"
      ],
      "metadata": {
        "id": "gD1wMRzM1am2",
        "colab": {
          "base_uri": "https://localhost:8080/"
        },
        "outputId": "c77f74ac-666d-43b3-c9e3-eb499dc4efec"
      },
      "execution_count": 40,
      "outputs": [
        {
          "output_type": "execute_result",
          "data": {
            "text/plain": [
              "array([[[ 1,  2],\n",
              "        [ 3,  4]],\n",
              "\n",
              "       [[ 5,  6],\n",
              "        [ 7,  8]],\n",
              "\n",
              "       [[ 9, 10],\n",
              "        [11, 12]],\n",
              "\n",
              "       [[13, 14],\n",
              "        [15, 16]]])"
            ]
          },
          "metadata": {},
          "execution_count": 40
        }
      ]
    },
    {
      "cell_type": "code",
      "source": [
        "D[-1:]"
      ],
      "metadata": {
        "id": "iZrZEXa81bcc",
        "colab": {
          "base_uri": "https://localhost:8080/"
        },
        "outputId": "528ed5fe-7e74-4ac3-f35b-ba28716a6ac3"
      },
      "execution_count": 41,
      "outputs": [
        {
          "output_type": "execute_result",
          "data": {
            "text/plain": [
              "array([[[13, 14],\n",
              "        [15, 16]]])"
            ]
          },
          "metadata": {},
          "execution_count": 41
        }
      ]
    },
    {
      "cell_type": "code",
      "source": [
        "D[-1:, ::-1, ::-1]"
      ],
      "metadata": {
        "id": "IvvanCEZ1bfC",
        "colab": {
          "base_uri": "https://localhost:8080/"
        },
        "outputId": "71018d34-a980-41db-fe8f-f631ad0655e3"
      },
      "execution_count": 42,
      "outputs": [
        {
          "output_type": "execute_result",
          "data": {
            "text/plain": [
              "array([[[16, 15],\n",
              "        [14, 13]]])"
            ]
          },
          "metadata": {},
          "execution_count": 42
        }
      ]
    },
    {
      "cell_type": "code",
      "source": [
        "# 5 selecione o bloco 2x2 do centro da matriz\n",
        "E = np.array([[10, 20, 30, 40], [50, 60, 70, 80], [90, 100, 110, 120], [130, 140, 150, 160]])\n",
        "E"
      ],
      "metadata": {
        "id": "ZnPss2-_1bhL",
        "colab": {
          "base_uri": "https://localhost:8080/"
        },
        "outputId": "0e65c13c-3535-4b9c-9ac8-4d203aa64476"
      },
      "execution_count": 43,
      "outputs": [
        {
          "output_type": "execute_result",
          "data": {
            "text/plain": [
              "array([[ 10,  20,  30,  40],\n",
              "       [ 50,  60,  70,  80],\n",
              "       [ 90, 100, 110, 120],\n",
              "       [130, 140, 150, 160]])"
            ]
          },
          "metadata": {},
          "execution_count": 43
        }
      ]
    },
    {
      "cell_type": "code",
      "source": [
        "E[1:3,1:3]"
      ],
      "metadata": {
        "colab": {
          "base_uri": "https://localhost:8080/"
        },
        "id": "DmxB7gn6MxwN",
        "outputId": "e6492aac-7198-47a6-c18c-b7638b720f2c"
      },
      "execution_count": 45,
      "outputs": [
        {
          "output_type": "execute_result",
          "data": {
            "text/plain": [
              "array([[ 60,  70],\n",
              "       [100, 110]])"
            ]
          },
          "metadata": {},
          "execution_count": 45
        }
      ]
    },
    {
      "cell_type": "code",
      "source": [
        "# 6 reestruture-o em uma matriz 3x4 e depois selecione a segunda coluna de cada uma das duas primeiras linhas\n",
        "F = np.array([1, 2, 3, 4, 5, 6, 7, 8, 9, 10, 11, 12])\n",
        "F"
      ],
      "metadata": {
        "colab": {
          "base_uri": "https://localhost:8080/"
        },
        "id": "zyMZDJQVMxy3",
        "outputId": "ef6644a5-d914-4020-ca8b-b34db48f6d2d"
      },
      "execution_count": 48,
      "outputs": [
        {
          "output_type": "execute_result",
          "data": {
            "text/plain": [
              "array([ 1,  2,  3,  4,  5,  6,  7,  8,  9, 10, 11, 12])"
            ]
          },
          "metadata": {},
          "execution_count": 48
        }
      ]
    },
    {
      "cell_type": "code",
      "source": [
        "F2 = F.reshape(3,4)\n",
        "F2"
      ],
      "metadata": {
        "colab": {
          "base_uri": "https://localhost:8080/"
        },
        "id": "TAFiJis8Mx1a",
        "outputId": "a4da16c2-8ab1-4f14-d1f0-310c977495ca"
      },
      "execution_count": 51,
      "outputs": [
        {
          "output_type": "execute_result",
          "data": {
            "text/plain": [
              "array([[ 1,  2,  3,  4],\n",
              "       [ 5,  6,  7,  8],\n",
              "       [ 9, 10, 11, 12]])"
            ]
          },
          "metadata": {},
          "execution_count": 51
        }
      ]
    },
    {
      "cell_type": "code",
      "source": [
        "F2[:2,1]"
      ],
      "metadata": {
        "colab": {
          "base_uri": "https://localhost:8080/"
        },
        "id": "lTVjdBBKMx3i",
        "outputId": "7e480dda-ad80-4b50-ef92-d28de7afb6a3"
      },
      "execution_count": 55,
      "outputs": [
        {
          "output_type": "execute_result",
          "data": {
            "text/plain": [
              "array([2, 6])"
            ]
          },
          "metadata": {},
          "execution_count": 55
        }
      ]
    },
    {
      "cell_type": "code",
      "source": [
        "# 7 selecione todos os elementos, exceto aqueles na borda da matriz\n",
        "G = np.array([[100, 200, 300], [400, 500, 600], [700, 800, 900]])\n",
        "G"
      ],
      "metadata": {
        "colab": {
          "base_uri": "https://localhost:8080/"
        },
        "id": "IhC0jNt3Mx7E",
        "outputId": "c59af6a4-a4f4-4371-cedd-8dffdd1bab0b"
      },
      "execution_count": 56,
      "outputs": [
        {
          "output_type": "execute_result",
          "data": {
            "text/plain": [
              "array([[100, 200, 300],\n",
              "       [400, 500, 600],\n",
              "       [700, 800, 900]])"
            ]
          },
          "metadata": {},
          "execution_count": 56
        }
      ]
    },
    {
      "cell_type": "code",
      "source": [
        "G[1,1]"
      ],
      "metadata": {
        "id": "NZw9nqZD1bjK",
        "colab": {
          "base_uri": "https://localhost:8080/"
        },
        "outputId": "21c01467-2759-4b95-e327-fe845c7437ea"
      },
      "execution_count": 57,
      "outputs": [
        {
          "output_type": "execute_result",
          "data": {
            "text/plain": [
              "500"
            ]
          },
          "metadata": {},
          "execution_count": 57
        }
      ]
    },
    {
      "cell_type": "code",
      "source": [
        "G[1:2,1:2]"
      ],
      "metadata": {
        "id": "YdsioEli1bmh",
        "colab": {
          "base_uri": "https://localhost:8080/"
        },
        "outputId": "49b5507c-7290-404d-ebd4-04f4c4c0b84f"
      },
      "execution_count": 60,
      "outputs": [
        {
          "output_type": "execute_result",
          "data": {
            "text/plain": [
              "array([[500]])"
            ]
          },
          "metadata": {},
          "execution_count": 60
        }
      ]
    },
    {
      "cell_type": "code",
      "source": [
        "# 8 selecione o segundo elemento de cada \"plano\" (subarray bidimensional) e inverta a ordem dos subarrays\n",
        "H = np.array([[[1, 2, 3], [4, 5, 6], [7, 8, 9]], [[10, 11, 12], [13, 14, 15], [16, 17, 18]], [[19, 20, 21], [22, 23, 24], [25, 26, 27]]])\n",
        "H"
      ],
      "metadata": {
        "colab": {
          "base_uri": "https://localhost:8080/"
        },
        "id": "6Vm-gWqkQDBE",
        "outputId": "8f526b01-4fa9-4ffb-ba08-f1da0feb2c48"
      },
      "execution_count": 61,
      "outputs": [
        {
          "output_type": "execute_result",
          "data": {
            "text/plain": [
              "array([[[ 1,  2,  3],\n",
              "        [ 4,  5,  6],\n",
              "        [ 7,  8,  9]],\n",
              "\n",
              "       [[10, 11, 12],\n",
              "        [13, 14, 15],\n",
              "        [16, 17, 18]],\n",
              "\n",
              "       [[19, 20, 21],\n",
              "        [22, 23, 24],\n",
              "        [25, 26, 27]]])"
            ]
          },
          "metadata": {},
          "execution_count": 61
        }
      ]
    },
    {
      "cell_type": "code",
      "source": [
        "H[:,:,1]"
      ],
      "metadata": {
        "colab": {
          "base_uri": "https://localhost:8080/"
        },
        "id": "eTlW6-SAQDG7",
        "outputId": "dec6048f-c689-4c90-932d-01c3799b94e2"
      },
      "execution_count": 63,
      "outputs": [
        {
          "output_type": "execute_result",
          "data": {
            "text/plain": [
              "array([[ 2,  5,  8],\n",
              "       [11, 14, 17],\n",
              "       [20, 23, 26]])"
            ]
          },
          "metadata": {},
          "execution_count": 63
        }
      ]
    },
    {
      "cell_type": "code",
      "source": [
        "H[:,:,1][::-1]"
      ],
      "metadata": {
        "colab": {
          "base_uri": "https://localhost:8080/"
        },
        "id": "vZFr6FgtQDJX",
        "outputId": "084a7350-680b-4191-e67b-128e90ae36c4"
      },
      "execution_count": 64,
      "outputs": [
        {
          "output_type": "execute_result",
          "data": {
            "text/plain": [
              "array([[20, 23, 26],\n",
              "       [11, 14, 17],\n",
              "       [ 2,  5,  8]])"
            ]
          },
          "metadata": {},
          "execution_count": 64
        }
      ]
    },
    {
      "cell_type": "code",
      "source": [
        "# 9 selecione os elementos das duas primeiras linhas e das colunas pares\n",
        "I = np.array([[2, 4, 6, 8], [10, 12, 14, 16], [18, 20, 22, 24], [26, 28, 30, 32]])\n",
        "I"
      ],
      "metadata": {
        "colab": {
          "base_uri": "https://localhost:8080/"
        },
        "id": "SQXRkXaZQDLn",
        "outputId": "48d004c3-f3cf-4169-e82e-74b2f516e027"
      },
      "execution_count": 65,
      "outputs": [
        {
          "output_type": "execute_result",
          "data": {
            "text/plain": [
              "array([[ 2,  4,  6,  8],\n",
              "       [10, 12, 14, 16],\n",
              "       [18, 20, 22, 24],\n",
              "       [26, 28, 30, 32]])"
            ]
          },
          "metadata": {},
          "execution_count": 65
        }
      ]
    },
    {
      "cell_type": "code",
      "source": [
        "I[:2]"
      ],
      "metadata": {
        "colab": {
          "base_uri": "https://localhost:8080/"
        },
        "id": "PEYnPiOUQDNt",
        "outputId": "09e3afd2-f6a2-43b6-83ce-89a440cae737"
      },
      "execution_count": 75,
      "outputs": [
        {
          "output_type": "execute_result",
          "data": {
            "text/plain": [
              "array([[ 2,  4,  6,  8],\n",
              "       [10, 12, 14, 16]])"
            ]
          },
          "metadata": {},
          "execution_count": 75
        }
      ]
    },
    {
      "cell_type": "code",
      "source": [
        "I[0, 1::2]"
      ],
      "metadata": {
        "colab": {
          "base_uri": "https://localhost:8080/"
        },
        "id": "lhCtdcbgQDRH",
        "outputId": "07d474d4-bae2-4b78-9ae3-35d8037312da"
      },
      "execution_count": 76,
      "outputs": [
        {
          "output_type": "execute_result",
          "data": {
            "text/plain": [
              "array([4, 8])"
            ]
          },
          "metadata": {},
          "execution_count": 76
        }
      ]
    },
    {
      "cell_type": "code",
      "source": [
        "I[:2, ::2]"
      ],
      "metadata": {
        "colab": {
          "base_uri": "https://localhost:8080/"
        },
        "id": "PHv_5zS-UAmk",
        "outputId": "6dd12042-5c39-418e-8ac4-11faa1a7369b"
      },
      "execution_count": 79,
      "outputs": [
        {
          "output_type": "execute_result",
          "data": {
            "text/plain": [
              "array([[ 2,  6],\n",
              "       [10, 14]])"
            ]
          },
          "metadata": {},
          "execution_count": 79
        }
      ]
    },
    {
      "cell_type": "code",
      "source": [
        "# 10 selecione o terceiro elemento de cada \"linha\" de cada \"plano\" e reestruture a saída em uma matriz 3x2.\n",
        "J = np.array([[[5, 10], [15, 20], [25, 30]], [[35, 40], [45, 50], [55, 60]], [[65, 70], [75, 80], [85, 90]]])\n",
        "J"
      ],
      "metadata": {
        "colab": {
          "base_uri": "https://localhost:8080/"
        },
        "id": "bwhhAlB6UTgF",
        "outputId": "ff64d26e-f0e0-4091-bc64-1d45ae16828d"
      },
      "execution_count": 80,
      "outputs": [
        {
          "output_type": "execute_result",
          "data": {
            "text/plain": [
              "array([[[ 5, 10],\n",
              "        [15, 20],\n",
              "        [25, 30]],\n",
              "\n",
              "       [[35, 40],\n",
              "        [45, 50],\n",
              "        [55, 60]],\n",
              "\n",
              "       [[65, 70],\n",
              "        [75, 80],\n",
              "        [85, 90]]])"
            ]
          },
          "metadata": {},
          "execution_count": 80
        }
      ]
    },
    {
      "cell_type": "code",
      "source": [],
      "metadata": {
        "id": "gHg_ILViUT9W"
      },
      "execution_count": null,
      "outputs": []
    }
  ]
}